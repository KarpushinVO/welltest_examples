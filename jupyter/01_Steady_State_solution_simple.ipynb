{
 "cells": [
  {
   "cell_type": "markdown",
   "id": "southeast-ticket",
   "metadata": {},
   "source": [
    "# Построение простого стационарного решения уравнения фильтрации\n",
    "\n",
    "Материалы курсов \"Исследования скважин и пластов\" и \"Гидродинамические исследования скважин\" \n",
    "\n",
    "Хабибуллин Ринат 2021 г."
   ]
  },
  {
   "cell_type": "markdown",
   "id": "furnished-genome",
   "metadata": {},
   "source": [
    "Простое решение имеет вид\n",
    "$$Q=\\dfrac{kh}{18.41\\mu B} \\dfrac{P_{res}-P_{wf}}{ln(\\dfrac{r_e}{r_w})}$$\n",
    "\n",
    "Это решение известно как закон Дарси или формула Дюпюи\n",
    "\n",
    "Его можно переписать в виде\n",
    "\n",
    "$$P_{wf} = P_{res} - 18.41\\dfrac{ Q\\mu B }{kh}ln(\\dfrac{r_e}{r_w})$$"
   ]
  },
  {
   "cell_type": "code",
   "execution_count": 1,
   "id": "invalid-calculator",
   "metadata": {},
   "outputs": [],
   "source": [
    "import numpy as np\n",
    "import matplotlib.pyplot as plt"
   ]
  },
  {
   "cell_type": "code",
   "execution_count": 2,
   "id": "valued-substance",
   "metadata": {},
   "outputs": [],
   "source": [
    "def p_wf_ss_atma(p_res_atma = 250,\n",
    "                 q_liq_sm3day = 50,\n",
    "                 mu_cP = 1,\n",
    "                 B_m3m3 = 1.2,\n",
    "                 k_mD = 40,\n",
    "                 h_m = 10,\n",
    "                 r_e = 240,\n",
    "                 r = 0.1):\n",
    "  \"\"\"\n",
    "  функция расчета давления в произвольной точке пласта для стационарного решения \n",
    "  уравнения фильтрации \n",
    "  p_res_atma - пластовое давление, давление на контуре питания\n",
    "  q_liq_sm3day - дебит жидкости на поверхности в стандартных условиях\n",
    "  mu_cP - вязкость нефти (в пластовых условиях)\n",
    "  B_m3m3 - объемный коэффициент нефти \n",
    "  k_mD - проницаемость пласта\n",
    "  h_m - мощность пласта\n",
    "  r_e - радиус контрура питания \n",
    "  r - расстояние на котором проводится расчет\n",
    "  \"\"\"\n",
    "  return p_res_atma - 18.41 * q_liq_sm3day*mu_cP*B_m3m3/k_mD/h_m * np.log(r_e/r)\n"
   ]
  },
  {
   "cell_type": "code",
   "execution_count": 5,
   "id": "leading-fortune",
   "metadata": {},
   "outputs": [
    {
     "data": {
      "image/png": "[encoded data removed]",
      "text/plain": [
       "<Figure size 432x288 with 1 Axes>"
      ]
     },
     "metadata": {
      "needs_background": "light"
     },
     "output_type": "display_data"
    }
   ],
   "source": [
    "r = np.arange(0.1, 100, 1)\n",
    "\n",
    "plt.plot(r, p_wf_ss_atma(r=r))\n",
    "plt.show()"
   ]
  }
 ],
 "metadata": {
  "kernelspec": {
   "display_name": "Python 3",
   "language": "python",
   "name": "python3"
  },
  "language_info": {
   "codemirror_mode": {
    "name": "ipython",
    "version": 3
   },
   "file_extension": ".py",
   "mimetype": "text/x-python",
   "name": "python",
   "nbconvert_exporter": "python",
   "pygments_lexer": "ipython3",
   "version": "3.9.2"
  }
 },
 "nbformat": 4,
 "nbformat_minor": 5
}
