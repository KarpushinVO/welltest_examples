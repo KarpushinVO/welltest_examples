{
 "cells": [
  {
   "cell_type": "markdown",
   "metadata": {},
   "source": [
    "# Построение простого стационарного решения уравнения фильтрации\n",
    "\n",
    "Материалы курсов \"Исследования скважин и пластов\" и \"Гидродинамические исследования скважин\" в РГУ нефти и газа имени И.М.Губкина.\n",
    "\n",
    "Хабибуллин Ринат 2021 г."
   ]
  },
  {
   "cell_type": "markdown",
   "metadata": {},
   "source": [
    "Простое решение имеет вид\n",
    "$$Q=\\dfrac{kh}{18.41\\mu B} \\dfrac{P_{res}-P_{wf}}{ln(\\dfrac{r_e}{r_w})}$$\n",
    "\n",
    "Это решение известно как закон Дарси или формула Дюпюи\n",
    "\n",
    "Его можно переписать в виде\n",
    "\n",
    "$$P_{wf} = P_{res} - 18.41\\dfrac{ Q\\mu B }{kh}ln(\\dfrac{r_e}{r_w})$$"
   ]
  },
  {
   "cell_type": "code",
   "execution_count": 1,
   "metadata": {},
   "outputs": [],
   "source": [
    "import numpy as np\n",
    "import matplotlib.pyplot as plt"
   ]
  },
  {
   "cell_type": "markdown",
   "metadata": {},
   "source": [
    "## Определение функции для использования в дальнейших расчетах\n",
    "\n",
    "Название функции формируется по следующим принципам\n",
    "* сначала указывается, что расчитывается в функции, в данном случае - давление $p$\n",
    "* потом указываются пояснения - в данном случае p_ss - steady state pressure\n",
    "* в конце указывается размерность в которой ожидается получаение ответа - в данном случае atma - абсолютные атмосферы"
   ]
  },
  {
   "cell_type": "code",
   "execution_count": 2,
   "metadata": {},
   "outputs": [],
   "source": [
    "def p_ss_atma(p_res_atma = 250,\n",
    "                 q_liq_sm3day = 50,\n",
    "                 mu_cP = 1,\n",
    "                 B_m3m3 = 1.2,\n",
    "                 k_mD = 40,\n",
    "                 h_m = 10,\n",
    "                 r_e = 240,\n",
    "                 r = 0.1):\n",
    "  \"\"\"\n",
    "  функция расчета давления в произвольной точке пласта для стационарного решения \n",
    "  уравнения фильтрации \n",
    "  p_res_atma - пластовое давление, давление на контуре питания\n",
    "  q_liq_sm3day - дебит жидкости на поверхности в стандартных условиях\n",
    "  mu_cP - вязкость нефти (в пластовых условиях)\n",
    "  B_m3m3 - объемный коэффициент нефти \n",
    "  k_mD - проницаемость пласта\n",
    "  h_m - мощность пласта\n",
    "  r_e - радиус контрура питания \n",
    "  r - расстояние на котором проводится расчет\n",
    "  \"\"\"\n",
    "  return p_res_atma - 18.41 * q_liq_sm3day*mu_cP*B_m3m3/k_mD/h_m * np.log(r_e/r)\n"
   ]
  },
  {
   "cell_type": "markdown",
   "metadata": {},
   "source": [
    "## Построение графика с использованием **matplotlib**\n",
    "\n",
    "Самый простой пример построения графика - использование библиотеки matplotlib.\n",
    "\n",
    "Для формирования графика требуется создать два массива значений - x и y и отобразить их. Для формирования массива используются методы библиотеки numpy."
   ]
  },
  {
   "cell_type": "code",
   "execution_count": 4,
   "metadata": {},
   "outputs": [
    {
     "data": {
      "image/png": "[encoded data removed]",
      "text/plain": [
       "<Figure size 432x288 with 1 Axes>"
      ]
     },
     "metadata": {
      "needs_background": "light"
     },
     "output_type": "display_data"
    }
   ],
   "source": [
    "r = np.arange(0.1, 100, 1)\n",
    "\n",
    "plt.plot(r, p_ss_atma(r=r))\n",
    "plt.show()"
   ]
  },
  {
   "cell_type": "markdown",
   "metadata": {},
   "source": [
    "График можно улучшать и настраивать - дать название графику и осям, изменить подписи к осям, изменить цветовую схему. Для настройки графика воспользуйтесь поиском в интернете."
   ]
  },
  {
   "cell_type": "markdown",
   "metadata": {},
   "source": [
    "# Задания для самостоятельной работы\n",
    "\n",
    "Для совершенствования навыков работы с python выполните следующие задания:\n",
    "\n",
    "1. Постройте график распределения давления в пласте для композитного пласта. В композитном пласте на расстоянии $r<r_1$ проницаемость равна $k=k_1$, а для $r>=r_1$, $k=k_2$. \n",
    "2. Постройте двумерную тепловую карту распределения давления в пласте для моделей однородного пласта и композитного пласта. \n",
    "3. Рассчитайте среднюю величину давления в круговой области дренирования для однородного пласта. Насколько среднее давление в круговой области дренирования будет отличаться от давления на контуре. Чему будет равен коэффициент $S$ в выражении  $Q=\\dfrac{kh}{18.41\\mu B} \\dfrac{P_{res}-P_{wf}}{ln(\\dfrac{r_e}{r_w})+S}$ при использовании вместо давления на контуре среднего давления? Постройте график, на котором будет отображаться распределение давления в зоне дренирования и величина среднего давления (в виде линии).\n"
   ]
  },
  {
   "cell_type": "code",
   "execution_count": null,
   "metadata": {},
   "outputs": [],
   "source": []
  }
 ],
 "metadata": {
  "kernelspec": {
   "display_name": "Python 3",
   "language": "python",
   "name": "python3"
  },
  "language_info": {
   "codemirror_mode": {
    "name": "ipython",
    "version": 3
   },
   "file_extension": ".py",
   "mimetype": "text/x-python",
   "name": "python",
   "nbconvert_exporter": "python",
   "pygments_lexer": "ipython3",
   "version": "3.8.5"
  }
 },
 "nbformat": 4,
 "nbformat_minor": 5
}
