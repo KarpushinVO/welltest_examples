{
 "cells": [
  {
   "cell_type": "markdown",
   "metadata": {},
   "source": [
    "# Построение простого нестационарного решения уравнения фильтрации\n",
    "\n",
    "Материалы курсов \"Исследования скважин и пластов\" и \"Гидродинамические исследования скважин\" в РГУ нефти и газа имени И.М.Губкина.\n",
    "\n",
    "Версия 0.2 от 11.10.2021\n",
    "\n",
    "Хабибуллин Ринат 2021 г.\n",
    "\n",
    "---"
   ]
  },
  {
   "cell_type": "code",
   "execution_count": 1,
   "metadata": {},
   "outputs": [],
   "source": [
    "# импортируем библиотеки для расчетов\n",
    "\n",
    "# numpy используем для работы с массивами и подготовки данных для построения графиков. \n",
    "# Также в некоторых функциях используем возможности векторных расчетов numpy\n",
    "import numpy as np\n",
    "# matplotlib используем для построения графиков\n",
    "import matplotlib.pyplot as plt\n",
    "\n",
    "# mpmath используем для расчета спец фукнций и математических операций\n",
    "from mpmath import *\n",
    "mp.dps = 5;          # здесь задаем желаемую точность расчетов mpmath (количество знаков после запятой)\n",
    "mp.pretty = True      # здесь задаем вывод функций mpmath в виде чисел а не объетов\n",
    "\n",
    "# scipy.special используем как альтернативный вариант расчета специальных функций\n",
    "import scipy.special as sc"
   ]
  },
  {
   "cell_type": "markdown",
   "metadata": {},
   "source": [
    "Для установившегося режима фильтрации давление в пласте не меняется. Для псевдо-установившегося режима постоянным остается перепад давления между пластом и забоем. После запуска, остановки или изменения режима работы скважины эти условия не выполняются. Давление в различных точках пласта может меняться по разному. Такой режим называют неустановившимся, а решения его описывающие нестационарными (зависят от времени)."
   ]
  },
  {
   "cell_type": "markdown",
   "metadata": {},
   "source": [
    "# 1. Простейшие решение нестационарного уравнения фильтрации\n",
    "\n",
    "Уравнение фильтрации описывает движение жидкости в пористой среде. В отечественной литературе часто называют уравнением пьезопроводности, в зарубежной можно встретить название уравнение диффузии (the diffusivity equation).\n",
    "\n",
    "## 1.1 Вывод уравнения фильтрации\n",
    "Уравнение фильтрации основано на трех основных уравнениях\n",
    "* законе сохранения массы\n",
    "* зависимости связывающей градиент давления с расходом, в простейшем виде это закон Дарси\n",
    "* уравнении состояния - зависимости связывающей сжимаемость флюида (и отчасти среды) и давлением\n",
    "\n",
    "Выпишем эти уравнения, чтобы разобраться. Ориентируемся в обозначениях и подходе на [1]. Особое внимание на данном этапе стоит обратить на размерные коэффициенты в уравнениях. С одной стороны записывая уравнения в [СИ] их можно упростить и избежать части сложностей с переводными коэффициентами. С другой стороны во многих источниках переводные коэффициенты интесивно используются и это оказывается удобно при программной реализации алгоритмов. В данном описании ориентируясь на [1] приведем перевод коэффициентов в практические метрические единицы.\n",
    "\n",
    "#### Закон сохранения массы\n",
    "\n",
    "В дифференциальной форме, для потока в направлении $x$\n",
    "\n",
    "$$ -f \\dfrac{\\partial \\rho q_x}{\\partial x} = A \\dfrac{\\partial(\\rho \\phi)}{\\partial t} $$\n",
    "\n",
    "где \n",
    "* $f$ - размерный коэффициент, для практических метрических единиц $f= 0.04167$, для американских промысловых $f = 0.23394$\n",
    "* $\\rho$ - плотность флюида, кг/м$^3$, lbm/ft$^3$\n",
    "* $q_x$ - объемный расход в направлении $x$, м$^3$/сут, bbl/day, учитываем для практических метрических единиц $1$ м$^3$/сут $= 0.04167$ м$^3$/час и для промысловых американских  $1$ bbl/day $= 0.23394$ ft$^3$/hr  \n",
    "* x - координата, м, ft\n",
    "* $\\phi$ - пористость, доли единиц\n",
    "* $t$ - время, часы\n",
    "* $A$ - площадь, м$^2$, ft$^2$ \n",
    "\n",
    "В перечне указаны размерности для промысловых метрических и американских промысловых единиц измерений, там где они отличаются.\n",
    "\n",
    "Для практических метрических единиц \n",
    "$$ -0.04167 \\dfrac{ \\partial (\\rho q_x) }{\\partial x} = A \\dfrac{\\partial(\\rho \\phi)}{\\partial t} $$\n",
    "\n",
    "\n",
    "#### Закон Дарси\n",
    "\n",
    "Простейшим вариантом задания зависимости между измением давления и потоком флюида является линейная зависимость - закон Дарси. При этом линейный множитель - функция как коллектора (проницаемость), так и свойств флюида (вязкость).\n",
    "\n",
    "Закон Дарси в направлении $x$.\n",
    "$$ q_x = -  \\dfrac{k_x A}{f\\mu} \\dfrac{\\partial p}{\\partial x} $$\n",
    "\n",
    "где \n",
    "* $f$ - размерный коэффициент, для практических метрических единиц $f= 115.74$, для американских промысловых $f = 887.2$\n",
    "* $k_x$ - проницаемость в направлении движения потока, мД\n",
    "* $A$ - площадь, м$^2$, ft$^2$ \n",
    "* $\\mu$ - динамическая вязкость, сП\n",
    "* $p$ - давление, атм, psi\n",
    "* $x$ - координата движения потока, м\n",
    "\n",
    "В практических метрических единицах измерения \n",
    "$$ q_x = -  \\dfrac{k_x A}{115.74\\mu} \\dfrac{\\partial p}{\\partial x} $$\n",
    "\n",
    "Пытаясь проверить корректность вывода переводных коэффициентов необходимо учесть что для единиц измерение СИ получим $f=1$, а необходимые переводные коэффициенты можно записать как:\n",
    "* $q$: $1$ [м$^3$/сек] = $543439$ [bbl/day] = $86400$ [м$^3$/сут]\n",
    "* $k$: $1$ [м$^2$] = $1.01325 \\cdot 10^{15}$ [мД]\n",
    "* $\\mu$: $1$ [Па$\\cdot$с] = $1000$ [сП]\n",
    "* $p$: $1$ [Па] = $0.0001450$ [psi] = $0.00000987$ [атм] \n",
    "* $x$: $1$ [м] = $3.28$ [ft] \n",
    "* $A$: $1$ [м$^2$] = $10.76$ [ft$^2$]\n",
    "\n",
    "#### Уравнение состояния\n",
    "В простейшем варианте, который мы будет изучать, предполагается, что сжимаемость постоянна и мала \n",
    "\n",
    "$$c_t = c_{formation} + c_{fluid} = const$$\n",
    "\n",
    "* $c_t$ - общая сжимаемость (total compressibility)\n",
    "* $c_{formation}$ - сжимаемость породы (formation compressibility),  $c_{formation} = \\dfrac{1}{\\phi}\\dfrac{\\partial \\phi}{\\partial p}$\n",
    "* $c_{fluid}$ - сжимаемость флюида (fluid compressibility), $c_{fluid} = \\dfrac{1}{\\rho}\\dfrac{\\partial \\rho}{\\partial p}$\n",
    "\n",
    "#### Уравнение фильтрации\n",
    "Подставим выражение для закона Дарси в уравнение мат баланса\n",
    "\n",
    "$$ 0.04167 \\dfrac{ \\partial}{\\partial x} { \\left[ \\rho   \\dfrac{k_x A}{115.74\\mu} \\dfrac{\\partial p}{\\partial x} \\right] } = A \\dfrac{\\partial(\\rho \\phi)}{\\partial t}  $$\n",
    "\n",
    "Упрощая получим\n",
    "\n",
    "$$ \\frac{\\partial (\\rho \\phi)}{\\partial t} = 0.00036 k_x \\dfrac{ \\partial}{\\partial x}\\left[ \\dfrac{\\rho}{\\mu}\\dfrac{\\partial p}{\\partial x} \\right] $$\n",
    "\n",
    "Это уравнение подходит для потока газа. Для жидкости, предполагая малую сжимаемость флюида можно его упростить до вида\n",
    "\n",
    "$$ \\frac{\\partial p}{\\partial t} = 0.00036 \\dfrac{k_x}{\\phi \\mu c_t} \\dfrac{ \\partial^2 p}{\\partial x^2} $$\n",
    "\n",
    "Напомним, здесь\n",
    "* $p$ - давление, атм\n",
    "* $t$ - время, час\n",
    "* $k_x$ - проницаемость в направлении движения потока, мД\n",
    "* $\\mu$ - динамическая вязкость, сП\n",
    "* $\\phi$ - пористость, д.е.\n",
    "* $c_t$ - сжимаемость, 1/атм\n",
    "* $x$ - расстояние, м\n",
    "\n",
    "Приведенное уравнение соответствует линейному потоку в пласте. Практический интерес представляет решение для радиального потока\n",
    "\n",
    "$$ \\frac{\\partial p}{\\partial t} = 0.00036 \\dfrac{k}{\\phi \\mu c_t} \\dfrac{1}{r} \\left[ \\dfrac{\\partial}{\\partial r} \\left( r \\dfrac{ \\partial p} {\\partial r} \\right) \\right]  $$\n",
    "\n",
    "Напомним, здесь\n",
    "* $p$ - давление, атм\n",
    "* $t$ - время, час\n",
    "* $k_x$ - проницаемость в направлении движения потока, мД\n",
    "* $\\mu$ - динамическая вязкость, сП\n",
    "* $\\phi$ - пористость, д.е.\n",
    "* $c_t$ - сжимаемость, 1/атм\n",
    "* $r$ - расстояние от центра, м"
   ]
  },
  {
   "cell_type": "markdown",
   "metadata": {},
   "source": [
    "## 1.2 Уравнение фильтрации в безразмерных переменных \n",
    "\n",
    "Часто для анализа уравнений неустановившейся фильтрации используются безразмерные переменные. Мы будем использовать переменные в виде:\n",
    "\n",
    "$$ r_D = \\frac{r}{r_w} $$\n",
    "$$ t_D = \\frac{0.00036 kt}{\\phi \\mu c_t r_w^2}$$\n",
    "$$ p_D = \\frac{kh}{ 18.41 q_s B \\mu} \\left( p_i - p \\right) $$\n",
    "\n",
    "Здесь использование единицы измерения СИ.\n",
    "* $r_w$ - радиус скважины, м\n",
    "* $r$ - расстояние от центра скважины до точки в пласте, м\n",
    "* $q_s$ - дебит скважины на поверхности, приведенный к нормальным условиям м3/сут\n",
    "* $\\phi$ - пористость, доли единиц\n",
    "* $\\mu$ - вязкость нефти в пласте, сП\n",
    "* $B$ - объемный коэффициент нефти, м3/м3\n",
    "* $p_i$ - начальное давление в пласте, атм\n",
    "* $p$ - давление на расстоянии $r$, атм\n",
    "* $c_t$ - общая сжимаемость системы в пласте, 1/атм\n",
    "\n"
   ]
  },
  {
   "cell_type": "code",
   "execution_count": 2,
   "metadata": {},
   "outputs": [],
   "source": [
    "# определим функции для перевода размерных переменных в безразмерные и обратно\n",
    "# пригодится потом для построения графиков и ведения расчетов\n",
    "\n",
    "# при наименовании функций придерживаемся следующих соглашений\n",
    "# сначала идет название того, что считаем\n",
    "# в конце указывается размерность результата, если это уместно\n",
    "\n",
    "def r_from_rd_m(rd, rw_m=0.1):\n",
    "    \"\"\"\n",
    "    перевод безразмерного расстояния в размерное\n",
    "    rd -  безразмерное расстояние\n",
    "    rw_m -  радиус скважины, м\n",
    "    \"\"\"\n",
    "    return rd*rw_m\n",
    "\n",
    "def rd_from_r(r_m, rw_m=0.1):\n",
    "    \"\"\"\n",
    "    перевод размерного расстояния в безразмерное\n",
    "    r_m - размерное расстояние, м\n",
    "    rw_m - радиус скважины, м\n",
    "    \"\"\"\n",
    "    return r_m/rw_m\n",
    "\n",
    "def t_from_td_hr(td, k_mD=10, phi=0.2, mu_cP=1, ct_1atm=1e-5, rw_m=0.1):\n",
    "    \"\"\"\n",
    "    перевод безразмерного времени в размерное, результат в часах\n",
    "    td - безразмерное время\n",
    "    k_mD - проницаемость пласта, мД\n",
    "    phi - пористость, доли единиц\n",
    "    mu_cP - динамическая вязкость флюида, сП\n",
    "    ct_1atm - общая сжимаемость, 1/атм\n",
    "    rw_m - радиус скважины, м\n",
    "    \"\"\"\n",
    "    return td * phi * mu_cP * ct_1atm * rw_m * rw_m / k_mD / 0.00036\n",
    "\n",
    "def td_from_t(t_hr, k_mD=10, phi=0.2, mu_cP=1, ct_1atm=1e-5, rw_m=0.1):\n",
    "    \"\"\"\n",
    "    перевод размерного времени в безразмерное\n",
    "    t_hr - размерное время, час\n",
    "    k_mD - проницаемость пласта, мД\n",
    "    phi - пористость, доли единиц\n",
    "    mu_cP - динамическая вязкость флюида, сП\n",
    "    ct_1atm - общая сжимаемость, 1/атм\n",
    "    rw_m - радиус скважины, м\n",
    "    \"\"\"\n",
    "    return  0.00036 * t_hr * k_mD / (phi * mu_cP * ct_1atm * rw_m * rw_m) \n",
    "\n",
    "def p_from_pd_atma(pd, k_mD=10, h_m=10, q_sm3day=20, b_m3m3=1.2, mu_cP=1, pi_atma=250):\n",
    "    \"\"\"\n",
    "    перевод безразмерного давления в размерное, результат в абсолютных атмосферах\n",
    "    pd - безразмерное давление\n",
    "    k_mD - проницаемость пласта, мД\n",
    "    h_m - мощность пласта, м\n",
    "    q_sm3day - дебит на поверхности, м3/сут в с.у.\n",
    "    fvf_m3m3 - объемный коэффициент нефти, м3/м3\n",
    "    mu_cP - динамическая вязкость флюида, сП\n",
    "    pi_atma - начальное давление, абсолютные атм.\n",
    "    \"\"\"\n",
    "    return pi_atma - pd * 18.41 * q_sm3day * b_m3m3 * mu_cP / k_mD / h_m \n",
    "\n",
    "def pd_from_p(p_atma, k_mD=10, h_m=10, q_sm3day=20, b_m3m3=1.2, mu_cP=1, pi_atma=250):\n",
    "    \"\"\"\n",
    "    перевод размерного давления в безразмерное\n",
    "    p_atma - давление\n",
    "    k_mD - проницаемость пласта, мД\n",
    "    h_m - мощность пласта, м\n",
    "    q_sm3day - дебит на поверхности, м3/сут в с.у.\n",
    "    fvf_m3m3 - объемный коэффициент нефти, м3/м3\n",
    "    mu_cP - динамическая вязкость флюида, сП\n",
    "    pi_atma - начальное давление, абсолютные атм.\n",
    "    \"\"\"\n",
    "    return (pi_atma - p_atma) / (18.41 * q_sm3day * b_m3m3 * mu_cP) * k_mD * h_m "
   ]
  },
  {
   "cell_type": "markdown",
   "metadata": {},
   "source": [
    "Использование безразмерных переменных позволяет упростить уравнение фильтрации, которое примет вид\n",
    "\n",
    "$$ \\frac{\\partial p_D}{ \\partial t_D} = \\dfrac{1}{r_D} \\left[ \\dfrac{\\partial}{\\partial r_D} \\left( r_D \\dfrac{ \\partial p_D} {\\partial r_D} \\right) \\right] $$\n",
    "\n",
    "Решение этого уравнения - функция безразмерного давления от безразмерных времени и расстояния $p_D(r_D, t_D) $\n"
   ]
  },
  {
   "cell_type": "markdown",
   "metadata": {},
   "source": [
    "## 1.3 Решение линейного стока\n",
    "Для решения уравнения фильтрации - линейного дифференциального уравнения в частных производных второго порядка необходимо задать начальные и граничные условия.\n",
    "Самое простое решение можно получить для случая вертикальной скважины бесконечно малого радиуса запускающейся с постоянным дебитом. Условия соответствующие этому случаю можно выразить следующим образом\n",
    "\n",
    "* начальное условие. До запуска скважины в момент времени  $t_D = 0$ давление в пласте равно начальному во всех точках $p=p_i$\n",
    "$$ t_D < 0, p_D = 0 $$\n",
    "\n",
    "* условие постоянства дебита на скважине - граничное условие на скважине\n",
    "$$ \\lim_{r_D \\to 0} {r_D \\frac{\\partial p_D}{\\partial r_D}} = -1$$\n",
    "\n",
    "* условие на бесконечном расстоянии возмущения от скважине нет\n",
    "$$ r_D = \\infty, p_D = 0$$\n",
    "\n",
    "В этом случае решение может быть выражено через функцию интегральной экспоненты\n",
    "$$ p_D(r_D,t_D) = - \\frac{1}{2} Ei \\left(- \\dfrac{ r_D^2}{4t_d} \\right)$$\n",
    "\n",
    "где -Ei(-x) - интегральная показательная функция.\n",
    "\n",
    "$$Ei(x)=-\\int\\limits_{x}^{\\infty}\\frac{e^{-t}}{t}\\,\\mathrm dt=\\gamma+\\operatorname{ln}|-x|+\\sum\\limits_{n\\ge1}\\frac{{-x}^n}{n!\\cdot n}, \\;  x\\in\\mathbb R,\\; (1)$$\n"
   ]
  },
  {
   "cell_type": "markdown",
   "metadata": {},
   "source": [
    "### 1.3.1 Функция интегральной экспоненты Ei\n",
    "\n",
    "Для расчета значений функции Ei можно использовать библиотеки scipy.special или mpmath. Первый вариант быстрее, второй поддерживает вычисления с произвольной точностью и позволяет использовать больше возможностей при математических расчетах, например рассчитывать численные обратные преобразования лапласа."
   ]
  },
  {
   "cell_type": "markdown",
   "metadata": {},
   "source": [
    "#### Построение графика функции Ei"
   ]
  },
  {
   "cell_type": "code",
   "execution_count": 3,
   "metadata": {},
   "outputs": [
    {
     "data": {
      "image/png": "[encoded data removed]",
      "text/plain": [
       "<Figure size 432x288 with 1 Axes>"
      ]
     },
     "metadata": {
      "needs_background": "light"
     },
     "output_type": "display_data"
    }
   ],
   "source": [
    "# для скорости и удобства используем sc.expi\n",
    "\n",
    "x = np.arange(1e-5,3,0.01)\n",
    "\n",
    "x1 = np.arange(-3,-1e-5,0.01)\n",
    "\n",
    "plt.plot(x, sc.expi(x))\n",
    "plt.plot(x1, sc.expi(x1))\n",
    "plt.title(\"График функции Ei\")\n",
    "plt.xlabel(\"x\")\n",
    "plt.ylabel(\"Ei(x)\")\n",
    "plt.show()"
   ]
  },
  {
   "cell_type": "markdown",
   "metadata": {},
   "source": [
    "Если кому то нужны дополнительный баллы, то хорошо бы было сделать красивое отображение графика функции Ei (чтобы это ни значило)"
   ]
  },
  {
   "cell_type": "markdown",
   "metadata": {},
   "source": [
    "Для нас практический интерес будет представлять часть графика для отрицательных значений около нуля (красная линия). Для этой области хорошо работает логарифмическая аппроксимация.\n",
    "\n",
    "Опять же, если кому то нужны дополнительные баллы, то хорошо бы нарисовать графики с логарифмической аппроксимацией на которых была бы показана граница логарифмической аппроксимации"
   ]
  },
  {
   "cell_type": "markdown",
   "metadata": {},
   "source": [
    "### 1.3.2 Решение линейного стока \n",
    "\n",
    "Решение линейного стока (с бесконечно малым радиусом скважины) можно представить в виде.\n",
    "\n",
    "$$ p_D(r_D,t_D) = - \\frac{1}{2} Ei \\left(- \\dfrac{ r_D^2}{4t_d} \\right)$$"
   ]
  },
  {
   "cell_type": "code",
   "execution_count": 4,
   "metadata": {},
   "outputs": [],
   "source": [
    "# Решение линейного стока уравнения фильтрации\n",
    "def pd_ei(td, rd):\n",
    "    \"\"\"\n",
    "    Решение линейного стока уравнения фильтрации\n",
    "    rd - безразмерное расстояние\n",
    "    td - безразмерное время\n",
    "    \"\"\"\n",
    "    return -1/2*sc.expi(-rd**2 / 4 / td)"
   ]
  },
  {
   "cell_type": "markdown",
   "metadata": {},
   "source": [
    "#### Построение графика решения от расстояния для произвольного момента времени в безразмерных координатах\n",
    "\n",
    "Пример показывает как построить распределение давления для заданного момента времени. Помните что тут безразмерное давление и время. "
   ]
  },
  {
   "cell_type": "code",
   "execution_count": 5,
   "metadata": {},
   "outputs": [
    {
     "data": {
      "image/png": "[encoded data removed]",
      "text/plain": [
       "<Figure size 432x288 with 1 Axes>"
      ]
     },
     "metadata": {
      "needs_background": "light"
     },
     "output_type": "display_data"
    }
   ],
   "source": [
    "td = 1000\n",
    "rd_arr = np.arange(1, 1000, 1)\n",
    "# при построении используем векторный расчет\n",
    "plt.plot(rd_arr, pd_ei(td, rd_arr) )\n",
    "plt.title(\"Решение уравнения линейного стока для td = {}\".format(td))\n",
    "plt.xlabel(\"rd\")\n",
    "plt.ylabel(\"pd\")\n",
    "plt.show()"
   ]
  },
  {
   "cell_type": "markdown",
   "metadata": {},
   "source": [
    "#### Построение графика решения от расстояния для произвольного момента времени в размерных координатах"
   ]
  },
  {
   "cell_type": "code",
   "execution_count": 6,
   "metadata": {},
   "outputs": [
    {
     "data": {
      "image/png": "[encoded data removed]",
      "text/plain": [
       "<Figure size 432x288 with 1 Axes>"
      ]
     },
     "metadata": {
      "needs_background": "light"
     },
     "output_type": "display_data"
    }
   ],
   "source": [
    "# построим решение для размерных величин\n",
    "# при переводе величин в размерные полагаемся на значения параметров по умолчанию заданные \n",
    "# при определении переводных функций\n",
    "td = 100000\n",
    "rd_arr = np.arange(1, 1000, 1)\n",
    "# для нагладности проведем преобразования в отдельные переменные. можно было сделать и на месте\n",
    "# все преобразования и расчеты делаются векторно за счет использования numpy\n",
    "r_arr = r_from_rd_m(rd_arr)\n",
    "p_arr = p_from_pd_atma(pd_ei(td,rd_arr))\n",
    "plt.plot(r_arr, p_arr )\n",
    "plt.title(\"Воронка депрессии для момента времени t={:.2f} часа\".format(t_from_td_hr(td)))\n",
    "plt.xlabel(\"r, m\")\n",
    "plt.ylabel(\"p, atm\")\n",
    "plt.show()"
   ]
  },
  {
   "cell_type": "markdown",
   "metadata": {},
   "source": [
    "Хорошо видна воронка депрессии. Если изменить значение времени и перестроить график можно убедиться, что решение будет меняться и воронка депресси будет менять свой размер. Убедиться в этом можно построить сразу много графиков"
   ]
  },
  {
   "cell_type": "markdown",
   "metadata": {},
   "source": [
    "#### Сразу много решений для разных моментов времени\n",
    "\n",
    "Мы можем зациклить расчет распределений давления, и сформировать много кривых на графике matplotlib и потом отобразить их. Получится прикольная картинка."
   ]
  },
  {
   "cell_type": "code",
   "execution_count": 7,
   "metadata": {},
   "outputs": [
    {
     "data": {
      "image/png": "[encoded data removed]",
      "text/plain": [
       "<Figure size 432x288 with 1 Axes>"
      ]
     },
     "metadata": {
      "needs_background": "light"
     },
     "output_type": "display_data"
    }
   ],
   "source": [
    "# Пример построения сразу нескольких решений на одном графике\n",
    "# Зададим массив (итератор) определяющий количество графиков которые мы хотим построить\n",
    "n=np.arange(1,100,1)\n",
    "# зададим диапазон изменения расстояний и количество точек для которых строятся кривые\n",
    "r_arr_m = np.arange(1, 1000, 1)\n",
    "\n",
    "# цикл расчета. Полезно понимать тут, что функция Ei будет вызываться число раз равное\n",
    "# произведению количества графиков на количество точек. \n",
    "# для сложных функций это время может оказаться достаточно заметным\n",
    "for i in n:\n",
    "    t_hr = 1*i\n",
    "      # здесь используем расчет заполнения массива с использованием итератора python - \n",
    "      # не самый быстрый вариант для этой функции, но работает\n",
    "    plt.plot(r_arr_m, [p_from_pd_atma(pd_ei(td_from_t(t_hr), rdi)) for rdi in rd_from_r(r_arr_m)])\n",
    "plt.title(\"Воронка депрессии для разных моментов времени\")\n",
    "plt.xlabel(\"r, m\")\n",
    "plt.ylabel(\"p, atm\")\n",
    "plt.show()"
   ]
  },
  {
   "cell_type": "markdown",
   "metadata": {},
   "source": [
    "На графике можно заметить, что со временем воронка депрессии расширяется. Это позволяет ввести понятие радиуса влияния скважины, которое будет обсуждаться позднее."
   ]
  },
  {
   "cell_type": "markdown",
   "metadata": {},
   "source": [
    "# Задания для самостоятельной работы\n",
    "\n",
    "Для совершенствования навыков работы с python выполните следующие задания:\n",
    "\n",
    "1. Постройте график распределения давления в пласте для композитного пласта. В композитном пласте на расстоянии $r<r_1$ проницаемость равна $k=k_1$, а для $r>=r_1$, $k=k_2$. Как будет меняться воронка депрессии в таком пласте со временем?\n",
    "2. Постройте двумерную тепловую карту распределения давления в пласте для моделей однородного пласта и композитного пласта. \n",
    "3. Постройте график зависимости радиуса влияния скважины от времени."
   ]
  },
  {
   "cell_type": "markdown",
   "metadata": {},
   "source": [
    "# Список литературы\n",
    "\n",
    "1. Kappa. Dynamic Data Analysis. The theory and practice of pressure transient, production analysis, well performance analysis, production logging and the use of permanent downhole gauge data. v4.12.02 Olivier Houze, Didier Viturat, Ole S. Fjare (et al)"
   ]
  }
 ],
 "metadata": {
  "kernelspec": {
   "display_name": "Python 3",
   "language": "python",
   "name": "python3"
  },
  "language_info": {
   "codemirror_mode": {
    "name": "ipython",
    "version": 3
   },
   "file_extension": ".py",
   "mimetype": "text/x-python",
   "name": "python",
   "nbconvert_exporter": "python",
   "pygments_lexer": "ipython3",
   "version": "3.9.2"
  }
 },
 "nbformat": 4,
 "nbformat_minor": 4
}
