{
 "cells": [
  {
   "cell_type": "markdown",
   "metadata": {},
   "source": [
    "# Построение простого нестационарного решения уравнения фильтрации на основе решения в пространстве Лапласа\n",
    "\n",
    "Материалы курсов \"Исследования скважин и пластов\" и \"Гидродинамические исследования скважин\" в РГУ нефти и газа имени И.М.Губкина.\n",
    "\n",
    "Хабибуллин Ринат 2021 г."
   ]
  },
  {
   "cell_type": "markdown",
   "metadata": {},
   "source": [
    "Рассматривается уравнение фильтрации в безразмерных переменных \n",
    "\n",
    "$$ \\frac{\\partial p_D}{ \\partial t_D} = \\frac{1}{r_D} \\frac{ \\partial{ \\left( r_D \\dfrac{\\partial p_D}{ \\partial r_D} \\right) } }{ \\partial{r_D} } $$\n",
    "\n",
    "где введены следующие безразмерные переменные\n",
    "* $r_D$ - безразмерное расстояние от центра скважины\n",
    "* $t_D$ - безразмерное время\n",
    "* $p_D$ - безразмерное давление\n",
    "\n",
    "Соответствующие определения безразмерных переменных\n",
    "\n",
    "$$ r_D = \\frac{r}{r_w} $$\n",
    "$$ t_D = \\frac{0.00036 kt}{\\phi \\mu c_t r_w^2}$$\n",
    "$$ p_D = \\frac{kh}{ 18.41 q_s B \\mu} \\left( p_i - p_{wf} \\right) $$\n",
    "\n",
    "где в свою очередь \n",
    "* $q_s$ - дебит скважины на поверхности, приведенный к нормальным условиям м3/сут\n",
    "* $\\phi$ - пористость, доли единиц\n",
    "* $\\mu$ - вязкость нефти в пласте, сП\n",
    "* $B$ - объемный коэффициент нефти, м3/м3\n",
    "* $p_i$ - начальное давление в пласте, атм\n",
    "* $p_{wf}$ - давление забойное, атм\n",
    "* $c_t$ - общая сжимаемость системы в пласте, 1/атм"
   ]
  },
  {
   "cell_type": "markdown",
   "metadata": {},
   "source": [
    "Решение такого уравнение может быть получено с использованием <a href=\"https://ru.wikipedia.org/wiki/%D0%9F%D1%80%D0%B5%D0%BE%D0%B1%D1%80%D0%B0%D0%B7%D0%BE%D0%B2%D0%B0%D0%BD%D0%B8%D0%B5_%D0%9B%D0%B0%D0%BF%D0%BB%D0%B0%D1%81%D0%B0\"\n",
    "                        target=\"_blank\" rel=\"noreferrer noopener\">преобразования Лапласа</a>.\n",
    "\n",
    "$$ L \\left [ f(t) \\right] = \\tilde{f}(s) = \\int_{0}^{\\infty}f(t)e^{-st}dt $$\n",
    "\n",
    "где $s$ параметр пространства Лапласа соответствующий времени.\n",
    "\n",
    "Решение для бесконечно малого радиуса скважины в пространстве Лапласа будет иметь вид\n",
    "\n",
    "$$ \\tilde{p}_D(s) = \\frac{1}{s} K_0 \\left( r_D \\sqrt s  \\right) $$\n",
    "\n",
    "где \n",
    "\n",
    "$K_0$ - <a href=\"https://ru.wikipedia.org/wiki/%D0%9C%D0%BE%D0%B4%D0%B8%D1%84%D0%B8%D1%86%D0%B8%D1%80%D0%BE%D0%B2%D0%B0%D0%BD%D0%BD%D1%8B%D0%B5_%D1%84%D1%83%D0%BD%D0%BA%D1%86%D0%B8%D0%B8_%D0%91%D0%B5%D1%81%D1%81%D0%B5%D0%BB%D1%8F\"\n",
    "                        target=\"_blank\" rel=\"noreferrer noopener\">модифицированная функция Бесселя&nbsp;</a>\n",
    "                        \n",
    "Хотя решения в пространстве Лапласа относительно легко получить -- обратная процедура получения решения в исходных координатах на основе решения в пространстве Лапласа оказывается сложнее. Аналитически это не всегда удается сделать, чаще эту процедуру проводят численно. \n",
    "\n",
    "Для численного обратного преобразования Лапласа мы будет использовать библиотеку <a href=\"https://mpmath.org/doc/current/calculus/inverselaplace.html\"> mpmath </a>. Там же можно найти численную реализацию функций Бесселя"
   ]
  },
  {
   "cell_type": "code",
   "execution_count": 1,
   "metadata": {},
   "outputs": [],
   "source": [
    "# импортируем библиотки, которые могут пригодиться для проведения расчетов\n",
    "import numpy as np\n",
    "import matplotlib.pyplot as plt\n",
    "from mpmath import *\n",
    "mp.dps = 15; mp.pretty = True"
   ]
  },
  {
   "cell_type": "markdown",
   "metadata": {},
   "source": [
    "## Построение графика модифицированной функции Бесселя второго рода $K_0$"
   ]
  },
  {
   "cell_type": "code",
   "execution_count": 2,
   "metadata": {},
   "outputs": [
    {
     "name": "stdout",
     "output_type": "stream",
     "text": [
      "0.421024438240708\n",
      "1 ms ± 11.7 µs per loop (mean ± std. dev. of 7 runs, 1000 loops each)\n"
     ]
    }
   ],
   "source": [
    "# пример вызова расчета функции Бесселя\n",
    "print(besselk(0,1))\n",
    "%timeit besselk(0,1)"
   ]
  },
  {
   "cell_type": "markdown",
   "metadata": {},
   "source": [
    "Можно обратить внимание, что реализация расчетов с использованием mpmath относительно медленная. Например расчет с использованием функций scipy значительно быстрее, однако он не совместим с реализацией обратного преобразования Лапласа в пакете mpmath."
   ]
  },
  {
   "cell_type": "code",
   "execution_count": 3,
   "metadata": {},
   "outputs": [],
   "source": [
    "import scipy.special as sc"
   ]
  },
  {
   "cell_type": "code",
   "execution_count": 4,
   "metadata": {},
   "outputs": [
    {
     "name": "stdout",
     "output_type": "stream",
     "text": [
      "0.42102443824070834\n",
      "1.13 µs ± 15.1 ns per loop (mean ± std. dev. of 7 runs, 1000000 loops each)\n"
     ]
    }
   ],
   "source": [
    "# пример вызова расчета функции Бесселя с использованием пакета scipy\n",
    "print(sc.kn(0,1))\n",
    "%timeit sc.kn(0,1)"
   ]
  },
  {
   "cell_type": "markdown",
   "metadata": {},
   "source": [
    "Построение графика"
   ]
  },
  {
   "cell_type": "code",
   "execution_count": 5,
   "metadata": {},
   "outputs": [
    {
     "data": {
      "image/png": "[encoded data removed]",
      "text/plain": [
       "<Figure size 432x288 with 1 Axes>"
      ]
     },
     "metadata": {
      "needs_background": "light"
     },
     "output_type": "display_data"
    }
   ],
   "source": [
    "x = np.arange(1,10,0.1)\n",
    "y = [besselk(0, xi) for xi in x]\n",
    "\n",
    "plt.plot(x,y)\n",
    "plt.title(\"Bessel $K_0$ function\")\n",
    "plt.show()"
   ]
  },
  {
   "cell_type": "markdown",
   "metadata": {},
   "source": [
    "## Решение с использованием обратного преобразования Лапласа"
   ]
  },
  {
   "cell_type": "code",
   "execution_count": 6,
   "metadata": {},
   "outputs": [],
   "source": [
    "# решение линейного стока в пространстве Лапласа\n",
    "def pd_lapl(s, rd=1):\n",
    "  return 1/s * besselk(0, rd*s**0.5)"
   ]
  },
  {
   "cell_type": "code",
   "execution_count": 7,
   "metadata": {},
   "outputs": [
    {
     "name": "stdout",
     "output_type": "stream",
     "text": [
      "0.421024438240708\n"
     ]
    }
   ],
   "source": [
    "# пример расчета с использованием функции в пространстве Лапласа\n",
    "print(pd_lapl(1, 1))"
   ]
  },
  {
   "cell_type": "markdown",
   "metadata": {},
   "source": [
    "Для численного обратного преобразования Лапласа мы будет использовать библиотеку <a href=\"https://mpmath.org/doc/current/calculus/inverselaplace.html\"> mpmath </a>. Для этого используем функцию invertlaplace.\n",
    "\n",
    "для функции можно указать несколько аргументов. Первый `method` регулирует метод расчета. Традиционно при анализе гидродинамических исследований используется метод Стефеста. Именно он реализован в Excel версия расчетных модулей Unifloc VBA. В библиотеке mpmath реализованы и другие методы. Предствляет интерес исследование применимости различных методов с точки зрения скорости расчета, точности и применимости к различным решениям. По умолчанию используется `method='talbot'`. Второй аргумент `degree` регулирует желаемую точность расчета и заметно влияет на скорость проведения расчета."
   ]
  },
  {
   "cell_type": "code",
   "execution_count": 8,
   "metadata": {},
   "outputs": [
    {
     "data": {
      "text/plain": [
       "0.522141317221869"
      ]
     },
     "execution_count": 8,
     "metadata": {},
     "output_type": "execute_result"
    }
   ],
   "source": [
    "invertlaplace(pd_lapl,1,method='talbot')"
   ]
  },
  {
   "cell_type": "markdown",
   "metadata": {},
   "source": [
    "Оценим скорости проведения расчета\n"
   ]
  },
  {
   "cell_type": "code",
   "execution_count": 9,
   "metadata": {},
   "outputs": [
    {
     "name": "stdout",
     "output_type": "stream",
     "text": [
      "1.01 ms ± 7.15 µs per loop (mean ± std. dev. of 7 runs, 1000 loops each)\n"
     ]
    }
   ],
   "source": [
    "%timeit pd_lapl(1, 1)"
   ]
  },
  {
   "cell_type": "code",
   "execution_count": 10,
   "metadata": {},
   "outputs": [
    {
     "name": "stdout",
     "output_type": "stream",
     "text": [
      "101 ms ± 432 µs per loop (mean ± std. dev. of 7 runs, 10 loops each)\n"
     ]
    }
   ],
   "source": [
    "%timeit invertlaplace(pd_lapl,1,method='talbot')"
   ]
  },
  {
   "cell_type": "code",
   "execution_count": 11,
   "metadata": {},
   "outputs": [
    {
     "name": "stdout",
     "output_type": "stream",
     "text": [
      "7.41 ms ± 79.2 µs per loop (mean ± std. dev. of 7 runs, 100 loops each)\n",
      "18.2 ms ± 234 µs per loop (mean ± std. dev. of 7 runs, 100 loops each)\n",
      "31.5 ms ± 295 µs per loop (mean ± std. dev. of 7 runs, 10 loops each)\n"
     ]
    }
   ],
   "source": [
    "%timeit invertlaplace(pd_lapl,1,method='talbot', degree = 5)\n",
    "%timeit invertlaplace(pd_lapl,1,method='talbot', degree = 10)\n",
    "%timeit invertlaplace(pd_lapl,1,method='talbot', degree = 15)"
   ]
  },
  {
   "cell_type": "code",
   "execution_count": 12,
   "metadata": {},
   "outputs": [
    {
     "name": "stdout",
     "output_type": "stream",
     "text": [
      "5.59 ms ± 79.3 µs per loop (mean ± std. dev. of 7 runs, 100 loops each)\n",
      "11.1 ms ± 114 µs per loop (mean ± std. dev. of 7 runs, 100 loops each)\n",
      "21 ms ± 154 µs per loop (mean ± std. dev. of 7 runs, 10 loops each)\n"
     ]
    }
   ],
   "source": [
    "%timeit invertlaplace(pd_lapl,1,method='stehfest', degree = 5)\n",
    "%timeit invertlaplace(pd_lapl,1,method='stehfest', degree = 10)\n",
    "%timeit invertlaplace(pd_lapl,1,method='stehfest', degree = 15)"
   ]
  },
  {
   "cell_type": "markdown",
   "metadata": {},
   "source": [
    "Хорошо бы кроме времени расчета сравнить и результаты (по идее они должны совпадать, но все же можно и проверить)"
   ]
  },
  {
   "cell_type": "code",
   "execution_count": 24,
   "metadata": {},
   "outputs": [],
   "source": [
    "# реализация функции расчета безразмерного давления на основе преобразования Лапласа\n",
    "def pd_line_source_lapl(rd, td):\n",
    "  fp = lambda p: pd_lapl(p, rd)\n",
    "  return invertlaplace(fp, td, method='stehfest', degree = 5)"
   ]
  },
  {
   "cell_type": "code",
   "execution_count": 15,
   "metadata": {},
   "outputs": [
    {
     "name": "stdout",
     "output_type": "stream",
     "text": [
      "5.84 ms ± 130 µs per loop (mean ± std. dev. of 7 runs, 100 loops each)\n"
     ]
    }
   ],
   "source": [
    "%timeit pd_line_source_lapl(1, 1)"
   ]
  },
  {
   "cell_type": "code",
   "execution_count": 16,
   "metadata": {},
   "outputs": [
    {
     "data": {
      "text/plain": [
       "<function matplotlib.pyplot.plot(*args, scalex=True, scaley=True, data=None, **kwargs)>"
      ]
     },
     "execution_count": 16,
     "metadata": {},
     "output_type": "execute_result"
    },
    {
     "data": {
      "image/png": "[encoded data removed]",
      "text/plain": [
       "<Figure size 432x288 with 1 Axes>"
      ]
     },
     "metadata": {
      "needs_background": "light"
     },
     "output_type": "display_data"
    }
   ],
   "source": [
    "t_d=1000\n",
    "r_d = np.arange(1, 1000, 10)\n",
    "p_d = [pd_line_source_lapl(ri, t_d) for ri in r_d]\n",
    "\n",
    "plt.plot(r_d, p_d)\n",
    "plt.plot"
   ]
  },
  {
   "cell_type": "code",
   "execution_count": 18,
   "metadata": {},
   "outputs": [
    {
     "data": {
      "image/png": "[encoded data removed]",
      "text/plain": [
       "<Figure size 432x288 with 1 Axes>"
      ]
     },
     "metadata": {
      "needs_background": "light"
     },
     "output_type": "display_data"
    }
   ],
   "source": [
    "# Пример построения сразу нескольких решений на одном графике\n",
    "# Зададим массив (итератор) определяющий количество графиков которые мы хотим построить\n",
    "n=np.arange(1,10,1)\n",
    "# зададим диапазон изменения расстояний и количество точек для которых строятся кривые\n",
    "r_d = np.arange(1, 1000, 10)\n",
    "\n",
    "# цикл расчета. Полезно понимать тут, что функция pd_line_source_lapl будет вызываться число раз равное\n",
    "# произведению количества графиков на количество точек. \n",
    "# для сложных функций это время может оказаться достаточно заметным\n",
    "for i in n:\n",
    "    t_d = 10000*i\n",
    "      # здесь используем расчет заполнения массива с использованием итератора python - \n",
    "      # не самый быстрый вариант для этой функции, но работает\n",
    "    plt.plot(r_d, [pd_line_source_lapl(ri, t_d) for ri in r_d])\n",
    "plt.show()"
   ]
  },
  {
   "cell_type": "markdown",
   "metadata": {},
   "source": [
    "## Сравнение решения с использованием Ei и через пространство Лапласа"
   ]
  },
  {
   "cell_type": "markdown",
   "metadata": {},
   "source": [
    "# Решение линейного стока уравнения фильтрации\n",
    "def pd_ei(rd, td):\n",
    "  return -1/2*sc.expi(-rd**2 / 4 / td)"
   ]
  },
  {
   "cell_type": "markdown",
   "metadata": {},
   "source": [
    "Построим график отклонения расчета Ei от расчета mpamath"
   ]
  },
  {
   "cell_type": "code",
   "execution_count": 25,
   "metadata": {},
   "outputs": [
    {
     "data": {
      "image/png": "[encoded data removed]",
      "text/plain": [
       "<Figure size 432x288 with 1 Axes>"
      ]
     },
     "metadata": {
      "needs_background": "light"
     },
     "output_type": "display_data"
    }
   ],
   "source": [
    "td = 10000\n",
    "pd_expi_array = np.array([pd_ei(ri, td) for ri in r_d])\n",
    "pd_lapl_array = np.array([pd_line_source_lapl(ri, td) for ri in r_d])\n",
    "\n",
    "dpd = pd_lapl_array - pd_expi_array\n",
    "plt.plot(r_d, dpd)\n",
    "plt.title(\"Отклонение расчета\")\n",
    "plt.show()"
   ]
  },
  {
   "cell_type": "markdown",
   "metadata": {},
   "source": [
    "Проверьте как изменится отклонение при изменении точности расчета обратного преобразования Лапласа в функции pd_line_source_lapl\n",
    "\n",
    "Сравним еще и скорости расчетов "
   ]
  },
  {
   "cell_type": "code",
   "execution_count": 27,
   "metadata": {},
   "outputs": [
    {
     "name": "stdout",
     "output_type": "stream",
     "text": [
      "990 ns ± 18.6 ns per loop (mean ± std. dev. of 7 runs, 1000000 loops each)\n"
     ]
    }
   ],
   "source": [
    "%timeit pd_ei(2, 1000)"
   ]
  },
  {
   "cell_type": "code",
   "execution_count": 28,
   "metadata": {},
   "outputs": [
    {
     "name": "stdout",
     "output_type": "stream",
     "text": [
      "5.89 ms ± 50.5 µs per loop (mean ± std. dev. of 7 runs, 100 loops each)\n"
     ]
    }
   ],
   "source": [
    "%timeit pd_line_source_lapl(2, 1000)"
   ]
  },
  {
   "cell_type": "markdown",
   "metadata": {},
   "source": [
    "# Задания для самостоятельной работы\n",
    "\n",
    "Для совершенствования навыков работы с python выполните следующие задания:\n",
    "\n",
    "1. Постройте двумерную тепловую карту распределения давления в пласте для модели. \n",
    "2. Попробуйте найти другую реализацию расчета обратного преобразования Лапласа на python и сравнете ее с текущим примером на mpmath по скорости и точности (поисковая задача, ответ скорее всего есть, но на текущий момент не известен) \n",
    "3. Создайте свою реализацию расчета численного обратного преобразования Лапласа, которая могла бы работать с функциями scipy и проверьте ее на скорость и точность (программистская задача, в качестве базы можно взять реализацию расчета преобразования Стефеста из unifloc VBA)\n"
   ]
  },
  {
   "cell_type": "code",
   "execution_count": null,
   "metadata": {},
   "outputs": [],
   "source": []
  }
 ],
 "metadata": {
  "kernelspec": {
   "display_name": "Python 3",
   "language": "python",
   "name": "python3"
  },
  "language_info": {
   "codemirror_mode": {
    "name": "ipython",
    "version": 3
   },
   "file_extension": ".py",
   "mimetype": "text/x-python",
   "name": "python",
   "nbconvert_exporter": "python",
   "pygments_lexer": "ipython3",
   "version": "3.9.2"
  }
 },
 "nbformat": 4,
 "nbformat_minor": 4
}
