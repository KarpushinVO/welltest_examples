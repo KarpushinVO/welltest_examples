{
 "cells": [
  {
   "cell_type": "markdown",
   "id": "isolated-occupation",
   "metadata": {},
   "source": [
    "# Пример построения интерактивного графика с использованием библиотеки plotly.express и jupyter_dash\n",
    "\n",
    "Материалы курсов \"Исследования скважин и пластов\" и \"Гидродинамические исследования скважин\" в РГУ нефти и газа имени И.М.Губкина.\n",
    "\n",
    "Хабибуллин Ринат 2021 г."
   ]
  },
  {
   "cell_type": "markdown",
   "id": "agricultural-former",
   "metadata": {},
   "source": [
    "`pip install jupyter-dash`"
   ]
  },
  {
   "cell_type": "code",
   "execution_count": 1,
   "id": "rental-beginning",
   "metadata": {},
   "outputs": [],
   "source": [
    "import plotly.express as px\n",
    "from jupyter_dash import JupyterDash\n",
    "from dash import dcc\n",
    "from dash import html\n",
    "from dash.dependencies import Input, Output\n",
    "\n",
    "import pandas as pd\n",
    "import numpy as np\n",
    "import scipy.special as sc"
   ]
  },
  {
   "cell_type": "code",
   "execution_count": 2,
   "id": "stock-elephant",
   "metadata": {},
   "outputs": [],
   "source": [
    "# Решение линейного стока уравнения фильтрации\n",
    "def pd_ei(rd, td):\n",
    "  return -1/2*sc.expi(-rd**2 / 4 / td)"
   ]
  },
  {
   "cell_type": "code",
   "execution_count": 35,
   "id": "white-logic",
   "metadata": {
    "scrolled": false
   },
   "outputs": [
    {
     "data": {
      "text/html": [
       "\n",
       "        <iframe\n",
       "            width=\"100%\"\n",
       "            height=\"650\"\n",
       "            src=\"http://127.0.0.1:8050/\"\n",
       "            frameborder=\"0\"\n",
       "            allowfullscreen\n",
       "        ></iframe>\n",
       "        "
      ],
      "text/plain": [
       "<IPython.lib.display.IFrame at 0x1cc8ffae190>"
      ]
     },
     "metadata": {},
     "output_type": "display_data"
    }
   ],
   "source": [
    "df = pd.DataFrame(columns = ['pd', 'td', 'rd'])\n",
    "df['rd'] = np.logspace(0.1, 4, 100)\n",
    "\n",
    "\n",
    "app = JupyterDash(__name__)\n",
    "app.layout = html.Div([\n",
    "    html.H1(\"JupyterDash Demo test 2\"),\n",
    "    dcc.Graph(id='graph'),\n",
    "    html.Label([\n",
    "        \"td\",\n",
    "        dcc.Slider(\n",
    "            id='my-slider',\n",
    "            min=1e2,\n",
    "            max=1e8,\n",
    "            step=1e2,\n",
    "            value=1e4,\n",
    "            )\n",
    "    ]),\n",
    "    \n",
    "    dcc.Checklist(\n",
    "        id='my-check',\n",
    "        options=[\n",
    "            {'label': 'semi log', 'value': 'semilog'}\n",
    "        ],\n",
    "            value=['semi log', 'semilog']\n",
    "        )\n",
    "])\n",
    "# Define callback to update graph\n",
    "@app.callback(\n",
    "    Output('graph', 'figure'),\n",
    "    Input(\"my-slider\", \"value\"),\n",
    "    Input(\"my-check\", \"value\"),\n",
    "    \n",
    ")\n",
    "def update_figure(td, log):\n",
    "    df['td'] = td\n",
    "    df['pd'] = pd_ei(df['rd'], df['td'])\n",
    "    return px.line(\n",
    "        df, x=\"rd\", y=\"pd\", color = \"td\",\n",
    "        render_mode=\"webgl\", title=\"time = \"+str(td),\n",
    "        log_x = log==['semi log', 'semilog']\n",
    "    )\n",
    "# Run app and display result inline in the notebook\n",
    "app.run_server(mode='inline')"
   ]
  },
  {
   "cell_type": "code",
   "execution_count": null,
   "id": "quiet-people",
   "metadata": {},
   "outputs": [],
   "source": []
  }
 ],
 "metadata": {
  "kernelspec": {
   "display_name": "Python 3",
   "language": "python",
   "name": "python3"
  },
  "language_info": {
   "codemirror_mode": {
    "name": "ipython",
    "version": 3
   },
   "file_extension": ".py",
   "mimetype": "text/x-python",
   "name": "python",
   "nbconvert_exporter": "python",
   "pygments_lexer": "ipython3",
   "version": "3.9.2"
  }
 },
 "nbformat": 4,
 "nbformat_minor": 5
}
