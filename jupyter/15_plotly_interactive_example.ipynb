{
 "cells": [
  {
   "cell_type": "markdown",
   "id": "isolated-occupation",
   "metadata": {},
   "source": [
    "# Пример построения интерактивного графика с использованием библиотеки plotly.express и jupyter_dash\n",
    "\n",
    "Материалы курсов \"Исследования скважин и пластов\" и \"Гидродинамические исследования скважин\" в РГУ нефти и газа имени И.М.Губкина.\n",
    "\n",
    "Хабибуллин Ринат 2021 г.\n",
    "\n",
    "версия 0.2 от 25.09.2021"
   ]
  },
  {
   "cell_type": "markdown",
   "id": "agricultural-former",
   "metadata": {},
   "source": [
    "Для построения интерактивных графиков и простых веб приложений может оказаться удобным использовать библиотеку `jupyter-dash`, которая позволяет делать все прямо в тетрадке jupyter или в колабе\n",
    "\n",
    "Для установки библиотеки надо вызвать в терминале команду\n",
    "`pip install jupyter-dash`\n",
    "\n",
    "В колабе это можно сделать выполнив команду \n",
    "`!pip install jupyter-dash` в ячейке тетрадки"
   ]
  },
  {
   "cell_type": "code",
   "execution_count": 1,
   "id": "tested-primary",
   "metadata": {},
   "outputs": [
    {
     "name": "stdout",
     "output_type": "stream",
     "text": [
      "Collecting jupyter-dash\n",
      "  Downloading jupyter_dash-0.4.0-py3-none-any.whl (20 kB)\n",
      "Collecting ansi2html\n",
      "  Downloading ansi2html-1.6.0-py3-none-any.whl (14 kB)\n",
      "Collecting retrying\n",
      "  Downloading retrying-1.3.3.tar.gz (10 kB)\n",
      "  Preparing metadata (setup.py): started\n",
      "  Preparing metadata (setup.py): finished with status 'done'\n",
      "Collecting requests\n",
      "  Downloading requests-2.26.0-py2.py3-none-any.whl (62 kB)\n",
      "Collecting dash\n",
      "  Downloading dash-2.0.0-py3-none-any.whl (7.3 MB)\n",
      "Requirement already satisfied: ipython in c:\\rnt\\welltest_examples\\env\\lib\\site-packages (from jupyter-dash) (7.28.0)\n",
      "Requirement already satisfied: ipykernel in c:\\rnt\\welltest_examples\\env\\lib\\site-packages (from jupyter-dash) (6.4.2)\n",
      "Collecting flask\n",
      "  Downloading Flask-2.0.2-py3-none-any.whl (95 kB)\n",
      "Collecting flask-compress\n",
      "  Downloading Flask_Compress-1.10.1-py3-none-any.whl (7.9 kB)\n",
      "Requirement already satisfied: plotly>=5.0.0 in c:\\rnt\\welltest_examples\\env\\lib\\site-packages (from dash->jupyter-dash) (5.3.1)\n",
      "Collecting dash-html-components==2.0.0\n",
      "  Downloading dash_html_components-2.0.0.tar.gz (3.8 kB)\n",
      "  Preparing metadata (setup.py): started\n",
      "  Preparing metadata (setup.py): finished with status 'done'\n",
      "Collecting dash-core-components==2.0.0\n",
      "  Downloading dash_core_components-2.0.0.tar.gz (3.4 kB)\n",
      "  Preparing metadata (setup.py): started\n",
      "  Preparing metadata (setup.py): finished with status 'done'\n",
      "Collecting dash-table==5.0.0\n",
      "  Downloading dash_table-5.0.0.tar.gz (3.4 kB)\n",
      "  Preparing metadata (setup.py): started\n",
      "  Preparing metadata (setup.py): finished with status 'done'\n",
      "Collecting itsdangerous>=2.0\n",
      "  Downloading itsdangerous-2.0.1-py3-none-any.whl (18 kB)\n",
      "Requirement already satisfied: Jinja2>=3.0 in c:\\rnt\\welltest_examples\\env\\lib\\site-packages (from flask->jupyter-dash) (3.0.2)\n",
      "Collecting click>=7.1.2\n",
      "  Downloading click-8.0.3-py3-none-any.whl (97 kB)\n",
      "Collecting Werkzeug>=2.0\n",
      "  Downloading Werkzeug-2.0.2-py3-none-any.whl (288 kB)\n",
      "Requirement already satisfied: tornado<7.0,>=4.2 in c:\\rnt\\welltest_examples\\env\\lib\\site-packages (from ipykernel->jupyter-dash) (6.1)\n",
      "Requirement already satisfied: traitlets<6.0,>=4.1.0 in c:\\rnt\\welltest_examples\\env\\lib\\site-packages (from ipykernel->jupyter-dash) (5.1.0)\n",
      "Requirement already satisfied: matplotlib-inline<0.2.0,>=0.1.0 in c:\\rnt\\welltest_examples\\env\\lib\\site-packages (from ipykernel->jupyter-dash) (0.1.3)\n",
      "Requirement already satisfied: ipython-genutils in c:\\rnt\\welltest_examples\\env\\lib\\site-packages (from ipykernel->jupyter-dash) (0.2.0)\n",
      "Requirement already satisfied: debugpy<2.0,>=1.0.0 in c:\\rnt\\welltest_examples\\env\\lib\\site-packages (from ipykernel->jupyter-dash) (1.5.1)\n",
      "Requirement already satisfied: jupyter-client<8.0 in c:\\rnt\\welltest_examples\\env\\lib\\site-packages (from ipykernel->jupyter-dash) (7.0.6)\n",
      "Requirement already satisfied: jedi>=0.16 in c:\\rnt\\welltest_examples\\env\\lib\\site-packages (from ipython->jupyter-dash) (0.18.0)\n",
      "Requirement already satisfied: prompt-toolkit!=3.0.0,!=3.0.1,<3.1.0,>=2.0.0 in c:\\rnt\\welltest_examples\\env\\lib\\site-packages (from ipython->jupyter-dash) (3.0.20)\n",
      "Requirement already satisfied: backcall in c:\\rnt\\welltest_examples\\env\\lib\\site-packages (from ipython->jupyter-dash) (0.2.0)\n",
      "Requirement already satisfied: colorama in c:\\rnt\\welltest_examples\\env\\lib\\site-packages (from ipython->jupyter-dash) (0.4.4)\n",
      "Requirement already satisfied: pickleshare in c:\\rnt\\welltest_examples\\env\\lib\\site-packages (from ipython->jupyter-dash) (0.7.5)\n",
      "Requirement already satisfied: setuptools>=18.5 in c:\\rnt\\welltest_examples\\env\\lib\\site-packages (from ipython->jupyter-dash) (57.4.0)\n",
      "Requirement already satisfied: pygments in c:\\rnt\\welltest_examples\\env\\lib\\site-packages (from ipython->jupyter-dash) (2.10.0)\n",
      "Requirement already satisfied: decorator in c:\\rnt\\welltest_examples\\env\\lib\\site-packages (from ipython->jupyter-dash) (5.1.0)\n",
      "Collecting idna<4,>=2.5\n",
      "  Downloading idna-3.3-py3-none-any.whl (61 kB)\n",
      "Collecting certifi>=2017.4.17\n",
      "  Downloading certifi-2021.10.8-py2.py3-none-any.whl (149 kB)\n",
      "Collecting charset-normalizer~=2.0.0\n",
      "  Downloading charset_normalizer-2.0.7-py3-none-any.whl (38 kB)\n",
      "Collecting urllib3<1.27,>=1.21.1\n",
      "  Downloading urllib3-1.26.7-py2.py3-none-any.whl (138 kB)\n",
      "Requirement already satisfied: six>=1.7.0 in c:\\rnt\\welltest_examples\\env\\lib\\site-packages (from retrying->jupyter-dash) (1.16.0)\n",
      "Requirement already satisfied: parso<0.9.0,>=0.8.0 in c:\\rnt\\welltest_examples\\env\\lib\\site-packages (from jedi>=0.16->ipython->jupyter-dash) (0.8.2)\n",
      "Requirement already satisfied: MarkupSafe>=2.0 in c:\\rnt\\welltest_examples\\env\\lib\\site-packages (from Jinja2>=3.0->flask->jupyter-dash) (2.0.1)\n",
      "Requirement already satisfied: python-dateutil>=2.1 in c:\\rnt\\welltest_examples\\env\\lib\\site-packages (from jupyter-client<8.0->ipykernel->jupyter-dash) (2.8.2)\n",
      "Requirement already satisfied: pyzmq>=13 in c:\\rnt\\welltest_examples\\env\\lib\\site-packages (from jupyter-client<8.0->ipykernel->jupyter-dash) (22.3.0)\n",
      "Requirement already satisfied: nest-asyncio>=1.5 in c:\\rnt\\welltest_examples\\env\\lib\\site-packages (from jupyter-client<8.0->ipykernel->jupyter-dash) (1.5.1)\n",
      "Requirement already satisfied: entrypoints in c:\\rnt\\welltest_examples\\env\\lib\\site-packages (from jupyter-client<8.0->ipykernel->jupyter-dash) (0.3)\n",
      "Requirement already satisfied: jupyter-core>=4.6.0 in c:\\rnt\\welltest_examples\\env\\lib\\site-packages (from jupyter-client<8.0->ipykernel->jupyter-dash) (4.8.1)\n",
      "Requirement already satisfied: tenacity>=6.2.0 in c:\\rnt\\welltest_examples\\env\\lib\\site-packages (from plotly>=5.0.0->dash->jupyter-dash) (8.0.1)\n",
      "Requirement already satisfied: wcwidth in c:\\rnt\\welltest_examples\\env\\lib\\site-packages (from prompt-toolkit!=3.0.0,!=3.0.1,<3.1.0,>=2.0.0->ipython->jupyter-dash) (0.2.5)\n",
      "Collecting brotli\n",
      "  Downloading Brotli-1.0.9-cp39-cp39-win_amd64.whl (383 kB)\n",
      "Requirement already satisfied: pywin32>=1.0 in c:\\rnt\\welltest_examples\\env\\lib\\site-packages (from jupyter-core>=4.6.0->jupyter-client<8.0->ipykernel->jupyter-dash) (302)\n",
      "Using legacy 'setup.py install' for dash-core-components, since package 'wheel' is not installed.\n",
      "Using legacy 'setup.py install' for dash-html-components, since package 'wheel' is not installed.\n",
      "Using legacy 'setup.py install' for dash-table, since package 'wheel' is not installed.\n",
      "Using legacy 'setup.py install' for retrying, since package 'wheel' is not installed.\n",
      "Installing collected packages: Werkzeug, itsdangerous, click, flask, brotli, urllib3, idna, flask-compress, dash-table, dash-html-components, dash-core-components, charset-normalizer, certifi, retrying, requests, dash, ansi2html, jupyter-dash\n",
      "    Running setup.py install for dash-table: started\n",
      "    Running setup.py install for dash-table: finished with status 'done'\n",
      "    Running setup.py install for dash-html-components: started\n",
      "    Running setup.py install for dash-html-components: finished with status 'done'\n",
      "    Running setup.py install for dash-core-components: started\n",
      "    Running setup.py install for dash-core-components: finished with status 'done'\n",
      "    Running setup.py install for retrying: started\n",
      "    Running setup.py install for retrying: finished with status 'done'\n",
      "Successfully installed Werkzeug-2.0.2 ansi2html-1.6.0 brotli-1.0.9 certifi-2021.10.8 charset-normalizer-2.0.7 click-8.0.3 dash-2.0.0 dash-core-components-2.0.0 dash-html-components-2.0.0 dash-table-5.0.0 flask-2.0.2 flask-compress-1.10.1 idna-3.3 itsdangerous-2.0.1 jupyter-dash-0.4.0 requests-2.26.0 retrying-1.3.3 urllib3-1.26.7\n"
     ]
    }
   ],
   "source": [
    "# в google colab это надо выполнить, чтобы дальше все хорошо сработало\n",
    "!pip install jupyter-dash\n",
    "\n",
    "# без колаба не обязательно, если библиотека у вас уже установлена"
   ]
  },
  {
   "cell_type": "code",
   "execution_count": 3,
   "id": "9a117907",
   "metadata": {},
   "outputs": [
    {
     "name": "stdout",
     "output_type": "stream",
     "text": [
      "Collecting pandas\n",
      "  Downloading pandas-1.3.4-cp39-cp39-win_amd64.whl (10.2 MB)\n",
      "Collecting pytz>=2017.3\n",
      "  Downloading pytz-2021.3-py2.py3-none-any.whl (503 kB)\n",
      "Requirement already satisfied: python-dateutil>=2.7.3 in c:\\rnt\\welltest_examples\\env\\lib\\site-packages (from pandas) (2.8.2)\n",
      "Requirement already satisfied: numpy>=1.17.3 in c:\\rnt\\welltest_examples\\env\\lib\\site-packages (from pandas) (1.21.2)\n",
      "Requirement already satisfied: six>=1.5 in c:\\rnt\\welltest_examples\\env\\lib\\site-packages (from python-dateutil>=2.7.3->pandas) (1.16.0)\n",
      "Installing collected packages: pytz, pandas\n",
      "Successfully installed pandas-1.3.4 pytz-2021.3\n"
     ]
    }
   ],
   "source": [
    "!pip install pandas\n"
   ]
  },
  {
   "cell_type": "code",
   "execution_count": 1,
   "id": "rental-beginning",
   "metadata": {},
   "outputs": [],
   "source": [
    "import plotly.express as px\n",
    "from jupyter_dash import JupyterDash\n",
    "from dash import dcc\n",
    "from dash import html\n",
    "from dash.dependencies import Input, Output\n",
    "\n",
    "import pandas as pd\n",
    "import numpy as np\n",
    "import scipy.special as sc"
   ]
  },
  {
   "cell_type": "code",
   "execution_count": 2,
   "id": "stock-elephant",
   "metadata": {},
   "outputs": [],
   "source": [
    "# Решение линейного стока уравнения фильтрации\n",
    "def pd_ei(rd, td):\n",
    "  return -1/2*sc.expi(-rd**2 / 4 / td)"
   ]
  },
  {
   "cell_type": "code",
   "execution_count": 3,
   "id": "white-logic",
   "metadata": {
    "scrolled": false
   },
   "outputs": [
    {
     "data": {
      "text/html": [
       "\n",
       "        <iframe\n",
       "            width=\"100%\"\n",
       "            height=\"650\"\n",
       "            src=\"http://127.0.0.1:8050/\"\n",
       "            frameborder=\"0\"\n",
       "            allowfullscreen\n",
       "            \n",
       "        ></iframe>\n",
       "        "
      ],
      "text/plain": [
       "<IPython.lib.display.IFrame at 0x1f6d95a90a0>"
      ]
     },
     "metadata": {},
     "output_type": "display_data"
    }
   ],
   "source": [
    "df = pd.DataFrame(columns = ['pd', 'td', 'rd'])\n",
    "df['rd'] = np.logspace(0.1, 4, 100)\n",
    "\n",
    "\n",
    "app = JupyterDash(__name__)\n",
    "app.layout = html.Div([\n",
    "    html.H1(\"JupyterDash Demo test 2\"),\n",
    "    dcc.Graph(id='graph'),\n",
    "    html.Label([\n",
    "        \"td\",\n",
    "        dcc.Slider(\n",
    "            id='my-slider',\n",
    "            min=1e2,\n",
    "            max=1e8,\n",
    "            step=1e2,\n",
    "            value=1e4,\n",
    "            )\n",
    "    ]),\n",
    "    \n",
    "    dcc.Checklist(\n",
    "        id='my-check',\n",
    "        options=[\n",
    "            {'label': 'semi log', 'value': 'semilog'}\n",
    "        ],\n",
    "            value=['semi log', 'semilog']\n",
    "        )\n",
    "])\n",
    "# Define callback to update graph\n",
    "@app.callback(\n",
    "    Output('graph', 'figure'),\n",
    "    Input(\"my-slider\", \"value\"),\n",
    "    Input(\"my-check\", \"value\"),\n",
    "    \n",
    ")\n",
    "def update_figure(td, log):\n",
    "    df['td'] = td\n",
    "    df['pd'] = pd_ei(df['rd'], df['td'])\n",
    "    return px.line(\n",
    "        df, x=\"rd\", y=\"pd\", color = \"td\",\n",
    "        render_mode=\"webgl\", title=\"time = \"+str(td),\n",
    "        log_x = log==['semi log', 'semilog']\n",
    "    )\n",
    "# Run app and display result inline in the notebook\n",
    "app.run_server(mode='inline')"
   ]
  },
  {
   "cell_type": "code",
   "execution_count": null,
   "id": "quiet-people",
   "metadata": {},
   "outputs": [],
   "source": []
  }
 ],
 "metadata": {
  "kernelspec": {
   "display_name": "Python 3 (ipykernel)",
   "language": "python",
   "name": "python3"
  },
  "language_info": {
   "codemirror_mode": {
    "name": "ipython",
    "version": 3
   },
   "file_extension": ".py",
   "mimetype": "text/x-python",
   "name": "python",
   "nbconvert_exporter": "python",
   "pygments_lexer": "ipython3",
   "version": "3.9.7"
  }
 },
 "nbformat": 4,
 "nbformat_minor": 5
}
