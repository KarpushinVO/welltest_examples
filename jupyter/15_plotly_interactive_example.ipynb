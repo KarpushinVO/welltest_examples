{
 "cells": [
  {
   "cell_type": "markdown",
   "id": "isolated-occupation",
   "metadata": {},
   "source": [
    "# Пример построения интерактивного графика с использованием библиотеки plotly.express и jupyter_dash\n",
    "\n",
    "Материалы курсов \"Исследования скважин и пластов\" и \"Гидродинамические исследования скважин\" в РГУ нефти и газа имени И.М.Губкина.\n",
    "\n",
    "Хабибуллин Ринат 2021 г.\n",
    "\n",
    "версия 0.2 от 25.09.2021"
   ]
  },
  {
   "cell_type": "markdown",
   "id": "agricultural-former",
   "metadata": {},
   "source": [
    "Для построения интерактивных графиков и простых веб приложений может оказаться удобным использовать библиотеку `jupyter-dash`, которая позволяет делать все прямо в тетрадке jupyter или в колабе\n",
    "\n",
    "Для установки библиотеки надо вызвать в терминале команду\n",
    "`pip install jupyter-dash`\n",
    "\n",
    "В колабе это можно сделать выполнив команду \n",
    "`!pip install jupyter-dash` в ячейке тетрадки"
   ]
  },
  {
   "cell_type": "code",
   "execution_count": 1,
   "id": "tested-primary",
   "metadata": {},
   "outputs": [
    {
     "name": "stdout",
     "output_type": "stream",
     "text": [
      "Requirement already satisfied: jupyter-dash in c:\\venv\\base\\lib\\site-packages (0.4.0)\n",
      "Requirement already satisfied: requests in c:\\venv\\base\\lib\\site-packages (from jupyter-dash) (2.25.1)\n",
      "Requirement already satisfied: ipython in c:\\venv\\base\\lib\\site-packages (from jupyter-dash) (7.21.0)\n",
      "Requirement already satisfied: ipykernel in c:\\venv\\base\\lib\\site-packages (from jupyter-dash) (5.5.0)\n",
      "Requirement already satisfied: flask in c:\\venv\\base\\lib\\site-packages (from jupyter-dash) (2.0.1)\n",
      "Requirement already satisfied: retrying in c:\\venv\\base\\lib\\site-packages (from jupyter-dash) (1.3.3)\n",
      "Requirement already satisfied: dash in c:\\venv\\base\\lib\\site-packages (from jupyter-dash) (2.0.0)\n",
      "Requirement already satisfied: ansi2html in c:\\venv\\base\\lib\\site-packages (from jupyter-dash) (1.6.0)\n",
      "Requirement already satisfied: flask-compress in c:\\venv\\base\\lib\\site-packages (from dash->jupyter-dash) (1.10.1)\n",
      "Requirement already satisfied: dash-html-components==2.0.0 in c:\\venv\\base\\lib\\site-packages (from dash->jupyter-dash) (2.0.0)\n",
      "Requirement already satisfied: dash-table==5.0.0 in c:\\venv\\base\\lib\\site-packages (from dash->jupyter-dash) (5.0.0)\n",
      "Requirement already satisfied: plotly>=5.0.0 in c:\\venv\\base\\lib\\site-packages (from dash->jupyter-dash) (5.3.1)\n",
      "Requirement already satisfied: dash-core-components==2.0.0 in c:\\venv\\base\\lib\\site-packages (from dash->jupyter-dash) (2.0.0)\n",
      "Requirement already satisfied: click>=7.1.2 in c:\\venv\\base\\lib\\site-packages (from flask->jupyter-dash) (8.0.1)\n",
      "Requirement already satisfied: Jinja2>=3.0 in c:\\venv\\base\\lib\\site-packages (from flask->jupyter-dash) (3.0.1)\n",
      "Requirement already satisfied: itsdangerous>=2.0 in c:\\venv\\base\\lib\\site-packages (from flask->jupyter-dash) (2.0.1)\n",
      "Requirement already satisfied: Werkzeug>=2.0 in c:\\venv\\base\\lib\\site-packages (from flask->jupyter-dash) (2.0.1)\n",
      "Requirement already satisfied: jupyter-client in c:\\venv\\base\\lib\\site-packages (from ipykernel->jupyter-dash) (6.1.11)\n",
      "Requirement already satisfied: traitlets>=4.1.0 in c:\\venv\\base\\lib\\site-packages (from ipykernel->jupyter-dash) (5.0.5)\n",
      "Requirement already satisfied: tornado>=4.2 in c:\\venv\\base\\lib\\site-packages (from ipykernel->jupyter-dash) (6.1)\n",
      "Requirement already satisfied: pygments in c:\\venv\\base\\lib\\site-packages (from ipython->jupyter-dash) (2.8.1)\n",
      "Requirement already satisfied: prompt-toolkit!=3.0.0,!=3.0.1,<3.1.0,>=2.0.0 in c:\\venv\\base\\lib\\site-packages (from ipython->jupyter-dash) (3.0.16)\n",
      "Requirement already satisfied: decorator in c:\\venv\\base\\lib\\site-packages (from ipython->jupyter-dash) (4.4.2)\n",
      "Requirement already satisfied: colorama in c:\\venv\\base\\lib\\site-packages (from ipython->jupyter-dash) (0.4.4)\n",
      "Requirement already satisfied: pickleshare in c:\\venv\\base\\lib\\site-packages (from ipython->jupyter-dash) (0.7.5)\n",
      "Requirement already satisfied: jedi>=0.16 in c:\\venv\\base\\lib\\site-packages (from ipython->jupyter-dash) (0.18.0)\n",
      "Requirement already satisfied: backcall in c:\\venv\\base\\lib\\site-packages (from ipython->jupyter-dash) (0.2.0)\n",
      "Requirement already satisfied: setuptools>=18.5 in c:\\venv\\base\\lib\\site-packages (from ipython->jupyter-dash) (49.2.1)\n",
      "Requirement already satisfied: chardet<5,>=3.0.2 in c:\\venv\\base\\lib\\site-packages (from requests->jupyter-dash) (4.0.0)\n",
      "Requirement already satisfied: certifi>=2017.4.17 in c:\\venv\\base\\lib\\site-packages (from requests->jupyter-dash) (2020.12.5)\n",
      "Requirement already satisfied: urllib3<1.27,>=1.21.1 in c:\\venv\\base\\lib\\site-packages (from requests->jupyter-dash) (1.26.3)\n",
      "Requirement already satisfied: idna<3,>=2.5 in c:\\venv\\base\\lib\\site-packages (from requests->jupyter-dash) (2.10)\n",
      "Requirement already satisfied: six>=1.7.0 in c:\\venv\\base\\lib\\site-packages (from retrying->jupyter-dash) (1.15.0)\n",
      "Requirement already satisfied: parso<0.9.0,>=0.8.0 in c:\\venv\\base\\lib\\site-packages (from jedi>=0.16->ipython->jupyter-dash) (0.8.1)\n",
      "Requirement already satisfied: MarkupSafe>=2.0 in c:\\venv\\base\\lib\\site-packages (from Jinja2>=3.0->flask->jupyter-dash) (2.0.1)\n",
      "Requirement already satisfied: tenacity>=6.2.0 in c:\\venv\\base\\lib\\site-packages (from plotly>=5.0.0->dash->jupyter-dash) (8.0.1)\n",
      "Requirement already satisfied: wcwidth in c:\\venv\\base\\lib\\site-packages (from prompt-toolkit!=3.0.0,!=3.0.1,<3.1.0,>=2.0.0->ipython->jupyter-dash) (0.2.5)\n",
      "Requirement already satisfied: ipython-genutils in c:\\venv\\base\\lib\\site-packages (from traitlets>=4.1.0->ipykernel->jupyter-dash) (0.2.0)\n",
      "Requirement already satisfied: brotli in c:\\venv\\base\\lib\\site-packages (from flask-compress->dash->jupyter-dash) (1.0.9)\n",
      "Requirement already satisfied: jupyter-core>=4.6.0 in c:\\venv\\base\\lib\\site-packages (from jupyter-client->ipykernel->jupyter-dash) (4.7.1)\n",
      "Requirement already satisfied: python-dateutil>=2.1 in c:\\venv\\base\\lib\\site-packages (from jupyter-client->ipykernel->jupyter-dash) (2.8.1)\n",
      "Requirement already satisfied: pyzmq>=13 in c:\\venv\\base\\lib\\site-packages (from jupyter-client->ipykernel->jupyter-dash) (22.0.3)\n",
      "Requirement already satisfied: pywin32>=1.0 in c:\\venv\\base\\lib\\site-packages (from jupyter-core>=4.6.0->jupyter-client->ipykernel->jupyter-dash) (300)\n"
     ]
    }
   ],
   "source": [
    "# в google colab это надо выполнить, чтобы дальше все хорошо сработало\n",
    "!pip install jupyter-dash\n",
    "\n",
    "# без колаба не обязательно, если библиотека у вас уже установлена"
   ]
  },
  {
   "cell_type": "code",
   "execution_count": 2,
   "id": "rental-beginning",
   "metadata": {},
   "outputs": [],
   "source": [
    "import plotly.express as px\n",
    "from jupyter_dash import JupyterDash\n",
    "from dash import dcc\n",
    "from dash import html\n",
    "from dash.dependencies import Input, Output\n",
    "\n",
    "import pandas as pd\n",
    "import numpy as np\n",
    "import scipy.special as sc"
   ]
  },
  {
   "cell_type": "code",
   "execution_count": 3,
   "id": "stock-elephant",
   "metadata": {},
   "outputs": [],
   "source": [
    "# Решение линейного стока уравнения фильтрации\n",
    "def pd_ei(rd, td):\n",
    "  return -1/2*sc.expi(-rd**2 / 4 / td)"
   ]
  },
  {
   "cell_type": "code",
   "execution_count": 4,
   "id": "white-logic",
   "metadata": {
    "scrolled": false
   },
   "outputs": [
    {
     "data": {
      "text/html": [
       "\n",
       "        <iframe\n",
       "            width=\"100%\"\n",
       "            height=\"650\"\n",
       "            src=\"http://127.0.0.1:8050/\"\n",
       "            frameborder=\"0\"\n",
       "            allowfullscreen\n",
       "        ></iframe>\n",
       "        "
      ],
      "text/plain": [
       "<IPython.lib.display.IFrame at 0x29e17566610>"
      ]
     },
     "metadata": {},
     "output_type": "display_data"
    }
   ],
   "source": [
    "df = pd.DataFrame(columns = ['pd', 'td', 'rd'])\n",
    "df['rd'] = np.logspace(0.1, 4, 100)\n",
    "\n",
    "\n",
    "app = JupyterDash(__name__)\n",
    "app.layout = html.Div([\n",
    "    html.H1(\"JupyterDash Demo test 2\"),\n",
    "    dcc.Graph(id='graph'),\n",
    "    html.Label([\n",
    "        \"td\",\n",
    "        dcc.Slider(\n",
    "            id='my-slider',\n",
    "            min=1e2,\n",
    "            max=1e8,\n",
    "            step=1e2,\n",
    "            value=1e4,\n",
    "            )\n",
    "    ]),\n",
    "    \n",
    "    dcc.Checklist(\n",
    "        id='my-check',\n",
    "        options=[\n",
    "            {'label': 'semi log', 'value': 'semilog'}\n",
    "        ],\n",
    "            value=['semi log', 'semilog']\n",
    "        )\n",
    "])\n",
    "# Define callback to update graph\n",
    "@app.callback(\n",
    "    Output('graph', 'figure'),\n",
    "    Input(\"my-slider\", \"value\"),\n",
    "    Input(\"my-check\", \"value\"),\n",
    "    \n",
    ")\n",
    "def update_figure(td, log):\n",
    "    df['td'] = td\n",
    "    df['pd'] = pd_ei(df['rd'], df['td'])\n",
    "    return px.line(\n",
    "        df, x=\"rd\", y=\"pd\", color = \"td\",\n",
    "        render_mode=\"webgl\", title=\"time = \"+str(td),\n",
    "        log_x = log==['semi log', 'semilog']\n",
    "    )\n",
    "# Run app and display result inline in the notebook\n",
    "app.run_server(mode='inline')"
   ]
  },
  {
   "cell_type": "code",
   "execution_count": null,
   "id": "quiet-people",
   "metadata": {},
   "outputs": [],
   "source": []
  }
 ],
 "metadata": {
  "kernelspec": {
   "display_name": "Python 3",
   "language": "python",
   "name": "python3"
  },
  "language_info": {
   "codemirror_mode": {
    "name": "ipython",
    "version": 3
   },
   "file_extension": ".py",
   "mimetype": "text/x-python",
   "name": "python",
   "nbconvert_exporter": "python",
   "pygments_lexer": "ipython3",
   "version": "3.9.2"
  }
 },
 "nbformat": 4,
 "nbformat_minor": 5
}
