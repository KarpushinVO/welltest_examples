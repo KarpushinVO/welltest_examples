{
 "cells": [
  {
   "cell_type": "markdown",
   "id": "handed-gentleman",
   "metadata": {},
   "source": [
    "# Решения уравнения фильтрации с учетом скин-фактора и послепритока\n",
    "\n",
    "Материалы курсов \"Исследования скважин и пластов\" и \"Гидродинамические исследования скважин\" в РГУ нефти и газа имени И.М.Губкина.\n",
    "\n",
    "Хабибуллин Ринат 2021 г.\n",
    "\n",
    "версия 0.2 от 18.10.2021\n",
    "\n",
    "--- \n"
   ]
  },
  {
   "cell_type": "markdown",
   "id": "breeding-report",
   "metadata": {},
   "source": [
    "## Скин-фактор\n",
    "\n",
    "Скин-фактор — гидродинамический параметр скважины, характеризующий дополнительное фильтрационное сопротивление течению флюидов в призабойной зоне, приводящее к изменению добычи (дебита) по сравнению с совершенной (идеальной) скважиной. Скин фактор может приводить как к снижению дебита (например при загрязнении ПЗС), так и увеличению (образование высокопроводящих каналов в ПЗС).\n",
    "\n",
    "Концепция скин-фактора получила широкое распространение на практике. Все инженеры-нефтяники знают этот параметр и оперируют им на практике.\n",
    "\n",
    "Скин-фактор описывает изменение проницаемости призабойной зоны, которое может быть вызвано различными факторами, среди которых:\n",
    "* Проникновение бурового раствора в призабойную зону при строительстве скважины\n",
    "* Набухание глин при контакте с фильтратом бурового раствора при строительстве скважины\n",
    "* Химическое осаждение нерастворимого осадка из фильтруемых флюидов в призабойной зоне, например отложение солей или асфальтенов при эксплуатации \n",
    "* Продвижение песчаных частиц к стволу скважины при эксплуатации\n",
    "* Повреждение породы при перфорации при проведении текущего или капитального ремонта \n",
    "* и многими другими причинами\n",
    "\n",
    "### Формула Хокинса - выражение скин фактора через радиус загрязненной зоны\n",
    "Скин - фактор для плоскорадиального установившегося потока несжимаемой жидкости:\n",
    "\n",
    "$$S =\\left( \\frac{k}{k_s} -1\\right)\\ ln\\frac{r_s}{r_w}$$\n",
    "\n",
    "* $k_s$ - проницаемость в загрязненной ПЗП\n",
    "* $k$ - однородная проницаемость по всему пласту\n",
    "* $r_s$ - радиус загрязненной зоны\n",
    "* $r_w$ - радиус скважины\n",
    "\n",
    "### Скин - безразмерный перепад давления\n",
    "\n",
    "$$ S = \\Delta p_{skin} \\dfrac{kh}{18.41 q_{sf} \\mu} $$\n",
    "\n",
    "* $S$ - скин\n",
    "* $\\Delta p_{skin}$ - перепад давления за счет скин-фактора\n",
    "* $k$ - проницаемость, мД\n",
    "* $h$ - эффективная мощность пласта, м\n",
    "* $q_{sf}$ - дебит на забое, м$^3$/сут\n",
    "* $\\mu $ - вязкость, сП\n",
    "\n",
    "### Эквивалентный радиус скважин для скин-фактора\n",
    "Скин-фактора во всех расчетах можно заменить на эквивалентный радиус скважины. Идея заключается в том, что изменение проницаемости в призабойной зоне скважины можно представить как измененный радиус скважины в пласте постоянной проницаемости. Такой вариант работает и для положительных и для отрицательных значений скин-фактора, что иногда бывает удобно с вычислительной точки зрения\n",
    "$$ S = -\\ln \\left(\\dfrac{r_{eff.w}}{r_w} \\right) $$\n",
    "или\n",
    "$$ r_{eff.w} = r_w e^{-S} $$\n",
    "\n",
    "* $r_{eff.w}$ - Эффективный радиус скважины,м\n",
    "* $r_{w}$ -  радиус скважины,м\n",
    "* $S$ - скин\n",
    "\n",
    "### Скин фактор в формуле Дюпюи (стационарное решение)\n",
    "\n",
    "$$(p_e - p_{wf}) = \\frac{18.41\\mu q }{\\ k h}(\\ln\\frac{r_e}{r_w}+S) $$\n",
    "\n",
    "Продуктивность скважины определяется как:\n",
    "\n",
    "$$J_{ss} = \\frac{q_s}{p_e - p_{wf}} = \\frac{k h}{18.41\\mu B(\\ ln\\dfrac{r_e}{r_w} + S)} $$\n",
    "\n",
    "### Скин фактор и нестационарное решение\n",
    "\n",
    "$$ p(r, t) = p_{i} - \\frac {9.205\\mu {q_s} B }{k h}(\\ ln\\frac {k t}{ \\phi \\mu {c_t} {r^2}} +7.12 + 2S) $$"
   ]
  },
  {
   "cell_type": "markdown",
   "id": "handy-viewer",
   "metadata": {},
   "source": [
    "## Послеприток к скважине\n",
    "\n",
    "Чаще всего управление дебитом скважины происходит на поверхности - на скважинной арматуре. Регулируя задвижки можно открыть - запустить скважину или остановить работу скважины. Замер дебита также проводится измерительным устройством на поверхности. При этом строя решения уравнения фильтрации мы описываем работу пласта и предполагаем, что знаем дебит именно пласта - дебит на границе соединения скважины с пластом. Объем ствола скважины и сжимаемость флюида в скважине могут привести к тому, что показатели притока на забое и на поверхности будут отличаться, особенно на переходных режимах работы. Именно этот эффект учитывается моделями ствола скважины или моделя послепритока (wellbore storage or afterflow). \n",
    "\n",
    "Самая простая модель предполагает постоянную сжимаемость ствола скважины. Для ее описания вводится коэффициент влияния ствола скважины\n",
    "\n",
    "$$C=V_wc_w = \\dfrac{\\Delta V}{\\Delta P}$$\n",
    "где\n",
    "* $C$ - коэффициент влияния ствола скважины, м$^3$/атм\n",
    "* $V_w$ - объем ствола скважины, м$^3$\n",
    "* $c_w$ - сжимаемость флюда (газожидкостной смеси) в стволе скважины, 1/атм\n",
    "* $\\Delta V$ - изменение объема флюида в скважине, м$^3$\n",
    "* $\\Delta P$ - изменение давления в скважина, атм\n",
    "\n",
    "Коэффициент ствола скважины легко выразить для некоторых случаев.\n",
    "* Для нагнетательной скважины \n",
    "\n",
    "$$C=V_wc_w $$\n",
    "\n",
    "* Для фонтанирующей нефтяной скважины\n",
    "\n",
    "$$C=V_lc_l + \\dfrac{ V_g}{P_g} $$\n",
    "\n",
    "* Для механизированной скважины с динамическим уровнем\n",
    "\n",
    "$$C = f\\dfrac{A}{\\rho g}$$\n",
    "\n",
    "здесь\n",
    "* $C$ - коэффициент влияния ствола скважины, м$^3$/атм\n",
    "* $V_w$ - объем ствола скважины, м$^3$\n",
    "* $c_w$ - сжимаемость воды в стволе скважины, 1/атм\n",
    "* $V_l$ - объем жидкости в стволе фонтанирующей скважины, м$^3$\n",
    "* $c_l$ - сжимаемость жидкости в стволе фонтанирующей скважины, 1/атм\n",
    "* $V_g$ - объем газа  в стволе фонтанирующей скважины, м$^3$\n",
    "* $P_g$ - давление газа в стволе фонтанирующей скважины, атм\n",
    "* $A$ - площадь внутреннего сечения ствола скважины, м$^2$\n",
    "* $\\rho$ - плотность жидкости в стволе скважины, кг/м$^3$\n",
    "* $g$ - ускорение свободного падения, м/сек$^2$\n",
    "* $f$ - переводной коэффициент для согласования размерностей $f=101325$\n",
    "\n",
    "Используя приведенные соотношения можно оценить величины коэффициента послепритока для разных случаев\n",
    "\n",
    "* Для нагнетательной скважины \n",
    "\n",
    "$$C=V_wc_w = 30 \\cdot 4.5\\cdot10^{-5} = 1.35\\cdot10^{-5} [м^3/атм] $$\n",
    "\n",
    "* Для фонтанирующей нефтяной скважины\n",
    "\n",
    "$$C=V_lc_l + \\dfrac{ V_g}{P_g} = 29 \\cdot 5\\cdot10^{-5} + 1 \\cdot \\dfrac{1}{100} = 0.01 [м^3/атм] $$\n",
    "\n",
    "* Для механизированной скважины с динамическим уровнем\n",
    "\n",
    "$$C = f\\dfrac{A}{\\rho g} = \\dfrac{101325 \\cdot 0.015}{9.8 \\cdot 800} = 0.2 [м^3/атм]$$\n",
    "\n",
    "Для связи дебита скважины на поверхности $q_{wh}$ и на забое $q_{sf}$ можно получить выражение\n",
    "\n",
    "$$q_{sf} = q_{wh}B + 24 C\\dfrac{dP_{wf}}{dt} $$ \n",
    "\n",
    "где\n",
    "* $q_{sf}$ - дебит на забое скважины, м$^3$/сут\n",
    "* $q_{wh}$ - дебит на устье скважины м$^3$/сут\n",
    "* $dP_{wf}$ - изменение забойного давления, атм\n",
    "* $dt$ - изменение времени, час\n",
    "* $C$ - коэффициент влияния ствола скважины, м$^3$/атм\n",
    "* $B$ - объемный коэффициент нефти"
   ]
  },
  {
   "cell_type": "markdown",
   "id": "maritime-promotion",
   "metadata": {},
   "source": [
    "# Построение решения в пространстве Лапласа\n",
    "\n",
    "Рассматривается уравнение фильтрации в безразмерных переменных \n",
    "\n",
    "$$ \\frac{\\partial p_D}{ \\partial t_D} = \\frac{1}{r_D}\\left[ \\frac{ \\partial{}}{ \\partial{r_D} }\\left( r_D \\dfrac{\\partial p_D}{ \\partial r_D} \\right) \\right]  $$\n",
    "\n",
    "вводятся следующие безразмерные переменные\n",
    "* $r_D$ - безразмерное расстояние от центра скважины\n",
    "* $t_D$ - безразмерное время\n",
    "* $p_D$ - безразмерное давление\n",
    "\n",
    "Соответствующие определения безразмерных переменных\n",
    "\n",
    "$$ r_D = \\frac{r}{r_w} $$\n",
    "$$ t_D = \\frac{0.00036 kt}{\\phi \\mu c_t r_w^2}$$\n",
    "$$ p_D = \\frac{kh}{ 18.41 q B \\mu} \\left( p_i - p \\right) $$\n",
    "\n",
    "где в свою очередь \n",
    "* $q$ - дебит скважины на поверхности, приведенный к нормальным условиям, м3/сут\n",
    "* $\\phi$ - пористость, доли единиц\n",
    "* $\\mu$ - вязкость нефти в пласте, сП\n",
    "* $B$ - объемный коэффициент нефти, м3/м3\n",
    "* $p_i$ - начальное давление в пласте, атм\n",
    "* $p$ - давление забойное, атм\n",
    "* $c_t$ - общая сжимаемость системы в пласте, 1/атм\n",
    "* $k$ - проницаемость, мД\n",
    "* $t$ -  время, час\n",
    "* $r$ - расстояние от центра скважины, м\n",
    "* $r_w$ - радиус скважины, м\n",
    "\n",
    "дополнительно вводим\n",
    "\n",
    "$$ q_D = \\frac{ q_{sf} }{qB} $$\n",
    "\n",
    "* $q_D$ - безразмерный дебит на поверхности. Нормириуется на произвольный дебит $q$\n",
    "* $q_{sf}$ - дебит на поверхности. Может меняться для задачи постоянного дебита из пласта\n",
    "\n",
    "$$ C_D = 0.159 \\dfrac{C}{h\\phi \\mu c_t r_w^2}$$\n",
    "\n",
    "* $C_D$ - безразрмерный коэффициент влияния скважины"
   ]
  },
  {
   "cell_type": "markdown",
   "id": "386f4ad1",
   "metadata": {},
   "source": [
    "## Граничные условия для конечного радиуса скважины\n",
    "\n",
    "\n",
    "* начальное условие. До запуска скважины в момент времени  $t_D = 0$ давление в пласте равно начальному во всех точках $p=p_i$\n",
    "$$ t_D < 0, p_D = 0 $$\n",
    "\n",
    "* условие постоянства дебита на скважине - граничное условие на скважине\n",
    "$$ \\lim_{r_D \\to 1} {r_D \\frac{\\partial p_D}{\\partial r_D}} = -1$$\n",
    "\n",
    "* условие на бесконечном расстоянии возмущения от скважине нет\n",
    "$$ r_D = \\infty, p_D = 0$$\n",
    "\n",
    "Общее решение имеет вид\n",
    "\n",
    "\n",
    "$$ \\tilde{p}_D(u, r_D) = A(u) K_0(r_D \\sqrt u) + B(u) I_0(r_D \\sqrt u) $$\n",
    "\n",
    "Частное решение соответсвующее приведенным условиям будет иметь вид\n",
    "\n",
    "\n",
    "$$ \\tilde{p}_D(s) = \\frac{1}{s^{\\frac{3}{2}}} \\frac{ K_0 \\left( r_D \\sqrt s  \\right) }{K_1 \\left(  \\sqrt s  \\right)} $$\n",
    "\n",
    "где \n",
    "\n",
    "$K_0$, $K_1$ - <a href=\"https://ru.wikipedia.org/wiki/%D0%9C%D0%BE%D0%B4%D0%B8%D1%84%D0%B8%D1%86%D0%B8%D1%80%D0%BE%D0%B2%D0%B0%D0%BD%D0%BD%D1%8B%D0%B5_%D1%84%D1%83%D0%BD%D0%BA%D1%86%D0%B8%D0%B8_%D0%91%D0%B5%D1%81%D1%81%D0%B5%D0%BB%D1%8F\"\n",
    "                        target=\"_blank\" rel=\"noreferrer noopener\">модифицированные функции Бесселя&nbsp;</a>"
   ]
  },
  {
   "cell_type": "markdown",
   "id": "a258da51",
   "metadata": {},
   "source": [
    "## Граничные условия для скина и послепритока\n",
    "\n",
    "\n",
    "* начальное условие. До запуска скважины в момент времени  $t_D = 0$ давление в пласте равно начальному во всех точках $p=p_i$\n",
    "$$ t_D < 0, p_D = 0 $$\n",
    "\n",
    "* условие на бесконечном расстоянии возмущения от скважине нет\n",
    "$$ r_D = \\infty, p_D = 0$$\n",
    "\n",
    "* условие постоянства дебита на скважине - граничное условие на скважине\n",
    "$$ \\lim_{r_D \\to 1} {r_D \\frac{\\partial p_D}{\\partial r_D}} = -q_D$$\n",
    "\n",
    "где\n",
    "\n",
    "$$ q_D = 1-C_D \\dfrac{dp_{wfD}}{dt_D} $$\n",
    "\n",
    "где\n",
    "$$ p_{wfD} = p_D + q_D S$$\n",
    "\n",
    "Общее решение имеет вид\n",
    "\n",
    "\n",
    "$$ \\tilde{p}_D(u, r_D) = A(u) K_0(r_D \\sqrt u) + B(u) I_0(r_D \\sqrt u) $$\n",
    "\n",
    "Частное решение решение с учетом скин-фактор и послепритока можно представить в виде\n",
    "\n",
    "$$\n",
    "\\tilde{p}_{wbD}(s) = \\frac{1}{s} \\left[ \\frac{S + s \\tilde{p}_D(r_d=1,s) }{1 + s C_D (S + s \\tilde{p}_D(r_d=1,s))} \\right]\n",
    "$$\n",
    "\n",
    "где $\\tilde{p}_D(r_d=1,s)$ - известное частное решение"
   ]
  },
  {
   "cell_type": "code",
   "execution_count": 1,
   "id": "sharp-prison",
   "metadata": {},
   "outputs": [
    {
     "name": "stdout",
     "output_type": "stream",
     "text": [
      "Requirement already satisfied: anaflow in c:\\venv\\base\\lib\\site-packages (1.0.1)\n",
      "Requirement already satisfied: scipy>=1.1.0 in c:\\venv\\base\\lib\\site-packages (from anaflow) (1.7.1)\n",
      "Requirement already satisfied: numpy>=1.14.5 in c:\\venv\\base\\lib\\site-packages (from anaflow) (1.21.2)\n",
      "Requirement already satisfied: pentapy>=1.1.0 in c:\\venv\\base\\lib\\site-packages (from anaflow) (1.1.2)\n"
     ]
    }
   ],
   "source": [
    "!pip install anaflow"
   ]
  },
  {
   "cell_type": "code",
   "execution_count": 2,
   "id": "personalized-thirty",
   "metadata": {},
   "outputs": [],
   "source": [
    "# импортируем библиотки, которые могут пригодиться для проведения расчетов\n",
    "import numpy as np\n",
    "import matplotlib.pyplot as plt\n",
    "from anaflow import get_lap_inv\n",
    "\n",
    "\n",
    "from scipy.special import kn, expi"
   ]
  },
  {
   "cell_type": "code",
   "execution_count": 3,
   "id": "defined-postage",
   "metadata": {},
   "outputs": [],
   "source": [
    "# пример функции реализующий расчет решения в пространстве Лапласа\n",
    "def pd_lapl_line_source(u, rd=1):\n",
    "    \"\"\"\n",
    "    расчет решения линейного стока для безразмерного давления в пространстве Лапласа\n",
    "    u - переменная пространства Лапласа\n",
    "    rd- безразмерное расстояние от центра скважины\n",
    "    \"\"\"\n",
    "    return 1 / u * kn(0, rd * u**0.5)\n",
    "\n",
    "# пример функции реализующий расчет решения в пространстве Лапласа\n",
    "def pd_lapl_finite_rw(u, rd=1):\n",
    "    \"\"\"\n",
    "    расчет решения c конечным радиусом скважины для безразмерного давления в пространстве Лапласа\n",
    "    u - переменная пространства Лапласа\n",
    "    rd- безразмерное расстояние от центра скважины\n",
    "    \"\"\"\n",
    "    return 1 / u**(3/2) * kn(0, rd * u**0.5) / kn(1, u**0.5)"
   ]
  },
  {
   "cell_type": "code",
   "execution_count": 4,
   "id": "included-cleanup",
   "metadata": {},
   "outputs": [
    {
     "name": "stdout",
     "output_type": "stream",
     "text": [
      "0.42102443824070834\n"
     ]
    }
   ],
   "source": [
    "# пример расчета с использованием функции в пространстве Лапласа\n",
    "print(pd_lapl_line_source(1, 1))"
   ]
  },
  {
   "cell_type": "code",
   "execution_count": 5,
   "id": "f3a3d28a",
   "metadata": {},
   "outputs": [],
   "source": [
    "# решение линейного стока в пространстве Лапласа\n",
    "def pd_lapl_wbs(pd_lapl, S=0, Cd=0):\n",
    "    def pdl(s, rd, S=0, Cd=0):\n",
    "        return 1 / s * (S + s * pd_lapl(s, rd=rd)) / (1 + s * Cd * (S + s * pd_lapl(s, rd=rd)))\n",
    "    return pdl"
   ]
  },
  {
   "cell_type": "code",
   "execution_count": 6,
   "id": "df5560f9",
   "metadata": {},
   "outputs": [],
   "source": [
    "# построим функцию инвертирующую решение в пространстве Лапласа\n",
    "\n",
    "# функция расчета безразмерного давления с использованием алгоритма Стефеста\n",
    "# для численного обратного преобразования Лапласа\n",
    "def pd_inv(pd_lapl, td, rd, **kwargs):\n",
    "     \n",
    "    \n",
    "    if isinstance(rd, np.ndarray):\n",
    "        # если на входе массив, то вручную итерируем по всем элементам и \n",
    "        # собираем массив массивов\n",
    "        return np.array(list(map(lambda r: pd_inv(pd_lapl, td, rd=r, **kwargs), rd)))\n",
    "    else:\n",
    "        pd_inv_ = get_lap_inv(pd_lapl, rd=rd, **kwargs)\n",
    "        return pd_inv_(td)"
   ]
  },
  {
   "cell_type": "code",
   "execution_count": 7,
   "id": "8591375c",
   "metadata": {},
   "outputs": [
    {
     "data": {
      "text/plain": [
       "array([1.80214473])"
      ]
     },
     "execution_count": 7,
     "metadata": {},
     "output_type": "execute_result"
    }
   ],
   "source": [
    "pd_inv(pd_lapl_wbs(pd_lapl_finite_rw), td=1, rd=1, S=1)"
   ]
  },
  {
   "cell_type": "code",
   "execution_count": 8,
   "id": "518d44fe",
   "metadata": {},
   "outputs": [
    {
     "data": {
      "text/plain": [
       "array([[2.80214473],\n",
       "       [2.22038795]])"
      ]
     },
     "execution_count": 8,
     "metadata": {},
     "output_type": "execute_result"
    }
   ],
   "source": [
    "pd_inv(pd_lapl_wbs(pd_lapl_finite_rw), td=1, rd=np.array([1, 2]), S=2)"
   ]
  },
  {
   "cell_type": "code",
   "execution_count": 9,
   "id": "effective-noise",
   "metadata": {
    "scrolled": true
   },
   "outputs": [
    {
     "data": {
      "image/png": "[encoded data removed]",
      "text/plain": [
       "<Figure size 432x288 with 1 Axes>"
      ]
     },
     "metadata": {
      "needs_background": "light"
     },
     "output_type": "display_data"
    }
   ],
   "source": [
    "t_d = np.arange(1, 1e8, 1e6)\n",
    "r_d = 1\n",
    "S = 0\n",
    "C_d = 100000 \n",
    "p_d_1 = pd_inv(pd_lapl_finite_rw, td=t_d, rd=r_d)\n",
    "\n",
    "\n",
    "fig, ax = plt.subplots(1,1)\n",
    "\n",
    "clist = np.arange(1,10,1)\n",
    "for ci in clist:\n",
    "    p_d_2 = pd_inv(pd_lapl_wbs(pd_lapl_finite_rw), td=t_d, rd=r_d, S=S, Cd=ci*C_d)\n",
    "    plt.plot(t_d, p_d_2)\n",
    "\n",
    "#ax.set_xscale('log')\n",
    "plt.plot(t_d, p_d_1)\n",
    "plt.show()\n"
   ]
  },
  {
   "cell_type": "code",
   "execution_count": 10,
   "id": "transsexual-security",
   "metadata": {},
   "outputs": [
    {
     "data": {
      "image/png": "[encoded data removed]",
      "text/plain": [
       "<Figure size 432x288 with 1 Axes>"
      ]
     },
     "metadata": {
      "needs_background": "light"
     },
     "output_type": "display_data"
    }
   ],
   "source": [
    "t_d = np.logspace(1, 10)\n",
    "r_d = 1\n",
    "S = 0\n",
    "C_d = 10000 \n",
    "p_d_1 = pd_inv(pd_lapl_finite_rw, td=t_d, rd=r_d)\n",
    "\n",
    "fig, ax = plt.subplots(1,1)\n",
    "\n",
    "clist = np.arange(1,100,10)\n",
    "for ci in clist:\n",
    "    p_d_2 = pd_inv(pd_lapl_wbs(pd_lapl_finite_rw), td=t_d, rd=r_d, S=S, Cd=ci*C_d)\n",
    "    plt.plot(t_d, p_d_2)\n",
    "\n",
    "ax.set_xscale('log')\n",
    "plt.plot(t_d, p_d_1)\n",
    "plt.show()\n"
   ]
  },
  {
   "cell_type": "code",
   "execution_count": 11,
   "id": "ambient-convention",
   "metadata": {},
   "outputs": [
    {
     "data": {
      "image/png": "[encoded data removed]",
      "text/plain": [
       "<Figure size 432x288 with 1 Axes>"
      ]
     },
     "metadata": {
      "needs_background": "light"
     },
     "output_type": "display_data"
    }
   ],
   "source": [
    "t_d = np.logspace(1, 10)\n",
    "r_d = 1\n",
    "S = 0\n",
    "C_d = 10000 \n",
    "p_d_1 = pd_inv(pd_lapl_finite_rw, td=t_d, rd=r_d)\n",
    "\n",
    "\n",
    "fig, ax = plt.subplots(1,1)\n",
    "\n",
    "clist = np.arange(1,100,10)\n",
    "for ci in clist:\n",
    "    p_d_2 =  pd_inv(pd_lapl_wbs(pd_lapl_finite_rw), td=t_d, rd=r_d, S=S, Cd=ci*C_d)\n",
    "    plt.plot(t_d, p_d_2)\n",
    "\n",
    "ax.set_xscale('log')\n",
    "ax.set_yscale('log')\n",
    "plt.plot(t_d, p_d_1)\n",
    "plt.show()"
   ]
  },
  {
   "cell_type": "markdown",
   "id": "fourth-context",
   "metadata": {},
   "source": [
    "# Суперпозиция и решение для полубесконечной плоскости\n",
    "\n",
    "расстояние от скважины до непротекаемой границы 100 м"
   ]
  },
  {
   "cell_type": "code",
   "execution_count": 12,
   "id": "quality-walnut",
   "metadata": {},
   "outputs": [],
   "source": [
    "rb = 100"
   ]
  },
  {
   "cell_type": "markdown",
   "id": "ceramic-encoding",
   "metadata": {},
   "source": [
    "используем `pd_ls_func`"
   ]
  },
  {
   "cell_type": "code",
   "execution_count": null,
   "id": "female-synthetic",
   "metadata": {},
   "outputs": [],
   "source": []
  }
 ],
 "metadata": {
  "kernelspec": {
   "display_name": "Python 3",
   "language": "python",
   "name": "python3"
  },
  "language_info": {
   "codemirror_mode": {
    "name": "ipython",
    "version": 3
   },
   "file_extension": ".py",
   "mimetype": "text/x-python",
   "name": "python",
   "nbconvert_exporter": "python",
   "pygments_lexer": "ipython3",
   "version": "3.9.2"
  }
 },
 "nbformat": 4,
 "nbformat_minor": 5
}
