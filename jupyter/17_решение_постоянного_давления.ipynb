{
 "cells": [
  {
   "cell_type": "markdown",
   "id": "derived-spencer",
   "metadata": {},
   "source": [
    "# Решения уравнения фильтрации для постоянного дебита\n",
    "\n",
    "Материалы курсов \"Исследования скважин и пластов\" и \"Гидродинамические исследования скважин\" в РГУ нефти и газа имени И.М.Губкина.\n",
    "\n",
    "Хабибуллин Ринат 2021 г.\n",
    "\n",
    "версия 0.1 от 08.10.2021"
   ]
  },
  {
   "cell_type": "markdown",
   "id": "joined-lemon",
   "metadata": {},
   "source": [
    "Решение для бесконечно малого радиуса скважины в пространстве Лапласа будет иметь вид\n",
    "\n",
    "$$ \\tilde{p}_D(s) = \\frac{1}{s} K_0 \\left( r_D \\sqrt s  \\right) $$\n",
    "\n",
    "где \n",
    "\n",
    "$K_0$ - <a href=\"https://ru.wikipedia.org/wiki/%D0%9C%D0%BE%D0%B4%D0%B8%D1%84%D0%B8%D1%86%D0%B8%D1%80%D0%BE%D0%B2%D0%B0%D0%BD%D0%BD%D1%8B%D0%B5_%D1%84%D1%83%D0%BD%D0%BA%D1%86%D0%B8%D0%B8_%D0%91%D0%B5%D1%81%D1%81%D0%B5%D0%BB%D1%8F\"\n",
    "                        target=\"_blank\" rel=\"noreferrer noopener\">модифицированная функция Бесселя&nbsp;</a>"
   ]
  },
  {
   "cell_type": "markdown",
   "id": "liquid-insured",
   "metadata": {},
   "source": [
    "Решение для конечного радиуса скважины в пространстве Лапласа будет иметь вид\n",
    "\n",
    "\n",
    "$$ \\tilde{p}_D(s) = \\frac{1}{s^{\\frac{3}{2}}} \\frac{ K_0 \\left( r_D \\sqrt s  \\right) }{K_1 \\left(  \\sqrt s  \\right)} $$\n"
   ]
  },
  {
   "cell_type": "markdown",
   "id": "increased-draft",
   "metadata": {},
   "source": [
    "Для случая постоянного забойного давления можно получить\n",
    "\n",
    "$$ \\tilde{q}_D(s) = \\frac{1}{s^{\\frac{3}{2}}} \\frac{ K_1 \\left(  \\sqrt s  \\right) }{K_0 \\left(  \\sqrt s  \\right)} $$\n"
   ]
  },
  {
   "cell_type": "code",
   "execution_count": 1,
   "id": "suburban-headset",
   "metadata": {},
   "outputs": [],
   "source": [
    "# импортируем библиотки, которые могут пригодиться для проведения расчетов\n",
    "import numpy as np\n",
    "import matplotlib.pyplot as plt\n",
    "from mpmath import *\n",
    "mp.dps = 15; mp.pretty = True"
   ]
  },
  {
   "cell_type": "code",
   "execution_count": 21,
   "id": "joined-driver",
   "metadata": {},
   "outputs": [],
   "source": [
    "# решение линейного стока в пространстве Лапласа\n",
    "def pd_line_source_lapl(s, rd=1):\n",
    "  return 1/s * besselk(0, rd*s**0.5)\n",
    "\n",
    "# решение конечного радиуса скважины в пространстве Лапласа\n",
    "def pd_rw_lapl(s, rd=1):\n",
    "  return 1/s**(3/2) * besselk(0, rd*s**0.5) / besselk(1, s**0.5)\n",
    "\n",
    "\n",
    "# решение конечного радиуса скважины в пространстве Лапласа\n",
    "def qd_rw_lapl(s):\n",
    "  return 1/s**(1/2) * besselk(1, s**0.5) / besselk(0, s**0.5)"
   ]
  },
  {
   "cell_type": "code",
   "execution_count": 22,
   "id": "recent-leisure",
   "metadata": {},
   "outputs": [],
   "source": [
    "# реализация функции расчета безразмерного давления на основе преобразования Лапласа\n",
    "def pd_line_source(rd, td):\n",
    "  fp = lambda p: pd_line_source_lapl(p, rd)\n",
    "  return invertlaplace(fp, td, method='stehfest', degree = 5)\n",
    "\n",
    "def pd_rw(rd, td):\n",
    "  fp = lambda p: pd_rw_lapl(p, rd)\n",
    "  return invertlaplace(fp, td, method='stehfest', degree = 5)\n",
    "\n",
    "def qd_rw(td):\n",
    "    return invertlaplace(qd_rw_lapl, td, method='stehfest', degree = 5)\n",
    "\n",
    "#pd_line_sourse = np.vectorize(pd_line_source_)"
   ]
  },
  {
   "cell_type": "code",
   "execution_count": 16,
   "id": "changed-topic",
   "metadata": {},
   "outputs": [
    {
     "data": {
      "text/plain": [
       "<function matplotlib.pyplot.plot(*args, scalex=True, scaley=True, data=None, **kwargs)>"
      ]
     },
     "execution_count": 16,
     "metadata": {},
     "output_type": "execute_result"
    },
    {
     "data": {
      "image/png": "[encoded data removed]",
      "text/plain": [
       "<Figure size 432x288 with 1 Axes>"
      ]
     },
     "metadata": {
      "needs_background": "light"
     },
     "output_type": "display_data"
    }
   ],
   "source": [
    "t_d=1000\n",
    "\n",
    "r_d = np.arange(1, 1000, 10)\n",
    "p_d = [pd_line_source(ri, t_d) for ri in r_d ]\n",
    "p_d2 = [pd_rw(ri, t_d) for ri in r_d ]\n",
    "\n",
    "plt.plot(r_d, p_d)\n",
    "plt.plot(r_d, p_d2)\n",
    "plt.plot"
   ]
  },
  {
   "cell_type": "code",
   "execution_count": 18,
   "id": "comparable-checkout",
   "metadata": {},
   "outputs": [
    {
     "data": {
      "text/plain": [
       "<function matplotlib.pyplot.plot(*args, scalex=True, scaley=True, data=None, **kwargs)>"
      ]
     },
     "execution_count": 18,
     "metadata": {},
     "output_type": "execute_result"
    },
    {
     "data": {
      "image/png": "[encoded data removed]",
      "text/plain": [
       "<Figure size 432x288 with 1 Axes>"
      ]
     },
     "metadata": {
      "needs_background": "light"
     },
     "output_type": "display_data"
    }
   ],
   "source": [
    "rd=1\n",
    "\n",
    "td = np.arange(1, 1000, 10)\n",
    "pd = [pd_line_source(rd, ti) for ti in td ]\n",
    "pd2 = [pd_rw(rd, ti) for ti in td ]\n",
    "\n",
    "plt.plot(td, pd)\n",
    "plt.plot(td, pd2)\n",
    "plt.plot"
   ]
  },
  {
   "cell_type": "code",
   "execution_count": 23,
   "id": "conservative-brain",
   "metadata": {},
   "outputs": [
    {
     "data": {
      "text/plain": [
       "<function matplotlib.pyplot.plot(*args, scalex=True, scaley=True, data=None, **kwargs)>"
      ]
     },
     "execution_count": 23,
     "metadata": {},
     "output_type": "execute_result"
    },
    {
     "data": {
      "image/png": "[encoded data removed]",
      "text/plain": [
       "<Figure size 432x288 with 1 Axes>"
      ]
     },
     "metadata": {
      "needs_background": "light"
     },
     "output_type": "display_data"
    }
   ],
   "source": [
    "rd=1\n",
    "\n",
    "td = np.arange(1, 1000, 10)\n",
    "pd = [qd_rw(ti) for ti in td ]\n",
    "\n",
    "plt.plot(td, pd)\n",
    "\n",
    "plt.plot"
   ]
  },
  {
   "cell_type": "code",
   "execution_count": null,
   "id": "pleased-stone",
   "metadata": {},
   "outputs": [],
   "source": []
  }
 ],
 "metadata": {
  "kernelspec": {
   "display_name": "Python 3",
   "language": "python",
   "name": "python3"
  },
  "language_info": {
   "codemirror_mode": {
    "name": "ipython",
    "version": 3
   },
   "file_extension": ".py",
   "mimetype": "text/x-python",
   "name": "python",
   "nbconvert_exporter": "python",
   "pygments_lexer": "ipython3",
   "version": "3.9.2"
  }
 },
 "nbformat": 4,
 "nbformat_minor": 5
}
