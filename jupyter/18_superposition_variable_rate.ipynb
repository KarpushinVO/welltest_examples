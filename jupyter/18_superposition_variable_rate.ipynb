{
 "cells": [
  {
   "cell_type": "markdown",
   "id": "written-voice",
   "metadata": {},
   "source": [
    "# Построение решения с использованием суперпозиции для переменного дебита \n",
    "Материалы курсов \"Исследования скважин и пластов\" и \"Гидродинамические исследования скважин\" в РГУ нефти и газа имени И.М.Губкина.\n",
    "\n",
    "Версия 0.2 от 20.10.2021\n",
    "\n",
    "Хабибуллин Ринат 2021 г.\n",
    "\n",
    "---\n",
    "[Открыть на google colab](https://colab.research.google.com/github/khabibullinra/welltest_examples/blob/master/jupyter/18_superposition_variable_rate.ipynb)"
   ]
  },
  {
   "cell_type": "markdown",
   "id": "fiscal-recorder",
   "metadata": {},
   "source": [
    "# Содержание\n"
   ]
  },
  {
   "cell_type": "code",
   "execution_count": 1,
   "id": "cleared-genome",
   "metadata": {},
   "outputs": [
    {
     "name": "stdout",
     "output_type": "stream",
     "text": [
      "Requirement already satisfied: welltest in c:\\rnt\\welltest_examples\\env\\lib\\site-packages (0.1)\n",
      "Requirement already satisfied: numpy in c:\\rnt\\welltest_examples\\env\\lib\\site-packages (from welltest) (1.21.2)\n",
      "Requirement already satisfied: anaflow in c:\\rnt\\welltest_examples\\env\\lib\\site-packages (from welltest) (1.0.1)\n",
      "Requirement already satisfied: scipy>=1.1.0 in c:\\rnt\\welltest_examples\\env\\lib\\site-packages (from anaflow->welltest) (1.7.1)\n",
      "Requirement already satisfied: pentapy>=1.1.0 in c:\\rnt\\welltest_examples\\env\\lib\\site-packages (from anaflow->welltest) (1.1.2)\n"
     ]
    }
   ],
   "source": [
    "# для того, чтобы скрипты гладко работали на https://colab.research.google.com/ пропишем\n",
    "# установку библиотеки welltest\n",
    "# библиотека welltest загружает определения функций для безразмерных переменных\n",
    "# а также грузит anaflow которая обеспечивает работу с обратным преобразованием Лапласа\n",
    "\n",
    "!pip install welltest"
   ]
  },
  {
   "cell_type": "code",
   "execution_count": 2,
   "id": "authentic-train",
   "metadata": {},
   "outputs": [],
   "source": [
    "# импортируем библиотки, которые могут пригодиться для проведения расчетов\n",
    "import numpy as np\n",
    "import matplotlib.pyplot as plt\n",
    "from anaflow import get_lap_inv\n",
    "from scipy.special import kn, iv, expi\n",
    "\n",
    "from welltest.functions import *"
   ]
  },
  {
   "cell_type": "code",
   "execution_count": 1,
   "id": "eligible-label",
   "metadata": {},
   "outputs": [],
   "source": [
    "# Решение линейного стока уравнения фильтрации\n",
    "def pd_ei(td, rd=1):\n",
    "    \"\"\"\n",
    "    Решение линейного стока уравнения фильтрации\n",
    "    rd - безразмерное расстояние\n",
    "    td - безразмерное время\n",
    "    \"\"\"\n",
    "    # при расчете убедимся, что td=0 не повлияет на расчет, даже если td массив и нулевой только один элемент\n",
    "    return np.multiply(-0.5, expi(np.divide(-rd**2 / 4 , td, out=np.zeros_like(td), where=td!=0)), \n",
    "                     out=np.zeros_like(td), where=td!=0)"
   ]
  },
  {
   "cell_type": "code",
   "execution_count": null,
   "id": "breathing-flashing",
   "metadata": {},
   "outputs": [],
   "source": [
    "p = pd_ei(td, rd=1) + pd_ei(td, rd = 2*r_ed)"
   ]
  },
  {
   "cell_type": "markdown",
   "id": "adult-greece",
   "metadata": {},
   "source": [
    "# Расчет кривой восстановления давления\n",
    "\n",
    "Один из самых простых примеров применения суперпозиции. Предполагаем, что добывающая скважина в однородном изотропном пласте запускается в момент времени `t=0` и работает `t_p_hr` часов, после чего останавливается. После остановки скважины забойное давление растет - и мы получим кривую восстановления давления.\n",
    "\n",
    "Пусть решение задачи запуска скважины (падения давления) будет $P_d(t_d, r_d)$. Тогда решение для изменения давления при запуске и последующей остановки скважины можно представить в виде \n",
    "$$P_{bu.d}(t_d, t_{prod.d}) = P_d(t_d) - P_d(t_d-t_{prod.d}) \\cdot \\mathcal{H}(t_d-t_{prod.d})$$\n",
    "\n",
    "где\n",
    "* $t_d$ - безразмерное время после запуска скважины,\n",
    "* $t_{prod.d}$ - безразмерное время работы скважины после запуска\n",
    "* $\\mathcal{H}$ - ступенчатая [функция Хевисайда](https://ru.wikipedia.org/wiki/%D0%A4%D1%83%D0%BD%D0%BA%D1%86%D0%B8%D1%8F_%D0%A5%D0%B5%D0%B2%D0%B8%D1%81%D0%B0%D0%B9%D0%B4%D0%B0) (в некоторых книгах обозначается как $\\theta$)\n",
    "* $P_d(t_d, r_d)$ - безразмерное давление - решение задачи запуска скважины (падения давления)\n",
    "* $P_{bu.d}(t_d, r_d)$ - безразмерное давление- решение задачи запуска скважины и последующей остановки скважины\n",
    "\n",
    "Функция Хевисайда\n",
    "\n",
    "$$ \\mathcal{H} = \\begin{cases}0 & x < 0\\\\1 & x = 0\\\\1 & x > 0\\end{cases}$$\n",
    "\n",
    "В формуле опущен радиус - так как решение будет верно для любых значений радиуса, в том числе для $r_d=1$, что соответвует давлению на забое скважины"
   ]
  },
  {
   "cell_type": "code",
   "execution_count": 4,
   "id": "warming-serbia",
   "metadata": {},
   "outputs": [
    {
     "data": {
      "image/png": "[encoded data removed]",
      "text/plain": [
       "<Figure size 576x216 with 1 Axes>"
      ]
     },
     "metadata": {
      "needs_background": "light"
     },
     "output_type": "display_data"
    }
   ],
   "source": [
    "x = np.arange(-2,2,0.01)\n",
    "y = np.heaviside(x, 1)\n",
    "\n",
    "plt.rcParams[\"figure.figsize\"] = (8,3)\n",
    "plt.plot(x,y)\n",
    "plt.title('Функция Хевисайда $\\mathcal{H}$ ')\n",
    "plt.show()"
   ]
  },
  {
   "cell_type": "code",
   "execution_count": 5,
   "id": "prospective-television",
   "metadata": {},
   "outputs": [],
   "source": [
    "def pd_build_up(td, td_p):\n",
    "    \"\"\"\n",
    "    расчет давления для запуска и последующей остановки скважины\n",
    "    td - время после запуска\n",
    "    td_p - время безразмерное - которое скважина работала до остановки\n",
    "    \"\"\"\n",
    "\n",
    "    return pd_ei(td) - np.heaviside(td-td_p,1) * pd_ei(td-td_p)\n",
    "    "
   ]
  },
  {
   "cell_type": "code",
   "execution_count": 6,
   "id": "stuck-holder",
   "metadata": {},
   "outputs": [
    {
     "name": "stdout",
     "output_type": "stream",
     "text": [
      "время работы скважины 24.00 часа, что соответсвует безразмерному времени 4320000.00\n"
     ]
    }
   ],
   "source": [
    "t_arr = np.arange(1e-3, 48, 1e-2)\n",
    "t_prod_hr = 24\n",
    "k = 10   # проницаемость\n",
    "q = 30   # дебит\n",
    "\n",
    "# переведем размерный массив времени в безразмерные величины\n",
    "td_arr = td_from_t(t_arr, k_mD=k)\n",
    "td_prod = td_from_t(t_prod_hr, k_mD=k)\n",
    "print('время работы скважины {:.2f} часа, что соответсвует безразмерному времени {:.2f}'.format(t_prod_hr, td_prod))"
   ]
  },
  {
   "cell_type": "code",
   "execution_count": 7,
   "id": "finite-privacy",
   "metadata": {},
   "outputs": [],
   "source": [
    "# для заданного массива безразмерных времен рассчитаем безразмерные давления\n",
    "pd_arr = pd_build_up(td_arr, td_prod)"
   ]
  },
  {
   "cell_type": "code",
   "execution_count": 8,
   "id": "occupied-craps",
   "metadata": {},
   "outputs": [
    {
     "data": {
      "image/png": "[encoded data removed]",
      "text/plain": [
       "<Figure size 576x216 with 1 Axes>"
      ]
     },
     "metadata": {
      "needs_background": "light"
     },
     "output_type": "display_data"
    }
   ],
   "source": [
    "plt.rcParams[\"figure.figsize\"] = (8,3)\n",
    "plt.plot(td_arr, pd_arr)\n",
    "plt.xlabel('td')\n",
    "plt.ylabel('pd')\n",
    "plt.title('Решение в безразмерных координатах')\n",
    "plt.show()"
   ]
  },
  {
   "cell_type": "code",
   "execution_count": 9,
   "id": "bibliographic-crowd",
   "metadata": {},
   "outputs": [],
   "source": [
    "# переведем безразмерные координаты в размерные\n",
    "p_arr = p_from_pd_atma(pd_arr, k_mD=k, q_sm3day=q)"
   ]
  },
  {
   "cell_type": "code",
   "execution_count": 10,
   "id": "automatic-office",
   "metadata": {},
   "outputs": [
    {
     "data": {
      "image/png": "[encoded data removed]",
      "text/plain": [
       "<Figure size 576x216 with 1 Axes>"
      ]
     },
     "metadata": {
      "needs_background": "light"
     },
     "output_type": "display_data"
    }
   ],
   "source": [
    "plt.rcParams[\"figure.figsize\"] = (8,3)\n",
    "plt.plot(t_arr, p_arr)\n",
    "plt.xlabel('t, hr')\n",
    "plt.ylabel('p, atma')\n",
    "plt.title('Решение в размерных координатах')\n",
    "plt.show()"
   ]
  },
  {
   "cell_type": "markdown",
   "id": "silent-grain",
   "metadata": {},
   "source": [
    "# Случай для произвольной истории дебитов"
   ]
  },
  {
   "cell_type": "code",
   "execution_count": 11,
   "id": "imposed-gender",
   "metadata": {},
   "outputs": [],
   "source": [
    "# создадим историю изменения дебитов \n",
    "\n",
    "t_history = np.array([ 0., 2., 24. ], dtype=np.float64) \n",
    "q_history = np.array([10., 5., 0.], dtype=np.float64)\n",
    "\n",
    "# массивы должны быть одной и той же длины"
   ]
  },
  {
   "cell_type": "markdown",
   "id": "fiscal-overview",
   "metadata": {},
   "source": [
    "Для расчета изменения давления при переменном дебите введем произвольное референсное значение дебита q_{ref} (например первое не нулевое значение дебита при запуске скважины). Используем это значение для определения безразмерного давления.\n",
    "$$ p_D = \\frac{kh}{ 18.41 q_{ref} B \\mu} \\left( p_i - p \\right) $$\n",
    "\n",
    "Тогда, используя принцип суперпозиции, можем выписать выражение для изменения давления на скважине и вокруг нее для произвольного момента времени\n",
    "\n",
    "$$P_{mr.D} = \\sum_i \\frac{q_{i}-q_{i-1}}{q_{ref}} p_D\\left(t-t_i\\right)\\cdot \\mathcal{H}(t-t_i)$$\n",
    "\n",
    "где\n",
    "\n",
    "* $i$ - индекс значения дебита в таблице изменения дебитов\n",
    "* $q_i$ - дебит с номером $i$, который стартует в момент времени $t_i$. Для первого момента времени $i$ дебит следующий перед ним считается равным нулю\n",
    "* $t_i$ - момент времени с номером $i$\n",
    "* $\\mathcal{H}$ - ступенчатая [функция Хевисайда]\n",
    "* $p_D$ - безразмерное давление - решение задачи запуска скважины (падения давления)"
   ]
  },
  {
   "cell_type": "code",
   "execution_count": 17,
   "id": "reported-rental",
   "metadata": {},
   "outputs": [],
   "source": [
    "def p_superposition_atma(t_hr, t_hist_hr, q_hist_sm3day):\n",
    "    \"\"\"\n",
    "    расчет давления для запуска и последующей остановки скважины\n",
    "    t_hr - время после запуска в часах\n",
    "    t_hist_hr - массив времен изменения режимов работы скважин\n",
    "    q_hist_sm3day - массив дебитов установленных после изменения режима работы\n",
    "    \"\"\"\n",
    "    # принудительно добавим нули во входные массивы, чтобы учесть запуск скважины\n",
    "    qh = np.hstack([0, q_hist_sm3day])\n",
    "    th = np.hstack([0, t_hist_hr])\n",
    "    # построим дебиты виртуальных скважин - разности реальных дебитов при переключении\n",
    "    delta_q = np.hstack([0, np.diff(qh)])\n",
    "    # зададимся каким нибудь дебитом как референсным\n",
    "    q_ref = np.max(delta_q)\n",
    "    # векторная магия - время может быть вектором и переключения дебитов тоже вектор\n",
    "    # надо организовать сумму по временам, каждая из котороых сумма по переключениям\n",
    "    # делаем при помощи расчета meshgrid и поиска накопленных сумм\n",
    "    q, t =np.meshgrid(delta_q/q_ref, t_hr)\n",
    "    dp = np.cumsum(q * pd_ei(td_from_t(t - th))* np.heaviside(td_from_t(t - th), 1),1 )\n",
    "\n",
    "    return p_from_pd_atma(dp[:,-1], q_sm3day = q_ref)\n",
    "\n",
    "def interpolate_constant(x, xp, yp):\n",
    "    indices = np.searchsorted(xp, x, side='right')\n",
    "    y = np.concatenate(([0], yp))\n",
    "    return y[indices]\n",
    "\n",
    "def q_superposition_sm3day(t_hr, t_hist_hr, q_hist_sm3day):\n",
    "    \"\"\"\n",
    "    расчет давления для запуска и последующей остановки скважины\n",
    "    t_hr - время после запуска в часах\n",
    "    t_hist_hr - массив времен изменения режимов работы скважин\n",
    "    q_hist_sm3day - массив дебитов установленных после изменения режима работы\n",
    "    \"\"\"\n",
    "    q=[]\n",
    "    for ti in t_hr:\n",
    "        q.append(interpolate_constant(ti, t_hist_hr, q_hist_sm3day))\n",
    "    return q"
   ]
  },
  {
   "cell_type": "code",
   "execution_count": 18,
   "id": "amateur-packaging",
   "metadata": {},
   "outputs": [
    {
     "data": {
      "text/plain": [
       "[10, 11]"
      ]
     },
     "execution_count": 18,
     "metadata": {},
     "output_type": "execute_result"
    }
   ],
   "source": [
    "q_superposition_sm3day([1,2], t_history, q_history)"
   ]
  },
  {
   "cell_type": "code",
   "execution_count": 19,
   "id": "dense-socket",
   "metadata": {},
   "outputs": [
    {
     "data": {
      "text/plain": [
       "array([235.73984352, 234.97419391])"
      ]
     },
     "execution_count": 19,
     "metadata": {},
     "output_type": "execute_result"
    }
   ],
   "source": [
    "p_superposition_atma(np.array([1,2]), t_history, q_history)"
   ]
  },
  {
   "cell_type": "code",
   "execution_count": 20,
   "id": "aging-report",
   "metadata": {},
   "outputs": [
    {
     "data": {
      "image/png": "[encoded data removed]",
      "text/plain": [
       "<Figure size 864x360 with 2 Axes>"
      ]
     },
     "metadata": {
      "needs_background": "light"
     },
     "output_type": "display_data"
    }
   ],
   "source": [
    "t_arr = np.arange(1e-3, 50, 1e-2)\n",
    "plt.rcParams[\"figure.figsize\"] = (12,5)\n",
    "\n",
    "fig, (ax1, ax2) = plt.subplots(2,1)\n",
    "ax1.plot(t_arr, q_superposition_sm3day(t_arr, t_history, q_history)) \n",
    "ax2.plot(t_arr, p_superposition_atma(t_arr, t_history, q_history), color='red') \n",
    "ax2.set_xlabel('t, hr')\n",
    "ax1.set_ylabel('q, m3/day')\n",
    "ax2.set_ylabel('p, atma')\n",
    "plt.show()"
   ]
  },
  {
   "cell_type": "code",
   "execution_count": 16,
   "id": "scenic-harassment",
   "metadata": {},
   "outputs": [
    {
     "data": {
      "image/png": "[encoded data removed]",
      "text/plain": [
       "<Figure size 864x360 with 2 Axes>"
      ]
     },
     "metadata": {
      "needs_background": "light"
     },
     "output_type": "display_data"
    }
   ],
   "source": [
    "\n",
    "t_history = [0, 2, 10, 24, 24.1,24.2,24.3,24.4,24.5 ]\n",
    "q_history = [10,11, 12,11,10,9,8,7, 6]\n",
    "\n",
    "plt.rcParams[\"figure.figsize\"] = (12,5)\n",
    "\n",
    "fig, (ax1, ax2) = plt.subplots(2,1)\n",
    "ax1.plot(t_arr, q_superposition_sm3day(t_arr, t_history, q_history)) \n",
    "ax2.plot(t_arr, p_superposition_atma(t_arr, t_history, q_history), color='red') \n",
    "ax2.set_xlabel('t, hr')\n",
    "ax1.set_ylabel('q, m3/day')\n",
    "ax2.set_ylabel('p, atma')\n",
    "plt.show()"
   ]
  },
  {
   "cell_type": "code",
   "execution_count": null,
   "id": "certified-capacity",
   "metadata": {},
   "outputs": [],
   "source": []
  }
 ],
 "metadata": {
  "interpreter": {
   "hash": "3c15a923ec6b0d79e2300f3c7fbb0bc4ef54e7e3942e223dc570cc8d4d7801db"
  },
  "kernelspec": {
   "display_name": "Python 3 (ipykernel)",
   "language": "python",
   "name": "python3"
  },
  "language_info": {
   "codemirror_mode": {
    "name": "ipython",
    "version": 3
   },
   "file_extension": ".py",
   "mimetype": "text/x-python",
   "name": "python",
   "nbconvert_exporter": "python",
   "pygments_lexer": "ipython3",
   "version": "3.9.7"
  }
 },
 "nbformat": 4,
 "nbformat_minor": 5
}
