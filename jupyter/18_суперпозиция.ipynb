{
 "cells": [
  {
   "cell_type": "markdown",
   "id": "synthetic-worthy",
   "metadata": {},
   "source": [
    "Построение решения с учетом суперпозиции"
   ]
  },
  {
   "cell_type": "code",
   "execution_count": 1,
   "id": "unlimited-advance",
   "metadata": {},
   "outputs": [
    {
     "name": "stdout",
     "output_type": "stream",
     "text": [
      "Requirement already satisfied: anaflow in c:\\venv\\base\\lib\\site-packages (1.0.1)\n",
      "Requirement already satisfied: scipy>=1.1.0 in c:\\venv\\base\\lib\\site-packages (from anaflow) (1.6.2)\n",
      "Requirement already satisfied: numpy>=1.14.5 in c:\\venv\\base\\lib\\site-packages (from anaflow) (1.20.1)\n",
      "Requirement already satisfied: pentapy>=1.1.0 in c:\\venv\\base\\lib\\site-packages (from anaflow) (1.1.2)\n"
     ]
    }
   ],
   "source": [
    "!pip install anaflow"
   ]
  },
  {
   "cell_type": "code",
   "execution_count": 2,
   "id": "silver-newton",
   "metadata": {},
   "outputs": [],
   "source": [
    "# импортируем библиотки, которые могут пригодиться для проведения расчетов\n",
    "import numpy as np\n",
    "import matplotlib.pyplot as plt\n",
    "from anaflow import get_lap_inv\n",
    "from scipy.special import kn, iv, expi"
   ]
  },
  {
   "cell_type": "code",
   "execution_count": 3,
   "id": "champion-market",
   "metadata": {},
   "outputs": [],
   "source": [
    "# определим функции для перевода размерных переменных в безразмерные и обратно\n",
    "# пригодится потом для построения графиков и ведения расчетов\n",
    "\n",
    "# при наименовании функций придерживаемся следующих соглашений\n",
    "# сначала идет название того, что считаем\n",
    "# в конце указывается размерность результата, если это уместно\n",
    "\n",
    "def r_from_rd_m(rd, rw_m=0.1):\n",
    "    \"\"\"\n",
    "    перевод безразмерного расстояния в размерное\n",
    "    rd -  безразмерное расстояние\n",
    "    rw_m -  радиус скважины, м\n",
    "    \"\"\"\n",
    "    return rd*rw_m\n",
    "\n",
    "def rd_from_r(r_m, rw_m=0.1):\n",
    "    \"\"\"\n",
    "    перевод размерного расстояния в безразмерное\n",
    "    r_m - размерное расстояние, м\n",
    "    rw_m - радиус скважины, м\n",
    "    \"\"\"\n",
    "    return r_m/rw_m\n",
    "\n",
    "def t_from_td_hr(td, k_mD=10, phi=0.2, mu_cP=1, ct_1atm=1e-5, rw_m=0.1):\n",
    "    \"\"\"\n",
    "    перевод безразмерного времени в размерное, результат в часах\n",
    "    td - безразмерное время\n",
    "    k_mD - проницаемость пласта, мД\n",
    "    phi - пористость, доли единиц\n",
    "    mu_cP - динамическая вязкость флюида, сП\n",
    "    ct_1atm - общая сжимаемость, 1/атм\n",
    "    rw_m - радиус скважины, м\n",
    "    \"\"\"\n",
    "    return td * phi * mu_cP * ct_1atm * rw_m * rw_m / k_mD / 0.00036\n",
    "\n",
    "def td_from_t(t_hr, k_mD=10, phi=0.2, mu_cP=1, ct_1atm=1e-5, rw_m=0.1):\n",
    "    \"\"\"\n",
    "    перевод размерного времени в безразмерное\n",
    "    t_hr - размерное время, час\n",
    "    k_mD - проницаемость пласта, мД\n",
    "    phi - пористость, доли единиц\n",
    "    mu_cP - динамическая вязкость флюида, сП\n",
    "    ct_1atm - общая сжимаемость, 1/атм\n",
    "    rw_m - радиус скважины, м\n",
    "    \"\"\"\n",
    "    return  0.00036 * t_hr * k_mD / (phi * mu_cP * ct_1atm * rw_m * rw_m) \n",
    "\n",
    "def p_from_pd_atma(pd, k_mD=10, h_m=10, q_sm3day=20, b_m3m3=1.2, mu_cP=1, pi_atma=250):\n",
    "    \"\"\"\n",
    "    перевод безразмерного давления в размерное, результат в абсолютных атмосферах\n",
    "    pd - безразмерное давление\n",
    "    k_mD - проницаемость пласта, мД\n",
    "    h_m - мощность пласта, м\n",
    "    q_sm3day - дебит на поверхности, м3/сут в с.у.\n",
    "    fvf_m3m3 - объемный коэффициент нефти, м3/м3\n",
    "    mu_cP - динамическая вязкость флюида, сП\n",
    "    pi_atma - начальное давление, абсолютные атм.\n",
    "    \"\"\"\n",
    "    return pi_atma - pd * 18.41 * q_sm3day * b_m3m3 * mu_cP / k_mD / h_m \n",
    "\n",
    "def pd_from_p(p_atma, k_mD=10, h_m=10, q_sm3day=20, b_m3m3=1.2, mu_cP=1, pi_atma=250):\n",
    "    \"\"\"\n",
    "    перевод размерного давления в безразмерное\n",
    "    p_atma - давление\n",
    "    k_mD - проницаемость пласта, мД\n",
    "    h_m - мощность пласта, м\n",
    "    q_sm3day - дебит на поверхности, м3/сут в с.у.\n",
    "    fvf_m3m3 - объемный коэффициент нефти, м3/м3\n",
    "    mu_cP - динамическая вязкость флюида, сП\n",
    "    pi_atma - начальное давление, абсолютные атм.\n",
    "    \"\"\"\n",
    "    return (pi_atma - p_atma) / (18.41 * q_sm3day * b_m3m3 * mu_cP) * k_mD * h_m "
   ]
  },
  {
   "cell_type": "code",
   "execution_count": 4,
   "id": "judicial-poker",
   "metadata": {},
   "outputs": [],
   "source": [
    "# Решение линейного стока уравнения фильтрации\n",
    "def pd_ei(td, rd=1):\n",
    "    \"\"\"\n",
    "    Решение линейного стока уравнения фильтрации\n",
    "    rd - безразмерное расстояние\n",
    "    td - безразмерное время\n",
    "    \"\"\"\n",
    "    return -1/2*expi(-rd**2 / 4 / td)"
   ]
  },
  {
   "cell_type": "markdown",
   "id": "contemporary-jamaica",
   "metadata": {},
   "source": [
    "# простой случай - восстановление давления\n"
   ]
  },
  {
   "cell_type": "code",
   "execution_count": 5,
   "id": "known-hepatitis",
   "metadata": {},
   "outputs": [],
   "source": [
    "t_p_hr = 24  # время работы скважины"
   ]
  },
  {
   "cell_type": "code",
   "execution_count": 6,
   "id": "decent-robertson",
   "metadata": {},
   "outputs": [],
   "source": [
    "def pd_build_up(td, td_p):\n",
    "    \"\"\"\n",
    "    расчет давления для запуска и последующей остановки скважины\n",
    "    td - время после запуска\n",
    "    td_p - время безразмерное - которое скважина работала до остановки\n",
    "    \"\"\"\n",
    "    p_d=[]\n",
    "    for ti in td:\n",
    "        if ti < td_p:\n",
    "            p_d.append(pd_ei(ti))\n",
    "        else:\n",
    "            p_d.append(pd_ei(ti) - pd_ei(td_p-ti))\n",
    "    return np.array(p_d)\n",
    "        "
   ]
  },
  {
   "cell_type": "markdown",
   "id": "fancy-earth",
   "metadata": {},
   "source": [
    "Функция Хевисайда\n",
    "\n",
    "$$ \\mathcal{H} = \\begin{cases}0 & x < 0\\\\1 & x = 0\\\\1 & x > 0\\end{cases}$$"
   ]
  },
  {
   "cell_type": "code",
   "execution_count": 7,
   "id": "private-campbell",
   "metadata": {},
   "outputs": [
    {
     "data": {
      "image/png": "[encoded data removed]",
      "text/plain": [
       "<Figure size 432x288 with 1 Axes>"
      ]
     },
     "metadata": {
      "needs_background": "light"
     },
     "output_type": "display_data"
    }
   ],
   "source": [
    "x = np.arange(-2,2,0.01)\n",
    "y = np.heaviside(x, 1)\n",
    "\n",
    "plt.plot(x,y)\n",
    "plt.show()"
   ]
  },
  {
   "cell_type": "code",
   "execution_count": 8,
   "id": "specific-essay",
   "metadata": {},
   "outputs": [],
   "source": [
    "def pd_build_up(td, td_p):\n",
    "    \"\"\"\n",
    "    расчет давления для запуска и последующей остановки скважины\n",
    "    td - время после запуска\n",
    "    td_p - время безразмерное - которое скважина работала до остановки\n",
    "    \"\"\"\n",
    "\n",
    "    return pd_ei(td) - np.heaviside(td-td_p,1) * pd_ei(td-td_p)\n",
    "    "
   ]
  },
  {
   "cell_type": "code",
   "execution_count": 9,
   "id": "covered-juice",
   "metadata": {},
   "outputs": [],
   "source": [
    "t_arr = np.arange(1e-3, 48, 1e-2)"
   ]
  },
  {
   "cell_type": "code",
   "execution_count": 10,
   "id": "representative-extra",
   "metadata": {},
   "outputs": [],
   "source": [
    "# переведем размерный массив време в безразмерные величины\n",
    "td_arr = td_from_t(t_arr)"
   ]
  },
  {
   "cell_type": "code",
   "execution_count": 11,
   "id": "tight-reminder",
   "metadata": {},
   "outputs": [
    {
     "name": "stdout",
     "output_type": "stream",
     "text": [
      "4319999.999999999\n"
     ]
    }
   ],
   "source": [
    "td_prod = td_from_t(t_p_hr)\n",
    "print(td_prod)"
   ]
  },
  {
   "cell_type": "code",
   "execution_count": 12,
   "id": "dependent-percentage",
   "metadata": {},
   "outputs": [],
   "source": [
    "pd_arr = pd_build_up(td_arr, td_prod)"
   ]
  },
  {
   "cell_type": "code",
   "execution_count": 13,
   "id": "subjective-wholesale",
   "metadata": {},
   "outputs": [
    {
     "data": {
      "image/png": "[encoded data removed]",
      "text/plain": [
       "<Figure size 432x288 with 1 Axes>"
      ]
     },
     "metadata": {
      "needs_background": "light"
     },
     "output_type": "display_data"
    }
   ],
   "source": [
    "plt.plot(td_arr, pd_arr)\n",
    "plt.xlabel('td')\n",
    "plt.ylabel('pd')\n",
    "plt.show()"
   ]
  },
  {
   "cell_type": "code",
   "execution_count": 14,
   "id": "inappropriate-grass",
   "metadata": {},
   "outputs": [],
   "source": [
    "p_arr = p_from_pd_atma(pd_arr)"
   ]
  },
  {
   "cell_type": "code",
   "execution_count": 15,
   "id": "cross-return",
   "metadata": {},
   "outputs": [
    {
     "data": {
      "image/png": "[encoded data removed]",
      "text/plain": [
       "<Figure size 432x288 with 1 Axes>"
      ]
     },
     "metadata": {
      "needs_background": "light"
     },
     "output_type": "display_data"
    }
   ],
   "source": [
    "plt.plot(t_arr, p_arr)\n",
    "plt.xlabel('t')\n",
    "plt.ylabel('p')\n",
    "plt.show()"
   ]
  },
  {
   "cell_type": "markdown",
   "id": "collected-change",
   "metadata": {},
   "source": [
    "# случай для произвольной истории дебитов"
   ]
  },
  {
   "cell_type": "code",
   "execution_count": 16,
   "id": "substantial-meaning",
   "metadata": {},
   "outputs": [],
   "source": [
    "import pandas as pd"
   ]
  },
  {
   "cell_type": "code",
   "execution_count": 154,
   "id": "funky-application",
   "metadata": {},
   "outputs": [],
   "source": [
    "# создадим историю изменения дебитов \n",
    "\n",
    "q_history = pd.DataFrame({'t_hr':[0,2,24 ], 'q_sm3day':[10,5,0]})"
   ]
  },
  {
   "cell_type": "code",
   "execution_count": 157,
   "id": "middle-killing",
   "metadata": {},
   "outputs": [
    {
     "data": {
      "image/png": "[encoded data removed]",
      "text/plain": [
       "<Figure size 432x288 with 1 Axes>"
      ]
     },
     "metadata": {
      "needs_background": "light"
     },
     "output_type": "display_data"
    }
   ],
   "source": [
    "plt.step(q_history.t_hr, q_history.q_sm3day, where = 'post')\n",
    "plt.xlabel('t, hr')\n",
    "plt.ylabel('q, m3/day')\n",
    "plt.show()"
   ]
  },
  {
   "cell_type": "code",
   "execution_count": 158,
   "id": "palestinian-decision",
   "metadata": {},
   "outputs": [
    {
     "data": {
      "text/html": [
       "<div>\n",
       "<style scoped>\n",
       "    .dataframe tbody tr th:only-of-type {\n",
       "        vertical-align: middle;\n",
       "    }\n",
       "\n",
       "    .dataframe tbody tr th {\n",
       "        vertical-align: top;\n",
       "    }\n",
       "\n",
       "    .dataframe thead th {\n",
       "        text-align: right;\n",
       "    }\n",
       "</style>\n",
       "<table border=\"1\" class=\"dataframe\">\n",
       "  <thead>\n",
       "    <tr style=\"text-align: right;\">\n",
       "      <th></th>\n",
       "      <th>t_hr</th>\n",
       "      <th>q_sm3day</th>\n",
       "    </tr>\n",
       "  </thead>\n",
       "  <tbody>\n",
       "    <tr>\n",
       "      <th>0</th>\n",
       "      <td>0</td>\n",
       "      <td>10</td>\n",
       "    </tr>\n",
       "    <tr>\n",
       "      <th>1</th>\n",
       "      <td>2</td>\n",
       "      <td>5</td>\n",
       "    </tr>\n",
       "    <tr>\n",
       "      <th>2</th>\n",
       "      <td>24</td>\n",
       "      <td>0</td>\n",
       "    </tr>\n",
       "  </tbody>\n",
       "</table>\n",
       "</div>"
      ],
      "text/plain": [
       "   t_hr  q_sm3day\n",
       "0     0        10\n",
       "1     2         5\n",
       "2    24         0"
      ]
     },
     "execution_count": 158,
     "metadata": {},
     "output_type": "execute_result"
    }
   ],
   "source": [
    "q_history"
   ]
  },
  {
   "cell_type": "markdown",
   "id": "prescribed-minister",
   "metadata": {},
   "source": [
    "Безразмерное давление \n",
    "$$ p_D = \\frac{kh}{ 18.41 q_s B \\mu} \\left( p_i - p \\right) $$\n",
    "\n",
    "выбор безразмерного давления зависит от дебита $q_s$\n",
    "\n",
    "$$p = \\sum_i p\\left(t=t-t_i,q={q_{i}-q_{i-1}}\\right)\\cdot \\theta(t-t_i)$$"
   ]
  },
  {
   "cell_type": "code",
   "execution_count": 183,
   "id": "indie-steering",
   "metadata": {},
   "outputs": [],
   "source": [
    "def p_superposition_atma(t_hr, df_history):\n",
    "    \"\"\"\n",
    "    расчет давления для запуска и последующей остановки скважины\n",
    "    t_hr - время после запуска в часах\n",
    "    df_history - расписание дебитов скважины в виде DataFrame - часы и дебиты с м3/сут\n",
    "                 должно быть отсортировано по времени\n",
    "    \"\"\"\n",
    "    dp=0      # создаем пустой список, куда будем возвращать результаты\n",
    "    td = td_from_t(t_hr)\n",
    "    q_ref = 10\n",
    "    \n",
    "    for index, row in df_history.iterrows():\n",
    "        \n",
    "        t_prod_hr = row['t_hr']     # время последнего изменения дебита\n",
    "        q_prod_sm3day = row['q_sm3day']  # последний дебит\n",
    "        \n",
    "        if index > 0:\n",
    "            q_delta_sm3day = q_history.iloc[index]['q_sm3day'] - q_history.iloc[index-1]['q_sm3day']\n",
    "        else:\n",
    "            q_delta_sm3day = q_history.iloc[index]['q_sm3day']\n",
    "        \n",
    "        \n",
    "        t_calc = t_hr - t_prod_hr     # время работы текущей мнимой скважины\n",
    "        td = td_from_t(t_calc)\n",
    "        \n",
    "        #print(t_prod_hr, q_delta_sm3day,  np.heaviside(t_calc, 1))\n",
    "        #print(p_from_pd_atma(q_delta_sm3day/q_ref * pd_ei(td)))\n",
    "        dp = dp + q_delta_sm3day/q_ref * pd_ei(td) * np.heaviside(t_calc, 1)\n",
    "    return p_from_pd_atma(dp, q_sm3day = q_ref)\n",
    "\n",
    "\n",
    "def q_superposition_sm3day(t_hr, df_history):\n",
    "    \"\"\"\n",
    "    расчет давления для запуска и последующей остановки скважины\n",
    "    t_hr - время после запуска в часах\n",
    "    df_history - расписание дебитов скважины в виде DataFrame - часы и дебиты с м3/сут\n",
    "                 должно быть отсортировано по времени\n",
    "    \"\"\"\n",
    "    dp=0      # создаем пустой список, куда будем возвращать результаты\n",
    "    td = td_from_t(t_hr)\n",
    "    q_ref = 10\n",
    "    \n",
    "    for index, row in df_history.iterrows():\n",
    "        \n",
    "        t_prod_hr = row['t_hr']     # время последнего изменения дебита\n",
    "        q_prod_sm3day = row['q_sm3day']  # последний дебит\n",
    "        \n",
    "        if t_hr < t_prod_hr:\n",
    "            return q_prod_sm3day\n"
   ]
  },
  {
   "cell_type": "code",
   "execution_count": 186,
   "id": "worldwide-facility",
   "metadata": {},
   "outputs": [
    {
     "ename": "ValueError",
     "evalue": "The truth value of an array with more than one element is ambiguous. Use a.any() or a.all()",
     "output_type": "error",
     "traceback": [
      "\u001b[1;31m---------------------------------------------------------------------------\u001b[0m",
      "\u001b[1;31mValueError\u001b[0m                                Traceback (most recent call last)",
      "\u001b[1;32m<ipython-input-186-35fc53be8f3a>\u001b[0m in \u001b[0;36m<module>\u001b[1;34m\u001b[0m\n\u001b[1;32m----> 1\u001b[1;33m \u001b[0mq_superposition_sm3day\u001b[0m\u001b[1;33m(\u001b[0m\u001b[0mt_arr\u001b[0m\u001b[1;33m,\u001b[0m \u001b[0mq_history\u001b[0m\u001b[1;33m)\u001b[0m\u001b[1;33m\u001b[0m\u001b[1;33m\u001b[0m\u001b[0m\n\u001b[0m",
      "\u001b[1;32m<ipython-input-183-a06b248231cb>\u001b[0m in \u001b[0;36mq_superposition_sm3day\u001b[1;34m(t_hr, df_history)\u001b[0m\n\u001b[0;32m     46\u001b[0m         \u001b[0mq_prod_sm3day\u001b[0m \u001b[1;33m=\u001b[0m \u001b[0mrow\u001b[0m\u001b[1;33m[\u001b[0m\u001b[1;34m'q_sm3day'\u001b[0m\u001b[1;33m]\u001b[0m  \u001b[1;31m# последний дебит\u001b[0m\u001b[1;33m\u001b[0m\u001b[1;33m\u001b[0m\u001b[0m\n\u001b[0;32m     47\u001b[0m \u001b[1;33m\u001b[0m\u001b[0m\n\u001b[1;32m---> 48\u001b[1;33m         \u001b[1;32mif\u001b[0m \u001b[0mt_hr\u001b[0m \u001b[1;33m<\u001b[0m \u001b[0mt_prod_hr\u001b[0m\u001b[1;33m:\u001b[0m\u001b[1;33m\u001b[0m\u001b[1;33m\u001b[0m\u001b[0m\n\u001b[0m\u001b[0;32m     49\u001b[0m             \u001b[1;32mreturn\u001b[0m \u001b[0mq_prod_sm3day\u001b[0m\u001b[1;33m\u001b[0m\u001b[1;33m\u001b[0m\u001b[0m\n",
      "\u001b[1;31mValueError\u001b[0m: The truth value of an array with more than one element is ambiguous. Use a.any() or a.all()"
     ]
    }
   ],
   "source": [
    "q_superposition_sm3day(t_arr, q_history)"
   ]
  },
  {
   "cell_type": "code",
   "execution_count": 199,
   "id": "finnish-signal",
   "metadata": {},
   "outputs": [
    {
     "data": {
      "text/plain": [
       "[<matplotlib.lines.Line2D at 0x1c141266280>]"
      ]
     },
     "execution_count": 199,
     "metadata": {},
     "output_type": "execute_result"
    },
    {
     "data": {
      "image/png": "[encoded data removed]",
      "text/plain": [
       "<Figure size 864x360 with 1 Axes>"
      ]
     },
     "metadata": {
      "needs_background": "light"
     },
     "output_type": "display_data"
    }
   ],
   "source": [
    "t_arr = np.arange(1e-5, 50, 1e-4)\n",
    "plt.rcParams[\"figure.figsize\"] = (12,5)\n",
    "\n",
    "fig, ax1 = plt.subplots(1,1)\n",
    "#ax1.step(q_history.t_hr, q_history.q_sm3day, where = 'post')\n",
    "#ax1.plot(t_arr, q_superposition_sm3day(t_arr, q_history)) \n",
    "ax1.plot(t_arr, p_superposition_atma(t_arr, q_history)) "
   ]
  },
  {
   "cell_type": "code",
   "execution_count": 201,
   "id": "favorite-protection",
   "metadata": {},
   "outputs": [
    {
     "data": {
      "image/png": "[encoded data removed]",
      "text/plain": [
       "<Figure size 864x144 with 1 Axes>"
      ]
     },
     "metadata": {
      "needs_background": "light"
     },
     "output_type": "display_data"
    }
   ],
   "source": [
    "\n",
    "q_history = pd.DataFrame({'t_hr':[0, 2, 10, 24, 24.1,24.2,24.3,24.4,24.5 ], 'q_sm3day':[10,11, 12,11,10,9,8,7, 6]})\n",
    "\n",
    "plt.rcParams[\"figure.figsize\"] = (12,2)\n",
    "plt.step(q_history.t_hr, q_history.q_sm3day, where = 'post')\n",
    "plt.xlabel('t, hr')\n",
    "plt.ylabel('q, m3/day')\n",
    "plt.show()"
   ]
  },
  {
   "cell_type": "code",
   "execution_count": 202,
   "id": "lovely-plain",
   "metadata": {},
   "outputs": [
    {
     "data": {
      "text/plain": [
       "[<matplotlib.lines.Line2D at 0x1c14543f790>]"
      ]
     },
     "execution_count": 202,
     "metadata": {},
     "output_type": "execute_result"
    },
    {
     "data": {
      "image/png": "[encoded data removed]",
      "text/plain": [
       "<Figure size 864x360 with 1 Axes>"
      ]
     },
     "metadata": {
      "needs_background": "light"
     },
     "output_type": "display_data"
    }
   ],
   "source": [
    "t_arr = np.arange(1e-5, 50, 1e-4)\n",
    "plt.rcParams[\"figure.figsize\"] = (12,5)\n",
    "\n",
    "fig, ax1 = plt.subplots(1,1)\n",
    "#ax1.step(q_history.t_hr, q_history.q_sm3day, where = 'post')\n",
    "#ax1.plot(t_arr, q_superposition_sm3day(t_arr, q_history)) \n",
    "ax1.plot(t_arr, p_superposition_atma(t_arr, q_history)) "
   ]
  },
  {
   "cell_type": "code",
   "execution_count": null,
   "id": "aggressive-alfred",
   "metadata": {},
   "outputs": [],
   "source": []
  }
 ],
 "metadata": {
  "kernelspec": {
   "display_name": "Python 3",
   "language": "python",
   "name": "python3"
  },
  "language_info": {
   "codemirror_mode": {
    "name": "ipython",
    "version": 3
   },
   "file_extension": ".py",
   "mimetype": "text/x-python",
   "name": "python",
   "nbconvert_exporter": "python",
   "pygments_lexer": "ipython3",
   "version": "3.9.2"
  }
 },
 "nbformat": 4,
 "nbformat_minor": 5
}
