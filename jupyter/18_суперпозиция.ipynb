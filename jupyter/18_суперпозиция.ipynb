{
 "cells": [
  {
   "cell_type": "markdown",
   "id": "permanent-guyana",
   "metadata": {},
   "source": [
    "Построение решения с учетом суперпозиции"
   ]
  },
  {
   "cell_type": "code",
   "execution_count": 1,
   "id": "modified-costa",
   "metadata": {},
   "outputs": [
    {
     "name": "stdout",
     "output_type": "stream",
     "text": [
      "Requirement already satisfied: anaflow in c:\\venv\\base\\lib\\site-packages (1.0.1)\n",
      "Requirement already satisfied: scipy>=1.1.0 in c:\\venv\\base\\lib\\site-packages (from anaflow) (1.6.2)\n",
      "Requirement already satisfied: numpy>=1.14.5 in c:\\venv\\base\\lib\\site-packages (from anaflow) (1.20.1)\n",
      "Requirement already satisfied: pentapy>=1.1.0 in c:\\venv\\base\\lib\\site-packages (from anaflow) (1.1.2)\n"
     ]
    }
   ],
   "source": [
    "!pip install anaflow"
   ]
  },
  {
   "cell_type": "code",
   "execution_count": 2,
   "id": "liberal-latvia",
   "metadata": {},
   "outputs": [],
   "source": [
    "# импортируем библиотки, которые могут пригодиться для проведения расчетов\n",
    "import numpy as np\n",
    "import matplotlib.pyplot as plt\n",
    "from anaflow import get_lap_inv\n",
    "from scipy.special import kn, iv, expi"
   ]
  },
  {
   "cell_type": "code",
   "execution_count": 3,
   "id": "increasing-procurement",
   "metadata": {},
   "outputs": [],
   "source": [
    "# определим функции для перевода размерных переменных в безразмерные и обратно\n",
    "# пригодится потом для построения графиков и ведения расчетов\n",
    "\n",
    "# при наименовании функций придерживаемся следующих соглашений\n",
    "# сначала идет название того, что считаем\n",
    "# в конце указывается размерность результата, если это уместно\n",
    "\n",
    "def r_from_rd_m(rd, rw_m=0.1):\n",
    "    \"\"\"\n",
    "    перевод безразмерного расстояния в размерное\n",
    "    rd -  безразмерное расстояние\n",
    "    rw_m -  радиус скважины, м\n",
    "    \"\"\"\n",
    "    return rd*rw_m\n",
    "\n",
    "def rd_from_r(r_m, rw_m=0.1):\n",
    "    \"\"\"\n",
    "    перевод размерного расстояния в безразмерное\n",
    "    r_m - размерное расстояние, м\n",
    "    rw_m - радиус скважины, м\n",
    "    \"\"\"\n",
    "    return r_m/rw_m\n",
    "\n",
    "def t_from_td_hr(td, k_mD=10, phi=0.2, mu_cP=1, ct_1atm=1e-5, rw_m=0.1):\n",
    "    \"\"\"\n",
    "    перевод безразмерного времени в размерное, результат в часах\n",
    "    td - безразмерное время\n",
    "    k_mD - проницаемость пласта, мД\n",
    "    phi - пористость, доли единиц\n",
    "    mu_cP - динамическая вязкость флюида, сП\n",
    "    ct_1atm - общая сжимаемость, 1/атм\n",
    "    rw_m - радиус скважины, м\n",
    "    \"\"\"\n",
    "    return td * phi * mu_cP * ct_1atm * rw_m * rw_m / k_mD / 0.00036\n",
    "\n",
    "def td_from_t(t_hr, k_mD=10, phi=0.2, mu_cP=1, ct_1atm=1e-5, rw_m=0.1):\n",
    "    \"\"\"\n",
    "    перевод размерного времени в безразмерное\n",
    "    t_hr - размерное время, час\n",
    "    k_mD - проницаемость пласта, мД\n",
    "    phi - пористость, доли единиц\n",
    "    mu_cP - динамическая вязкость флюида, сП\n",
    "    ct_1atm - общая сжимаемость, 1/атм\n",
    "    rw_m - радиус скважины, м\n",
    "    \"\"\"\n",
    "    return  0.00036 * t_hr * k_mD / (phi * mu_cP * ct_1atm * rw_m * rw_m) \n",
    "\n",
    "def p_from_pd_atma(pd, k_mD=10, h_m=10, q_sm3day=20, b_m3m3=1.2, mu_cP=1, pi_atma=250):\n",
    "    \"\"\"\n",
    "    перевод безразмерного давления в размерное, результат в абсолютных атмосферах\n",
    "    pd - безразмерное давление\n",
    "    k_mD - проницаемость пласта, мД\n",
    "    h_m - мощность пласта, м\n",
    "    q_sm3day - дебит на поверхности, м3/сут в с.у.\n",
    "    fvf_m3m3 - объемный коэффициент нефти, м3/м3\n",
    "    mu_cP - динамическая вязкость флюида, сП\n",
    "    pi_atma - начальное давление, абсолютные атм.\n",
    "    \"\"\"\n",
    "    return pi_atma - pd * 18.41 * q_sm3day * b_m3m3 * mu_cP / k_mD / h_m \n",
    "\n",
    "def pd_from_p(p_atma, k_mD=10, h_m=10, q_sm3day=20, b_m3m3=1.2, mu_cP=1, pi_atma=250):\n",
    "    \"\"\"\n",
    "    перевод размерного давления в безразмерное\n",
    "    p_atma - давление\n",
    "    k_mD - проницаемость пласта, мД\n",
    "    h_m - мощность пласта, м\n",
    "    q_sm3day - дебит на поверхности, м3/сут в с.у.\n",
    "    fvf_m3m3 - объемный коэффициент нефти, м3/м3\n",
    "    mu_cP - динамическая вязкость флюида, сП\n",
    "    pi_atma - начальное давление, абсолютные атм.\n",
    "    \"\"\"\n",
    "    return (pi_atma - p_atma) / (18.41 * q_sm3day * b_m3m3 * mu_cP) * k_mD * h_m "
   ]
  },
  {
   "cell_type": "code",
   "execution_count": 20,
   "id": "medical-neighbor",
   "metadata": {},
   "outputs": [],
   "source": [
    "# Решение линейного стока уравнения фильтрации\n",
    "def pd_ei(td, rd=1):\n",
    "    \"\"\"\n",
    "    Решение линейного стока уравнения фильтрации\n",
    "    rd - безразмерное расстояние\n",
    "    td - безразмерное время\n",
    "    \"\"\"\n",
    "    return -1/2*expi(-rd**2 / 4 / td)"
   ]
  },
  {
   "cell_type": "markdown",
   "id": "discrete-utilization",
   "metadata": {},
   "source": [
    "# простой случай - восстановление давления\n"
   ]
  },
  {
   "cell_type": "code",
   "execution_count": 6,
   "id": "comprehensive-vegetable",
   "metadata": {},
   "outputs": [],
   "source": [
    "t_p_hr = 24  # время работы скважины"
   ]
  },
  {
   "cell_type": "code",
   "execution_count": 21,
   "id": "applicable-writer",
   "metadata": {},
   "outputs": [],
   "source": [
    "def pd_build_up(td, td_p):\n",
    "    \"\"\"\n",
    "    расчет давления для запуска и последующей остановки скважины\n",
    "    td - время после запуска\n",
    "    td_p - время безразмерное - которое скважина работала до остановки\n",
    "    \"\"\"\n",
    "    p_d=[]\n",
    "    for ti in td:\n",
    "        if ti<td_p:\n",
    "            p_d.append(pd_ei(ti))\n",
    "        else:\n",
    "            p_d.append(pd_ei(ti) - pd_ei(td_p-ti))\n",
    "    return np.array(p_d)\n",
    "        "
   ]
  },
  {
   "cell_type": "code",
   "execution_count": 8,
   "id": "orange-morrison",
   "metadata": {},
   "outputs": [],
   "source": [
    "t_arr = np.arange(0.01, 48, 0.1)"
   ]
  },
  {
   "cell_type": "code",
   "execution_count": 11,
   "id": "distinguished-brunswick",
   "metadata": {},
   "outputs": [],
   "source": [
    "# переведем размерный массив време в безразмерные величины\n",
    "td_arr = td_from_t(t_arr)\n"
   ]
  },
  {
   "cell_type": "code",
   "execution_count": 14,
   "id": "asian-access",
   "metadata": {},
   "outputs": [
    {
     "name": "stdout",
     "output_type": "stream",
     "text": [
      "4319999.999999999\n"
     ]
    }
   ],
   "source": [
    "td_prod = td_from_t(t_p_hr)\n",
    "print(td_prod)"
   ]
  },
  {
   "cell_type": "code",
   "execution_count": 22,
   "id": "willing-donor",
   "metadata": {},
   "outputs": [],
   "source": [
    "pd_arr = pd_build_up(td_arr, td_prod)"
   ]
  },
  {
   "cell_type": "code",
   "execution_count": 25,
   "id": "balanced-drain",
   "metadata": {},
   "outputs": [
    {
     "data": {
      "image/png": "[encoded data removed]",
      "text/plain": [
       "<Figure size 432x288 with 1 Axes>"
      ]
     },
     "metadata": {
      "needs_background": "light"
     },
     "output_type": "display_data"
    }
   ],
   "source": [
    "plt.plot(td_arr, pd_arr)\n",
    "plt.xlabel('td')\n",
    "plt.ylabel('pd')\n",
    "plt.show()"
   ]
  },
  {
   "cell_type": "code",
   "execution_count": 26,
   "id": "united-authority",
   "metadata": {},
   "outputs": [],
   "source": [
    "p_arr = p_from_pd_atma(pd_arr)"
   ]
  },
  {
   "cell_type": "code",
   "execution_count": 27,
   "id": "reserved-wilderness",
   "metadata": {},
   "outputs": [
    {
     "data": {
      "image/png": "[encoded data removed]",
      "text/plain": [
       "<Figure size 432x288 with 1 Axes>"
      ]
     },
     "metadata": {
      "needs_background": "light"
     },
     "output_type": "display_data"
    }
   ],
   "source": [
    "plt.plot(t_arr, p_arr)\n",
    "plt.xlabel('t')\n",
    "plt.ylabel('p')\n",
    "plt.show()"
   ]
  },
  {
   "cell_type": "code",
   "execution_count": null,
   "id": "manufactured-dutch",
   "metadata": {},
   "outputs": [],
   "source": []
  }
 ],
 "metadata": {
  "kernelspec": {
   "display_name": "Python 3",
   "language": "python",
   "name": "python3"
  },
  "language_info": {
   "codemirror_mode": {
    "name": "ipython",
    "version": 3
   },
   "file_extension": ".py",
   "mimetype": "text/x-python",
   "name": "python",
   "nbconvert_exporter": "python",
   "pygments_lexer": "ipython3",
   "version": "3.9.2"
  }
 },
 "nbformat": 4,
 "nbformat_minor": 5
}
