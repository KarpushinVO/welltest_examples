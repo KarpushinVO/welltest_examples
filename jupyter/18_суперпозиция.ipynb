{
 "cells": [
  {
   "cell_type": "markdown",
   "id": "outside-knowing",
   "metadata": {},
   "source": [
    "Построение решения с учетом суперпозиции"
   ]
  },
  {
   "cell_type": "code",
   "execution_count": 1,
   "id": "expanded-comparison",
   "metadata": {},
   "outputs": [
    {
     "name": "stdout",
     "output_type": "stream",
     "text": [
      "Requirement already satisfied: anaflow in c:\\venv\\base\\lib\\site-packages (1.0.1)\n",
      "Requirement already satisfied: scipy>=1.1.0 in c:\\venv\\base\\lib\\site-packages (from anaflow) (1.6.2)\n",
      "Requirement already satisfied: numpy>=1.14.5 in c:\\venv\\base\\lib\\site-packages (from anaflow) (1.20.1)\n",
      "Requirement already satisfied: pentapy>=1.1.0 in c:\\venv\\base\\lib\\site-packages (from anaflow) (1.1.2)\n"
     ]
    }
   ],
   "source": [
    "!pip install anaflow"
   ]
  },
  {
   "cell_type": "code",
   "execution_count": 2,
   "id": "surprising-doubt",
   "metadata": {},
   "outputs": [],
   "source": [
    "# импортируем библиотки, которые могут пригодиться для проведения расчетов\n",
    "import numpy as np\n",
    "import matplotlib.pyplot as plt\n",
    "from anaflow import get_lap_inv\n",
    "from scipy.special import kn, iv, expi"
   ]
  },
  {
   "cell_type": "code",
   "execution_count": 3,
   "id": "thirty-warehouse",
   "metadata": {},
   "outputs": [],
   "source": [
    "# определим функции для перевода размерных переменных в безразмерные и обратно\n",
    "# пригодится потом для построения графиков и ведения расчетов\n",
    "\n",
    "# при наименовании функций придерживаемся следующих соглашений\n",
    "# сначала идет название того, что считаем\n",
    "# в конце указывается размерность результата, если это уместно\n",
    "\n",
    "def r_from_rd_m(rd, rw_m=0.1):\n",
    "    \"\"\"\n",
    "    перевод безразмерного расстояния в размерное\n",
    "    rd -  безразмерное расстояние\n",
    "    rw_m -  радиус скважины, м\n",
    "    \"\"\"\n",
    "    return rd*rw_m\n",
    "\n",
    "def rd_from_r(r_m, rw_m=0.1):\n",
    "    \"\"\"\n",
    "    перевод размерного расстояния в безразмерное\n",
    "    r_m - размерное расстояние, м\n",
    "    rw_m - радиус скважины, м\n",
    "    \"\"\"\n",
    "    return r_m/rw_m\n",
    "\n",
    "def t_from_td_hr(td, k_mD=10, phi=0.2, mu_cP=1, ct_1atm=1e-5, rw_m=0.1):\n",
    "    \"\"\"\n",
    "    перевод безразмерного времени в размерное, результат в часах\n",
    "    td - безразмерное время\n",
    "    k_mD - проницаемость пласта, мД\n",
    "    phi - пористость, доли единиц\n",
    "    mu_cP - динамическая вязкость флюида, сП\n",
    "    ct_1atm - общая сжимаемость, 1/атм\n",
    "    rw_m - радиус скважины, м\n",
    "    \"\"\"\n",
    "    return td * phi * mu_cP * ct_1atm * rw_m * rw_m / k_mD / 0.00036\n",
    "\n",
    "def td_from_t(t_hr, k_mD=10, phi=0.2, mu_cP=1, ct_1atm=1e-5, rw_m=0.1):\n",
    "    \"\"\"\n",
    "    перевод размерного времени в безразмерное\n",
    "    t_hr - размерное время, час\n",
    "    k_mD - проницаемость пласта, мД\n",
    "    phi - пористость, доли единиц\n",
    "    mu_cP - динамическая вязкость флюида, сП\n",
    "    ct_1atm - общая сжимаемость, 1/атм\n",
    "    rw_m - радиус скважины, м\n",
    "    \"\"\"\n",
    "    return  0.00036 * t_hr * k_mD / (phi * mu_cP * ct_1atm * rw_m * rw_m) \n",
    "\n",
    "def p_from_pd_atma(pd, k_mD=10, h_m=10, q_sm3day=20, b_m3m3=1.2, mu_cP=1, pi_atma=250):\n",
    "    \"\"\"\n",
    "    перевод безразмерного давления в размерное, результат в абсолютных атмосферах\n",
    "    pd - безразмерное давление\n",
    "    k_mD - проницаемость пласта, мД\n",
    "    h_m - мощность пласта, м\n",
    "    q_sm3day - дебит на поверхности, м3/сут в с.у.\n",
    "    fvf_m3m3 - объемный коэффициент нефти, м3/м3\n",
    "    mu_cP - динамическая вязкость флюида, сП\n",
    "    pi_atma - начальное давление, абсолютные атм.\n",
    "    \"\"\"\n",
    "    return pi_atma - pd * 18.41 * q_sm3day * b_m3m3 * mu_cP / k_mD / h_m \n",
    "\n",
    "def pd_from_p(p_atma, k_mD=10, h_m=10, q_sm3day=20, b_m3m3=1.2, mu_cP=1, pi_atma=250):\n",
    "    \"\"\"\n",
    "    перевод размерного давления в безразмерное\n",
    "    p_atma - давление\n",
    "    k_mD - проницаемость пласта, мД\n",
    "    h_m - мощность пласта, м\n",
    "    q_sm3day - дебит на поверхности, м3/сут в с.у.\n",
    "    fvf_m3m3 - объемный коэффициент нефти, м3/м3\n",
    "    mu_cP - динамическая вязкость флюида, сП\n",
    "    pi_atma - начальное давление, абсолютные атм.\n",
    "    \"\"\"\n",
    "    return (pi_atma - p_atma) / (18.41 * q_sm3day * b_m3m3 * mu_cP) * k_mD * h_m "
   ]
  },
  {
   "cell_type": "code",
   "execution_count": 4,
   "id": "selective-confidentiality",
   "metadata": {},
   "outputs": [],
   "source": [
    "# Решение линейного стока уравнения фильтрации\n",
    "def pd_ei(td, rd=1):\n",
    "    \"\"\"\n",
    "    Решение линейного стока уравнения фильтрации\n",
    "    rd - безразмерное расстояние\n",
    "    td - безразмерное время\n",
    "    \"\"\"\n",
    "    return -1/2*expi(-rd**2 / 4 / td)"
   ]
  },
  {
   "cell_type": "markdown",
   "id": "ambient-mobile",
   "metadata": {},
   "source": [
    "# простой случай - восстановление давления\n"
   ]
  },
  {
   "cell_type": "code",
   "execution_count": 5,
   "id": "miniature-employment",
   "metadata": {},
   "outputs": [],
   "source": [
    "t_p_hr = 24  # время работы скважины"
   ]
  },
  {
   "cell_type": "code",
   "execution_count": 6,
   "id": "important-desire",
   "metadata": {},
   "outputs": [],
   "source": [
    "def pd_build_up(td, td_p):\n",
    "    \"\"\"\n",
    "    расчет давления для запуска и последующей остановки скважины\n",
    "    td - время после запуска\n",
    "    td_p - время безразмерное - которое скважина работала до остановки\n",
    "    \"\"\"\n",
    "    p_d=[]\n",
    "    for ti in td:\n",
    "        if ti < td_p:\n",
    "            p_d.append(pd_ei(ti))\n",
    "        else:\n",
    "            p_d.append(pd_ei(ti) - pd_ei(td_p-ti))\n",
    "    return np.array(p_d)\n",
    "        "
   ]
  },
  {
   "cell_type": "markdown",
   "id": "social-financing",
   "metadata": {},
   "source": [
    "Функция Хевисайда\n",
    "\n",
    "$$ \\mathcal{H} = \\begin{cases}0 & x < 0\\\\1 & x = 0\\\\1 & x > 0\\end{cases}$$"
   ]
  },
  {
   "cell_type": "code",
   "execution_count": 7,
   "id": "composite-macedonia",
   "metadata": {},
   "outputs": [
    {
     "data": {
      "image/png": "[encoded data removed]",
      "text/plain": [
       "<Figure size 432x288 with 1 Axes>"
      ]
     },
     "metadata": {
      "needs_background": "light"
     },
     "output_type": "display_data"
    }
   ],
   "source": [
    "x = np.arange(-2,2,0.01)\n",
    "y = np.heaviside(x, 1)\n",
    "\n",
    "plt.plot(x,y)\n",
    "plt.show()"
   ]
  },
  {
   "cell_type": "code",
   "execution_count": 8,
   "id": "modified-klein",
   "metadata": {},
   "outputs": [],
   "source": [
    "def pd_build_up(td, td_p):\n",
    "    \"\"\"\n",
    "    расчет давления для запуска и последующей остановки скважины\n",
    "    td - время после запуска\n",
    "    td_p - время безразмерное - которое скважина работала до остановки\n",
    "    \"\"\"\n",
    "\n",
    "    return pd_ei(td) - np.heaviside(td-td_p,1) * pd_ei(td-td_p)\n",
    "    "
   ]
  },
  {
   "cell_type": "code",
   "execution_count": 9,
   "id": "secure-labor",
   "metadata": {},
   "outputs": [],
   "source": [
    "t_arr = np.arange(1e-3, 48, 1e-2)"
   ]
  },
  {
   "cell_type": "code",
   "execution_count": 10,
   "id": "advised-helicopter",
   "metadata": {},
   "outputs": [],
   "source": [
    "# переведем размерный массив време в безразмерные величины\n",
    "td_arr = td_from_t(t_arr)"
   ]
  },
  {
   "cell_type": "code",
   "execution_count": 11,
   "id": "liquid-french",
   "metadata": {},
   "outputs": [
    {
     "name": "stdout",
     "output_type": "stream",
     "text": [
      "4319999.999999999\n"
     ]
    }
   ],
   "source": [
    "td_prod = td_from_t(t_p_hr)\n",
    "print(td_prod)"
   ]
  },
  {
   "cell_type": "code",
   "execution_count": 12,
   "id": "subsequent-plymouth",
   "metadata": {},
   "outputs": [],
   "source": [
    "pd_arr = pd_build_up(td_arr, td_prod)"
   ]
  },
  {
   "cell_type": "code",
   "execution_count": 13,
   "id": "liked-offering",
   "metadata": {},
   "outputs": [
    {
     "data": {
      "image/png": "[encoded data removed]",
      "text/plain": [
       "<Figure size 432x288 with 1 Axes>"
      ]
     },
     "metadata": {
      "needs_background": "light"
     },
     "output_type": "display_data"
    }
   ],
   "source": [
    "plt.plot(td_arr, pd_arr)\n",
    "plt.xlabel('td')\n",
    "plt.ylabel('pd')\n",
    "plt.show()"
   ]
  },
  {
   "cell_type": "code",
   "execution_count": 14,
   "id": "chronic-religion",
   "metadata": {},
   "outputs": [],
   "source": [
    "p_arr = p_from_pd_atma(pd_arr)"
   ]
  },
  {
   "cell_type": "code",
   "execution_count": 15,
   "id": "referenced-formation",
   "metadata": {},
   "outputs": [
    {
     "data": {
      "image/png": "[encoded data removed]",
      "text/plain": [
       "<Figure size 432x288 with 1 Axes>"
      ]
     },
     "metadata": {
      "needs_background": "light"
     },
     "output_type": "display_data"
    }
   ],
   "source": [
    "plt.plot(t_arr, p_arr)\n",
    "plt.xlabel('t')\n",
    "plt.ylabel('p')\n",
    "plt.show()"
   ]
  },
  {
   "cell_type": "markdown",
   "id": "killing-penguin",
   "metadata": {},
   "source": [
    "# случай для произвольной истории дебитов"
   ]
  },
  {
   "cell_type": "code",
   "execution_count": 16,
   "id": "timely-poison",
   "metadata": {},
   "outputs": [],
   "source": [
    "import pandas as pd"
   ]
  },
  {
   "cell_type": "code",
   "execution_count": 17,
   "id": "arctic-arrest",
   "metadata": {},
   "outputs": [],
   "source": [
    "# создадим историю изменения дебитов \n",
    "\n",
    "q_history = pd.DataFrame({'t_hr':[0,24,48], 'q_sm3day':[20,15,0]})"
   ]
  },
  {
   "cell_type": "code",
   "execution_count": 18,
   "id": "explicit-israeli",
   "metadata": {},
   "outputs": [
    {
     "data": {
      "image/png": "[encoded data removed]",
      "text/plain": [
       "<Figure size 432x288 with 1 Axes>"
      ]
     },
     "metadata": {
      "needs_background": "light"
     },
     "output_type": "display_data"
    }
   ],
   "source": [
    "plt.step(q_history.t_hr, q_history.q_sm3day, where = 'post')\n",
    "plt.show()"
   ]
  },
  {
   "cell_type": "code",
   "execution_count": 19,
   "id": "arctic-africa",
   "metadata": {},
   "outputs": [
    {
     "data": {
      "text/html": [
       "<div>\n",
       "<style scoped>\n",
       "    .dataframe tbody tr th:only-of-type {\n",
       "        vertical-align: middle;\n",
       "    }\n",
       "\n",
       "    .dataframe tbody tr th {\n",
       "        vertical-align: top;\n",
       "    }\n",
       "\n",
       "    .dataframe thead th {\n",
       "        text-align: right;\n",
       "    }\n",
       "</style>\n",
       "<table border=\"1\" class=\"dataframe\">\n",
       "  <thead>\n",
       "    <tr style=\"text-align: right;\">\n",
       "      <th></th>\n",
       "      <th>t_hr</th>\n",
       "      <th>q_sm3day</th>\n",
       "    </tr>\n",
       "  </thead>\n",
       "  <tbody>\n",
       "    <tr>\n",
       "      <th>0</th>\n",
       "      <td>0</td>\n",
       "      <td>20</td>\n",
       "    </tr>\n",
       "    <tr>\n",
       "      <th>1</th>\n",
       "      <td>24</td>\n",
       "      <td>15</td>\n",
       "    </tr>\n",
       "    <tr>\n",
       "      <th>2</th>\n",
       "      <td>48</td>\n",
       "      <td>0</td>\n",
       "    </tr>\n",
       "  </tbody>\n",
       "</table>\n",
       "</div>"
      ],
      "text/plain": [
       "   t_hr  q_sm3day\n",
       "0     0        20\n",
       "1    24        15\n",
       "2    48         0"
      ]
     },
     "execution_count": 19,
     "metadata": {},
     "output_type": "execute_result"
    }
   ],
   "source": [
    "q_history"
   ]
  },
  {
   "cell_type": "markdown",
   "id": "numeric-glenn",
   "metadata": {},
   "source": [
    "Безразмерное давление \n",
    "$$ p_D = \\frac{kh}{ 18.41 q_s B \\mu} \\left( p_i - p \\right) $$\n",
    "\n",
    "выбор безразмерного давления зависит от дебита $q_s$\n",
    "\n",
    "$$p = \\sum_i p\\left(t=t-t_i,q={q_{i}-q_{i-1}}\\right)\\cdot \\theta(t-t_i)$$"
   ]
  },
  {
   "cell_type": "code",
   "execution_count": 20,
   "id": "charming-biography",
   "metadata": {},
   "outputs": [
    {
     "name": "stdout",
     "output_type": "stream",
     "text": [
      "0\n",
      "24\n",
      "48\n"
     ]
    }
   ],
   "source": [
    "for ti in q_history['t_hr']:\n",
    "    print(ti)"
   ]
  },
  {
   "cell_type": "code",
   "execution_count": 21,
   "id": "departmental-washer",
   "metadata": {},
   "outputs": [
    {
     "name": "stdout",
     "output_type": "stream",
     "text": [
      "10 100\n",
      "11 110\n",
      "12 120\n"
     ]
    }
   ],
   "source": [
    "df = pd.DataFrame({'c1': [10, 11, 12], 'c2': [100, 110, 120]})\n",
    "\n",
    "for index, row in df.iterrows():\n",
    "    print(row['c1'], row['c2'])"
   ]
  },
  {
   "cell_type": "code",
   "execution_count": 22,
   "id": "executive-teens",
   "metadata": {},
   "outputs": [
    {
     "data": {
      "text/plain": [
       "12"
      ]
     },
     "execution_count": 22,
     "metadata": {},
     "output_type": "execute_result"
    }
   ],
   "source": [
    "df.iloc[2]['c1']"
   ]
  },
  {
   "cell_type": "code",
   "execution_count": 23,
   "id": "moderate-giving",
   "metadata": {},
   "outputs": [],
   "source": [
    "def p_superposition_atma(t_hr, df_history):\n",
    "    \"\"\"\n",
    "    расчет давления для запуска и последующей остановки скважины\n",
    "    t_hr - время после запуска в часах\n",
    "    df_history - расписание дебитов скважины в виде DataFrame - часы и дебиты с м3/сут\n",
    "                 должно быть отсортировано по времени\n",
    "    \"\"\"\n",
    "    p_d=[]      # создаем пустой список, куда будем возвращать результаты\n",
    "    td = td_from_t(t_hr)\n",
    "    \n",
    "    for ti in td:\n",
    "        \n",
    "        if ti<td_p:\n",
    "            p_d.append(pd_ei(ti))\n",
    "        else:\n",
    "            p_d.append(pd_ei(ti) - pd_ei(td_p-ti))\n",
    "    \n",
    "    return np.array(p_d)\n",
    "        "
   ]
  }
 ],
 "metadata": {
  "kernelspec": {
   "display_name": "Python 3",
   "language": "python",
   "name": "python3"
  },
  "language_info": {
   "codemirror_mode": {
    "name": "ipython",
    "version": 3
   },
   "file_extension": ".py",
   "mimetype": "text/x-python",
   "name": "python",
   "nbconvert_exporter": "python",
   "pygments_lexer": "ipython3",
   "version": "3.9.2"
  }
 },
 "nbformat": 4,
 "nbformat_minor": 5
}
