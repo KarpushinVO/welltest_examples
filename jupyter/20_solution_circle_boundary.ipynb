{
 "cells": [
  {
   "cell_type": "markdown",
   "id": "stretch-toyota",
   "metadata": {},
   "source": [
    "# Построение решения с круговой границей"
   ]
  },
  {
   "cell_type": "code",
   "execution_count": 1,
   "id": "typical-priority",
   "metadata": {},
   "outputs": [
    {
     "name": "stdout",
     "output_type": "stream",
     "text": [
      "Requirement already satisfied: anaflow in c:\\venv\\base\\lib\\site-packages (1.0.1)\n",
      "Requirement already satisfied: numpy>=1.14.5 in c:\\venv\\base\\lib\\site-packages (from anaflow) (1.20.1)\n",
      "Requirement already satisfied: pentapy>=1.1.0 in c:\\venv\\base\\lib\\site-packages (from anaflow) (1.1.2)\n",
      "Requirement already satisfied: scipy>=1.1.0 in c:\\venv\\base\\lib\\site-packages (from anaflow) (1.6.2)\n"
     ]
    }
   ],
   "source": [
    "# для того, чтобы скрипты гладко работали на https://colab.research.google.com/ пропишем\n",
    "# установку библиотеки anaflow которую будем использовать для обратного преобразования Лапласа\n",
    "!pip install anaflow"
   ]
  },
  {
   "cell_type": "code",
   "execution_count": 31,
   "id": "therapeutic-stevens",
   "metadata": {},
   "outputs": [
    {
     "name": "stdout",
     "output_type": "stream",
     "text": [
      "Requirement already satisfied: welltest in c:\\venv\\base\\lib\\site-packages (0.1)\n",
      "Requirement already satisfied: numpy in c:\\venv\\base\\lib\\site-packages (from welltest) (1.20.1)\n",
      "Requirement already satisfied: anaflow in c:\\venv\\base\\lib\\site-packages (from welltest) (1.0.1)\n",
      "Requirement already satisfied: pentapy>=1.1.0 in c:\\venv\\base\\lib\\site-packages (from anaflow->welltest) (1.1.2)\n",
      "Requirement already satisfied: scipy>=1.1.0 in c:\\venv\\base\\lib\\site-packages (from anaflow->welltest) (1.6.2)\n"
     ]
    }
   ],
   "source": [
    "!pip install welltest"
   ]
  },
  {
   "cell_type": "code",
   "execution_count": 32,
   "id": "latin-morrison",
   "metadata": {},
   "outputs": [],
   "source": [
    "# импортируем библиотки, которые могут пригодиться для проведения расчетов\n",
    "import numpy as np\n",
    "import matplotlib.pyplot as plt\n",
    "from anaflow import get_lap_inv\n",
    "from scipy.special import kn, iv, expi\n",
    "\n",
    "import welltest.functions as wf"
   ]
  },
  {
   "cell_type": "markdown",
   "id": "developing-nashville",
   "metadata": {},
   "source": [
    "надо построить следующие решения\n",
    "\n",
    "\n",
    "$$ \\tilde{p}_D(u) = \\frac{1}{u} K_0 \\left( r_D \\sqrt u  \\right) $$\n",
    "\n",
    "$$ \\tilde{p}_D(u) = \\dfrac{ \\dfrac{K_0(\\sqrt{u})}{u\\sqrt{u}K_1(\\sqrt{u})} } {1-\\dfrac{K_1({r_{eD}\\sqrt{u}})}{I_1({r_{eD}\\sqrt{u}})} \\dfrac{I_1({\\sqrt{u}})}{K_1({\\sqrt{u}})}} - \n",
    "                    \\dfrac{ \\dfrac{I_0(\\sqrt{u})}{u\\sqrt{u}I_1(\\sqrt{u})} } {1-\\dfrac{I_1({r_{eD}\\sqrt{u}})}{K_1({r_{eD}\\sqrt{u}})} \\dfrac{K_1({\\sqrt{u}})}{I_1({\\sqrt{u}})}} $$"
   ]
  },
  {
   "cell_type": "code",
   "execution_count": 25,
   "id": "valued-desperate",
   "metadata": {},
   "outputs": [],
   "source": [
    "# функция расчета безразмерного давления с использованием алгоритма Стефеста\n",
    "# для численного обратного преобразования Лапласа\n",
    "def pd_circle_closed(u, rd=1, r_ed=1000):\n",
    "    \"\"\"\n",
    "    расчет решения в пространстве Лапласа для замкнутой круговой границы\n",
    "    u -  переменная пространства Лапласа\n",
    "    r_ed - безразмерный радиус контура\n",
    "    \"\"\"\n",
    "    sqrtu = u ** 0.5\n",
    "    r_ed_sqrtu = r_ed * sqrtu\n",
    "    \n",
    "    pd = (( kn(0, sqrtu) / (u*sqrtu*kn(1,sqrtu)) ) /\n",
    "         (1 - kn(1, r_ed_sqrtu) / iv(1, r_ed_sqrtu) * iv(1, sqrtu)/kn(1, sqrtu) ) - \n",
    "         ( iv(0, sqrtu) / (u*sqrtu*iv(1,sqrtu)) ) /\n",
    "         (1 - iv(1, r_ed_sqrtu) / kn(1, r_ed_sqrtu) * kn(1, sqrtu)/iv(1, sqrtu) ))\n",
    "    return pd\n",
    "\n",
    "# пример функции реализующий расчет решения в пространстве Лапласа\n",
    "def pd_lapl_finite_rw(u, rd=1):\n",
    "    \"\"\"\n",
    "    расчет решения c конечным радиусом скважины для безразмерного давления в пространстве Лапласа\n",
    "    u - переменная пространства Лапласа\n",
    "    rd- безразмерное расстояние от центра скважины\n",
    "    \"\"\"\n",
    "    return 1 / u**(3/2) * kn(0, rd * u**0.5) / kn(1, u**0.5)"
   ]
  },
  {
   "cell_type": "code",
   "execution_count": 15,
   "id": "documented-appeal",
   "metadata": {},
   "outputs": [],
   "source": [
    "# решение линейного стока в пространстве Лапласа\n",
    "def pd_lapl_wbs(pd_lapl, S=0, Cd=0):\n",
    "    def pdl(s, rd=1, S=0, Cd=0):\n",
    "        return 1 / s * (S + s * pd_lapl(s, rd=rd)) / (1 + s * Cd * (S + s * pd_lapl(s, rd=rd)))\n",
    "    return pdl"
   ]
  },
  {
   "cell_type": "code",
   "execution_count": 20,
   "id": "mineral-blast",
   "metadata": {},
   "outputs": [],
   "source": [
    "# построим функцию инвертирующую решение в пространстве Лапласа\n",
    "\n",
    "# функция расчета безразмерного давления с использованием алгоритма Стефеста\n",
    "# для численного обратного преобразования Лапласа\n",
    "def pd_inv(pd_lapl, td, rd, **kwargs):\n",
    "     \n",
    "    \n",
    "    if isinstance(rd, np.ndarray):\n",
    "        # если на входе массив, то вручную итерируем по всем элементам и \n",
    "        # собираем массив массивов\n",
    "        return np.array(list(map(lambda r: pd_inv(pd_lapl, td, rd=r, **kwargs), rd)))\n",
    "    else:\n",
    "        pd_inv_ = get_lap_inv(pd_lapl, rd=rd, **kwargs)\n",
    "        return pd_inv_(td)"
   ]
  },
  {
   "cell_type": "code",
   "execution_count": 16,
   "id": "unique-marks",
   "metadata": {},
   "outputs": [
    {
     "data": {
      "text/plain": [
       "0.6994839355937723"
      ]
     },
     "execution_count": 16,
     "metadata": {},
     "output_type": "execute_result"
    }
   ],
   "source": [
    "pd_circle_closed(1)"
   ]
  },
  {
   "cell_type": "code",
   "execution_count": 26,
   "id": "annoying-denial",
   "metadata": {},
   "outputs": [],
   "source": [
    "pd_circle_cl = pd_lapl_wbs(pd_circle_closed, S=5, Cd = 1e-3)\n",
    "pd_inf = pd_lapl_wbs(pd_lapl_finite_rw, S=5, Cd = 1e-3)"
   ]
  },
  {
   "cell_type": "code",
   "execution_count": 55,
   "id": "statistical-wholesale",
   "metadata": {},
   "outputs": [],
   "source": [
    "td_arr = np.linspace(1, 1e6, 10000)"
   ]
  },
  {
   "cell_type": "code",
   "execution_count": 56,
   "id": "convenient-chassis",
   "metadata": {},
   "outputs": [],
   "source": [
    "pd_arr_circe_cl = pd_inv(pd_circle_cl, td=td_arr, rd=1, S=0, Cd=10000)\n",
    "pd_arr_inf = pd_inv(pd_inf, td=td_arr, rd=1, S=0, Cd=10000)"
   ]
  },
  {
   "cell_type": "code",
   "execution_count": 57,
   "id": "apparent-number",
   "metadata": {},
   "outputs": [
    {
     "data": {
      "image/png": "[encoded data removed]",
      "text/plain": [
       "<Figure size 432x288 with 1 Axes>"
      ]
     },
     "metadata": {
      "needs_background": "light"
     },
     "output_type": "display_data"
    }
   ],
   "source": [
    "plt.plot(td_arr, pd_arr_circe_cl, label ='circle closed')\n",
    "plt.plot(td_arr, pd_arr_inf, label = 'infinite boundary')\n",
    "plt.legend()\n",
    "plt.show()"
   ]
  },
  {
   "cell_type": "code",
   "execution_count": 58,
   "id": "opponent-shark",
   "metadata": {},
   "outputs": [],
   "source": [
    "k=10\n",
    "q=50\n",
    "t_arr = wf.t_from_td_hr(td_arr, k_mD=k, ct_1atm=1e-4)\n",
    "p_arr_circle_cl = wf.p_from_pd_atma(pd_arr_circe_cl, k_mD=k, q_sm3day=q)\n",
    "p_arr_inf = wf.p_from_pd_atma(pd_arr_inf, k_mD=k, q_sm3day=q)"
   ]
  },
  {
   "cell_type": "code",
   "execution_count": 59,
   "id": "metallic-packet",
   "metadata": {},
   "outputs": [
    {
     "data": {
      "image/png": "[encoded data removed]",
      "text/plain": [
       "<Figure size 432x288 with 1 Axes>"
      ]
     },
     "metadata": {
      "needs_background": "light"
     },
     "output_type": "display_data"
    }
   ],
   "source": [
    "plt.plot(t_arr, p_arr_circle_cl, label ='circle closed')\n",
    "plt.plot(t_arr, p_arr_inf, label = 'infinite boundary')\n",
    "plt.legend()\n",
    "plt.show()"
   ]
  },
  {
   "cell_type": "code",
   "execution_count": 60,
   "id": "brazilian-aging",
   "metadata": {},
   "outputs": [
    {
     "data": {
      "image/png": "[encoded data removed]",
      "text/plain": [
       "<Figure size 432x288 with 1 Axes>"
      ]
     },
     "metadata": {
      "needs_background": "light"
     },
     "output_type": "display_data"
    }
   ],
   "source": [
    "plt.plot(t_arr, p_arr_circle_cl, label ='circle closed')\n",
    "plt.plot(t_arr, p_arr_inf, label = 'infinite boundary')\n",
    "plt.xscale('log')\n",
    "plt.legend()\n",
    "plt.show()"
   ]
  },
  {
   "cell_type": "code",
   "execution_count": null,
   "id": "editorial-female",
   "metadata": {},
   "outputs": [],
   "source": []
  },
  {
   "cell_type": "code",
   "execution_count": null,
   "id": "molecular-ministry",
   "metadata": {},
   "outputs": [],
   "source": []
  }
 ],
 "metadata": {
  "kernelspec": {
   "display_name": "Python 3",
   "language": "python",
   "name": "python3"
  },
  "language_info": {
   "codemirror_mode": {
    "name": "ipython",
    "version": 3
   },
   "file_extension": ".py",
   "mimetype": "text/x-python",
   "name": "python",
   "nbconvert_exporter": "python",
   "pygments_lexer": "ipython3",
   "version": "3.9.2"
  }
 },
 "nbformat": 4,
 "nbformat_minor": 5
}
