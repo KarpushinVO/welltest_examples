{
 "cells": [
  {
   "cell_type": "markdown",
   "id": "composed-smart",
   "metadata": {},
   "source": [
    "# Построение решения с круговой границей"
   ]
  },
  {
   "cell_type": "code",
   "execution_count": 1,
   "id": "suspected-finger",
   "metadata": {},
   "outputs": [
    {
     "name": "stdout",
     "output_type": "stream",
     "text": [
      "Requirement already satisfied: anaflow in c:\\venv\\base\\lib\\site-packages (1.0.1)\n",
      "Requirement already satisfied: numpy>=1.14.5 in c:\\venv\\base\\lib\\site-packages (from anaflow) (1.20.1)\n",
      "Requirement already satisfied: pentapy>=1.1.0 in c:\\venv\\base\\lib\\site-packages (from anaflow) (1.1.2)\n",
      "Requirement already satisfied: scipy>=1.1.0 in c:\\venv\\base\\lib\\site-packages (from anaflow) (1.6.2)\n"
     ]
    }
   ],
   "source": [
    "# для того, чтобы скрипты гладко работали на https://colab.research.google.com/ пропишем\n",
    "# установку библиотеки anaflow которую будем использовать для обратного преобразования Лапласа\n",
    "!pip install anaflow"
   ]
  },
  {
   "cell_type": "code",
   "execution_count": 31,
   "id": "active-karma",
   "metadata": {},
   "outputs": [
    {
     "name": "stdout",
     "output_type": "stream",
     "text": [
      "Requirement already satisfied: welltest in c:\\venv\\base\\lib\\site-packages (0.1)\n",
      "Requirement already satisfied: numpy in c:\\venv\\base\\lib\\site-packages (from welltest) (1.20.1)\n",
      "Requirement already satisfied: anaflow in c:\\venv\\base\\lib\\site-packages (from welltest) (1.0.1)\n",
      "Requirement already satisfied: pentapy>=1.1.0 in c:\\venv\\base\\lib\\site-packages (from anaflow->welltest) (1.1.2)\n",
      "Requirement already satisfied: scipy>=1.1.0 in c:\\venv\\base\\lib\\site-packages (from anaflow->welltest) (1.6.2)\n"
     ]
    }
   ],
   "source": [
    "!pip install welltest"
   ]
  },
  {
   "cell_type": "code",
   "execution_count": 32,
   "id": "offshore-chair",
   "metadata": {},
   "outputs": [],
   "source": [
    "# импортируем библиотки, которые могут пригодиться для проведения расчетов\n",
    "import numpy as np\n",
    "import matplotlib.pyplot as plt\n",
    "from anaflow import get_lap_inv\n",
    "from scipy.special import kn, iv, expi\n",
    "\n",
    "import welltest.functions as wf"
   ]
  },
  {
   "cell_type": "markdown",
   "id": "constitutional-zealand",
   "metadata": {},
   "source": [
    "надо построить следующие решения\n",
    "\n",
    "решение для забойного давления при замкнутой границе\n",
    "\n",
    "$$ \\tilde{p}_D(u) = \\dfrac{ \\dfrac{K_0(\\sqrt{u})}{u\\sqrt{u}K_1(\\sqrt{u})} } {1-\\dfrac{K_1({r_{eD}\\sqrt{u}})}{I_1({r_{eD}\\sqrt{u}})} \\dfrac{I_1({\\sqrt{u}})}{K_1({\\sqrt{u}})}} - \n",
    "                    \\dfrac{ \\dfrac{I_0(\\sqrt{u})}{u\\sqrt{u}I_1(\\sqrt{u})} } {1-\\dfrac{I_1({r_{eD}\\sqrt{u}})}{K_1({r_{eD}\\sqrt{u}})} \\dfrac{K_1({\\sqrt{u}})}{I_1({\\sqrt{u}})}} $$\n",
    "                    \n",
    "                    \n",
    "решение для забойного давления при границе постоянного давления\n",
    "\n",
    "$$ \\tilde{p}_D(u) = \\dfrac{ \\dfrac{K_0(\\sqrt{u})}{u\\sqrt{u}K_1(\\sqrt{u})} } {1+\\dfrac{K_1({r_{eD}\\sqrt{u}})}{I_1({r_{eD}\\sqrt{u}})} \\dfrac{I_1({\\sqrt{u}})}{K_1({\\sqrt{u}})}} - \n",
    "                    \\dfrac{ \\dfrac{I_0(\\sqrt{u})}{u\\sqrt{u}I_1(\\sqrt{u})} } {1+\\dfrac{I_1({r_{eD}\\sqrt{u}})}{K_1({r_{eD}\\sqrt{u}})} \\dfrac{K_1({\\sqrt{u}})}{I_1({\\sqrt{u}})}} $$"
   ]
  },
  {
   "cell_type": "code",
   "execution_count": 104,
   "id": "continuing-equality",
   "metadata": {},
   "outputs": [],
   "source": [
    "# функция расчета безразмерного давления с использованием алгоритма Стефеста\n",
    "# для численного обратного преобразования Лапласа\n",
    "def pd_circle_closed(u, rd=1, r_ed=1000):\n",
    "    \"\"\"\n",
    "    расчет решения в пространстве Лапласа для замкнутой круговой границы\n",
    "    u -  переменная пространства Лапласа\n",
    "    r_ed - безразмерный радиус контура\n",
    "    \"\"\"\n",
    "    sqrtu = u ** 0.5\n",
    "    r_ed_sqrtu = r_ed * sqrtu\n",
    "    \n",
    "    pd = (( kn(0, sqrtu) / (u*sqrtu*kn(1,sqrtu)) ) /\n",
    "         (1 - kn(1, r_ed_sqrtu) / iv(1, r_ed_sqrtu) * iv(1, sqrtu)/kn(1, sqrtu) ) - \n",
    "         ( iv(0, sqrtu) / (u*sqrtu*iv(1,sqrtu)) ) /\n",
    "         (1 - iv(1, r_ed_sqrtu) / kn(1, r_ed_sqrtu) * kn(1, sqrtu)/iv(1, sqrtu) ))\n",
    "    return pd\n",
    "\n",
    "\n",
    "def pd_circle_closed_(u, rd=1, r_ed=1000):\n",
    "    \"\"\"\n",
    "    как в excel\n",
    "    \"\"\"\n",
    "    \n",
    "    uK1 = u ** 0.5 * kn(1, u ** 0.5)\n",
    "    uI1 = u ** 0.5 * iv(1, u ** 0.5)\n",
    "    \n",
    "    # to avoid division by zero set limit values of normalizing coefficients\n",
    "    #if u ** 0.5 * r_ed > 700:\n",
    "    #    K1r = 0\n",
    "    #    I1r = 1\n",
    "    #else:\n",
    "    K1r = kn(1, u ** 0.5 * r_ed)\n",
    "    I1r = iv(1, u ** 0.5 * r_ed)\n",
    "       \n",
    "    #if u ** 0.5 * r_ed > 700:\n",
    "    #    K0r = 0\n",
    "    #    I0r = 1\n",
    "    #else:\n",
    "    K0r = kn(0, u ** 0.5 * r_ed)\n",
    "    I0r = iv(0, u ** 0.5 * r_ed)\n",
    "\n",
    "    K0 = kn(0, u ** 0.5)\n",
    "    I0 = iv(0, u ** 0.5)\n",
    "\n",
    "    return  (I1r * K0 + K1r * I0) / (u * (I1r * uK1 - K1r * uI1))\n",
    "    \"\"\"\n",
    "    Select Case BoundaryType\n",
    "    Case 1 'no flow\n",
    "     Pd = (I1r * K0 + K1r * I0) / (Z * (I1r * zK1 - K1r * zI1))\n",
    "    Case 2 'constant pressure\n",
    "     Pd = (I0r * K0 - K0r * I0) / (Z * (I0r * zK1 + K0r * zI1))\n",
    "    End Select\n",
    "    \"\"\"\n",
    "\n",
    "\n",
    "def pd_circle_const_pressure_(u, rd=1, r_ed=1000):\n",
    "    \"\"\"\n",
    "    как в excel\n",
    "    \"\"\"\n",
    "    \n",
    "    uK1 = u ** 0.5 * kn(1, u ** 0.5)\n",
    "    uI1 = u ** 0.5 * iv(1, u ** 0.5)\n",
    "    \n",
    "    # to avoid division by zero set limit values of normalizing coefficients\n",
    "    #if u ** 0.5 * r_ed > 700:\n",
    "    #    K1r = 0\n",
    "    #    I1r = 1\n",
    "    #else:\n",
    "\n",
    "    K1r = kn(1, u ** 0.5 * r_ed)\n",
    "    I1r = iv(1, u ** 0.5 * r_ed)\n",
    "       \n",
    "    #if u ** 0.5 * r_ed > 700:\n",
    "    #    K0r = 0\n",
    "    #    I0r = 1\n",
    "    #else:\n",
    "    K0r = kn(0, u ** 0.5 * r_ed)\n",
    "    I0r = iv(0, u ** 0.5 * r_ed)\n",
    "\n",
    "    K0 = kn(0, u ** 0.5)\n",
    "    I0 = iv(0, u ** 0.5)\n",
    "\n",
    "    return  (I0r * K0 - K0r * I0) / (u * (I0r * uK1 + K0r * uI1))\n",
    "    \"\"\"\n",
    "    Select Case BoundaryType\n",
    "    Case 1 'no flow\n",
    "     Pd = (I1r * K0 + K1r * I0) / (Z * (I1r * zK1 - K1r * zI1))\n",
    "    Case 2 'constant pressure\n",
    "     Pd = (I0r * K0 - K0r * I0) / (Z * (I0r * zK1 + K0r * zI1))\n",
    "    End Select\n",
    "    \"\"\"\n",
    "\n",
    "# функция расчета безразмерного давления с использованием алгоритма Стефеста\n",
    "# для численного обратного преобразования Лапласа\n",
    "def pd_circle_const_pressure(u, rd=1, r_ed=1000):\n",
    "    \"\"\"\n",
    "    расчет решения в пространстве Лапласа для круговой границы c постоянным давлением\n",
    "    u -  переменная пространства Лапласа\n",
    "    r_ed - безразмерный радиус контура\n",
    "    \"\"\"\n",
    "    sqrtu = u ** 0.5\n",
    "    r_ed_sqrtu = r_ed * sqrtu\n",
    "    \n",
    "    pd = (( kn(0, sqrtu) / (u*sqrtu*kn(1,sqrtu)) ) /\n",
    "         (1 + kn(1, r_ed_sqrtu) / iv(1, r_ed_sqrtu) * iv(1, sqrtu)/kn(1, sqrtu) ) - \n",
    "         ( iv(0, sqrtu) / (u*sqrtu*iv(1,sqrtu)) ) /\n",
    "         (1 + iv(1, r_ed_sqrtu) / kn(1, r_ed_sqrtu) * kn(1, sqrtu)/iv(1, sqrtu) ))\n",
    "    return pd\n",
    "\n",
    "\n",
    "# пример функции реализующий расчет решения в пространстве Лапласа\n",
    "def pd_lapl_finite_rw(u, rd=1):\n",
    "    \"\"\"\n",
    "    расчет решения c конечным радиусом скважины для безразмерного давления в пространстве Лапласа\n",
    "    u - переменная пространства Лапласа\n",
    "    rd- безразмерное расстояние от центра скважины\n",
    "    \"\"\"\n",
    "    return 1 / u**(3/2) * kn(0, rd * u**0.5) / kn(1, u**0.5)"
   ]
  },
  {
   "cell_type": "code",
   "execution_count": 105,
   "id": "cheap-injection",
   "metadata": {},
   "outputs": [],
   "source": [
    "# решение линейного стока в пространстве Лапласа\n",
    "def pd_lapl_wbs(pd_lapl, S=0, Cd=0):\n",
    "    def pdl(s, rd=1, S=0, Cd=0):\n",
    "        return 1 / s * (S + s * pd_lapl(s, rd=rd)) / (1 + s * Cd * (S + s * pd_lapl(s, rd=rd)))\n",
    "    return pdl"
   ]
  },
  {
   "cell_type": "code",
   "execution_count": 106,
   "id": "educated-flood",
   "metadata": {},
   "outputs": [],
   "source": [
    "# построим функцию инвертирующую решение в пространстве Лапласа\n",
    "\n",
    "# функция расчета безразмерного давления с использованием алгоритма Стефеста\n",
    "# для численного обратного преобразования Лапласа\n",
    "def pd_inv(pd_lapl, td, rd, **kwargs):\n",
    "     \n",
    "    \n",
    "    if isinstance(rd, np.ndarray):\n",
    "        # если на входе массив, то вручную итерируем по всем элементам и \n",
    "        # собираем массив массивов\n",
    "        return np.array(list(map(lambda r: pd_inv(pd_lapl, td, rd=r, **kwargs), rd)))\n",
    "    else:\n",
    "        pd_inv_ = get_lap_inv(pd_lapl, rd=rd, **kwargs)\n",
    "        return pd_inv_(td)"
   ]
  },
  {
   "cell_type": "code",
   "execution_count": 107,
   "id": "exact-navigator",
   "metadata": {},
   "outputs": [
    {
     "data": {
      "text/plain": [
       "0.6994839355937723"
      ]
     },
     "execution_count": 107,
     "metadata": {},
     "output_type": "execute_result"
    }
   ],
   "source": [
    "pd_circle_closed(1)"
   ]
  },
  {
   "cell_type": "code",
   "execution_count": 108,
   "id": "blind-georgia",
   "metadata": {},
   "outputs": [],
   "source": [
    "pd_circle_cl = pd_lapl_wbs(pd_circle_closed, S=5, Cd = 1e-3)\n",
    "pd_circle_cl_ = pd_lapl_wbs(pd_circle_closed_, S=5, Cd = 1e-3)\n",
    "pd_circle_const_pressure = pd_lapl_wbs(pd_circle_const_pressure, S=5, Cd = 1e-3)\n",
    "pd_circle_const_pressure_ = pd_lapl_wbs(pd_circle_const_pressure_, S=5, Cd = 1e-3)\n",
    "pd_inf = pd_lapl_wbs(pd_lapl_finite_rw, S=5, Cd = 1e-3)"
   ]
  },
  {
   "cell_type": "code",
   "execution_count": 109,
   "id": "searching-wiring",
   "metadata": {},
   "outputs": [],
   "source": [
    "td_arr = np.linspace(1, 1e6, 1000)"
   ]
  },
  {
   "cell_type": "code",
   "execution_count": 110,
   "id": "contemporary-nickname",
   "metadata": {},
   "outputs": [
    {
     "name": "stderr",
     "output_type": "stream",
     "text": [
      "<ipython-input-104-04131404c05b>:45: RuntimeWarning: invalid value encountered in true_divide\n",
      "  return  (I1r * K0 + K1r * I0) / (u * (I1r * uK1 - K1r * uI1))\n",
      "<ipython-input-104-04131404c05b>:83: RuntimeWarning: invalid value encountered in true_divide\n",
      "  return  (I0r * K0 - K0r * I0) / (u * (I0r * uK1 + K0r * uI1))\n"
     ]
    }
   ],
   "source": [
    "pd_arr_circe_cl = pd_inv(pd_circle_cl, td=td_arr, rd=1, S=0, Cd=0)\n",
    "pd_arr_circe_cl_ = pd_inv(pd_circle_cl_, td=td_arr, rd=1, S=0, Cd=0)\n",
    "pd_arr_circe_const_pressure = pd_inv(pd_circle_const_pressure, td=td_arr, rd=1, S=0, Cd=0)\n",
    "pd_arr_circe_const_pressure_ = pd_inv(pd_circle_const_pressure_, td=td_arr, rd=1, S=0, Cd=0)\n",
    "pd_arr_inf = pd_inv(pd_inf, td=td_arr, rd=1, S=0, Cd=0)"
   ]
  },
  {
   "cell_type": "code",
   "execution_count": 113,
   "id": "solid-democrat",
   "metadata": {},
   "outputs": [
    {
     "data": {
      "image/png": "[encoded data removed]",
      "text/plain": [
       "<Figure size 432x288 with 1 Axes>"
      ]
     },
     "metadata": {
      "needs_background": "light"
     },
     "output_type": "display_data"
    }
   ],
   "source": [
    "plt.plot(td_arr, pd_arr_circe_cl, label ='circle closed')\n",
    "plt.plot(td_arr, pd_arr_circe_cl_, label ='circle closed 2')\n",
    "plt.plot(td_arr, pd_arr_circe_const_pressure, label ='circle const pressure')\n",
    "plt.plot(td_arr, pd_arr_circe_const_pressure_, label ='circle const pressure 2')\n",
    "plt.plot(td_arr, pd_arr_inf, label = 'infinite boundary')\n",
    "plt.legend()\n",
    "plt.show()"
   ]
  },
  {
   "cell_type": "code",
   "execution_count": 114,
   "id": "human-slope",
   "metadata": {},
   "outputs": [],
   "source": [
    "k=10\n",
    "q=50\n",
    "t_arr = wf.t_from_td_hr(td_arr, k_mD=k, ct_1atm=1e-4)\n",
    "p_arr_circle_cl = wf.p_from_pd_atma(pd_arr_circe_cl, k_mD=k, q_sm3day=q)\n",
    "p_arr_circle_cl_ = wf.p_from_pd_atma(pd_arr_circe_cl_, k_mD=k, q_sm3day=q)\n",
    "p_arr_circle_const_pressure = wf.p_from_pd_atma(pd_arr_circe_const_pressure, k_mD=k, q_sm3day=q)\n",
    "p_arr_circle_const_pressure_ = wf.p_from_pd_atma(pd_arr_circe_const_pressure_, k_mD=k, q_sm3day=q)\n",
    "p_arr_inf = wf.p_from_pd_atma(pd_arr_inf, k_mD=k, q_sm3day=q)"
   ]
  },
  {
   "cell_type": "code",
   "execution_count": 115,
   "id": "respiratory-czech",
   "metadata": {},
   "outputs": [
    {
     "data": {
      "image/png": "[encoded data removed]",
      "text/plain": [
       "<Figure size 432x288 with 1 Axes>"
      ]
     },
     "metadata": {
      "needs_background": "light"
     },
     "output_type": "display_data"
    }
   ],
   "source": [
    "plt.plot(t_arr, p_arr_circle_cl, label ='circle closed')\n",
    "plt.plot(t_arr, p_arr_circle_const_pressure, label ='circle const pressure')\n",
    "plt.plot(t_arr, p_arr_circle_cl_, label ='circle closed')\n",
    "plt.plot(t_arr, p_arr_circle_const_pressure_, label ='circle const pressure')\n",
    "plt.plot(t_arr, p_arr_inf, label = 'infinite boundary')\n",
    "plt.legend()\n",
    "plt.show()"
   ]
  },
  {
   "cell_type": "code",
   "execution_count": 116,
   "id": "loose-jacksonville",
   "metadata": {},
   "outputs": [
    {
     "data": {
      "image/png": "[encoded data removed]",
      "text/plain": [
       "<Figure size 432x288 with 1 Axes>"
      ]
     },
     "metadata": {
      "needs_background": "light"
     },
     "output_type": "display_data"
    }
   ],
   "source": [
    "plt.plot(t_arr, p_arr_circle_cl, label ='circle closed')\n",
    "plt.plot(t_arr, p_arr_circle_const_pressure, label ='circle const pressure')\n",
    "plt.plot(t_arr, p_arr_circle_cl_, label ='circle closed')\n",
    "plt.plot(t_arr, p_arr_circle_const_pressure_, label ='circle const pressure')\n",
    "plt.plot(t_arr, p_arr_inf, label = 'infinite boundary')\n",
    "plt.xscale('log')\n",
    "plt.legend()\n",
    "plt.show()"
   ]
  },
  {
   "cell_type": "code",
   "execution_count": null,
   "id": "continental-possession",
   "metadata": {},
   "outputs": [],
   "source": []
  },
  {
   "cell_type": "code",
   "execution_count": null,
   "id": "outside-stopping",
   "metadata": {},
   "outputs": [],
   "source": []
  }
 ],
 "metadata": {
  "kernelspec": {
   "display_name": "Python 3",
   "language": "python",
   "name": "python3"
  },
  "language_info": {
   "codemirror_mode": {
    "name": "ipython",
    "version": 3
   },
   "file_extension": ".py",
   "mimetype": "text/x-python",
   "name": "python",
   "nbconvert_exporter": "python",
   "pygments_lexer": "ipython3",
   "version": "3.9.2"
  }
 },
 "nbformat": 4,
 "nbformat_minor": 5
}
